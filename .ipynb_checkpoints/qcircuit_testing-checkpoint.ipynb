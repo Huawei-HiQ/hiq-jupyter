{
 "cells": [
  {
   "cell_type": "code",
   "execution_count": null,
   "metadata": {},
   "outputs": [],
   "source": []
  },
  {
   "cell_type": "code",
   "execution_count": 1,
   "metadata": {},
   "outputs": [
    {
     "name": "stdout",
     "output_type": "stream",
     "text": [
      "(Note: This is the (slow) Python simulator.)\n"
     ]
    }
   ],
   "source": [
    "%load_ext autoreload\n",
    "%autoreload 2\n",
    "from qcircuit import QCircuit, Classic, Qubit, Qureg\n",
    "from IPython.display import display\n",
    "\n",
    "from projectq import MainEngine  # import the main compiler engine\n",
    "from projectq.ops import X, H, Measure  # import the operations we want to perform (Hadamard and measurement)\n",
    "\n",
    "eng = MainEngine()  # create a default compiler (the back-end is a simulator)"
   ]
  },
  {
   "cell_type": "code",
   "execution_count": 21,
   "metadata": {},
   "outputs": [
    {
     "name": "stdout",
     "output_type": "stream",
     "text": [
      "inited\n"
     ]
    }
   ],
   "source": [
    "circuit = QCircuit(ancilla=Qubit, qregs=(1, ), t5=Classic)\n",
    "display(circuit)"
   ]
  },
  {
   "cell_type": "code",
   "execution_count": 3,
   "metadata": {},
   "outputs": [
    {
     "name": "stdout",
     "output_type": "stream",
     "text": [
      "inited\n"
     ]
    }
   ],
   "source": [
    "circuit333 = QCircuit( qregs=(2, ), t1=Classic)\n",
    "display(circuit333)"
   ]
  },
  {
   "cell_type": "code",
   "execution_count": 69,
   "metadata": {},
   "outputs": [
    {
     "name": "stdout",
     "output_type": "stream",
     "text": [
      "Debug:  H  |  ancilla\n",
      "Debug:  M  |  qregs\n",
      "Debug:  X  with Control( ['1'] )\n",
      "Measured 0\n",
      "Measured 0\n"
     ]
    }
   ],
   "source": [
    "classic_shit = 4\n",
    "qubit = eng.allocate_qubit()  # allocate 1 qubit\n",
    "my_qureg = eng.allocate_qureg(4)  # allocate 1 qubit\n",
    "\n",
    "circuit(eng, ancilla=qubit, qregs=my_qureg, classic_shit)\n",
    "\n",
    "Measure | my_qureg[0]\n",
    "Measure | my_qureg[1]\n",
    "eng.flush()  # flush all gates (and execute measurements)\n",
    "print(\"Measured {}\".format(int(my_qureg[0])))  # output measurement result\n",
    "print(\"Measured {}\".format(int(my_qureg[1])))  # output measurement result"
   ]
  },
  {
   "cell_type": "code",
   "execution_count": 5,
   "metadata": {},
   "outputs": [
    {
     "ename": "TypeError",
     "evalue": "run() got an unexpected keyword argument 'ancilla'",
     "output_type": "error",
     "traceback": [
      "\u001b[1;31m---------------------------------------------------------------------------\u001b[0m",
      "\u001b[1;31mTypeError\u001b[0m                                 Traceback (most recent call last)",
      "\u001b[1;32m<ipython-input-5-ccade892744b>\u001b[0m in \u001b[0;36m<module>\u001b[1;34m\u001b[0m\n\u001b[0;32m      5\u001b[0m \u001b[1;31m#All(H) | Q\u001b[0m\u001b[1;33m\u001b[0m\u001b[1;33m\u001b[0m\u001b[1;33m\u001b[0m\u001b[0m\n\u001b[0;32m      6\u001b[0m \u001b[1;33m\u001b[0m\u001b[0m\n\u001b[1;32m----> 7\u001b[1;33m \u001b[0mcircuit\u001b[0m\u001b[1;33m.\u001b[0m\u001b[0mrun\u001b[0m\u001b[1;33m(\u001b[0m\u001b[0meng\u001b[0m\u001b[1;33m,\u001b[0m \u001b[0mancilla\u001b[0m\u001b[1;33m=\u001b[0m\u001b[0mq\u001b[0m\u001b[1;33m,\u001b[0m \u001b[0mqureg\u001b[0m\u001b[1;33m=\u001b[0m\u001b[0mQ\u001b[0m\u001b[1;33m)\u001b[0m\u001b[1;33m\u001b[0m\u001b[1;33m\u001b[0m\u001b[0m\n\u001b[0m\u001b[0;32m      8\u001b[0m \u001b[1;33m\u001b[0m\u001b[0m\n\u001b[0;32m      9\u001b[0m \u001b[0mMeasure\u001b[0m \u001b[1;33m|\u001b[0m \u001b[0mq\u001b[0m  \u001b[1;31m# measure the qubit\u001b[0m\u001b[1;33m\u001b[0m\u001b[1;33m\u001b[0m\u001b[0m\n",
      "\u001b[1;31mTypeError\u001b[0m: run() got an unexpected keyword argument 'ancilla'"
     ]
    }
   ],
   "source": [
    "q = eng.allocate_qubit()\n",
    "Q = eng.allocate_qureg(8)\n",
    "\n",
    "#X | q\n",
    "#All(H) | Q\n",
    "\n",
    "circuit.run(eng, ancilla=q, qureg=Q)\n",
    "\n",
    "Measure | q  # measure the qubit\n",
    "\n",
    "eng.flush()  # flush all gates (and execute measurements)\n",
    "print(\"Measured {}\".format(int(q)))  # output measurement result"
   ]
  },
  {
   "cell_type": "code",
   "execution_count": 12,
   "metadata": {},
   "outputs": [
    {
     "data": {
      "text/plain": [
       "[['', '', '', '', ''],\n",
       " ['', 'X', '', '', ''],\n",
       " ['', '', '', '', '', 'M'],\n",
       " ['', '', '', '', 'H'],\n",
       " ['', 'Y', '', '', ''],\n",
       " ['', '', '', '', '']]"
      ]
     },
     "execution_count": 12,
     "metadata": {},
     "output_type": "execute_result"
    }
   ],
   "source": [
    "circuit.circuit_scheme['content']['data']['qschema']"
   ]
  },
  {
   "cell_type": "code",
   "execution_count": 11,
   "metadata": {},
   "outputs": [],
   "source": [
    "circuit.setCircuit([[\"\"], [\"\"], [\"X\",\"\",\"\",\"X-0,3\",\"\",\"M\"],[\"\",\"\",\"\",\"\",\"H\"],[\"\",\"Y\"]])"
   ]
  },
  {
   "cell_type": "code",
   "execution_count": 5,
   "metadata": {},
   "outputs": [
    {
     "data": {
      "text/plain": [
       "['str', '4']"
      ]
     },
     "execution_count": 5,
     "metadata": {},
     "output_type": "execute_result"
    }
   ],
   "source": [
    "\"str,4\".split(\",\")"
   ]
  },
  {
   "cell_type": "code",
   "execution_count": null,
   "metadata": {},
   "outputs": [],
   "source": [
    "Out[2]"
   ]
  },
  {
   "cell_type": "code",
   "execution_count": null,
   "metadata": {},
   "outputs": [],
   "source": []
  }
 ],
 "metadata": {
  "anaconda-cloud": {},
  "kernelspec": {
   "display_name": "Python 3",
   "language": "python",
   "name": "python3"
  },
  "language_info": {
   "codemirror_mode": {
    "name": "ipython",
    "version": 3
   },
   "file_extension": ".py",
   "mimetype": "text/x-python",
   "name": "python",
   "nbconvert_exporter": "python",
   "pygments_lexer": "ipython3",
   "version": "3.7.1"
  }
 },
 "nbformat": 4,
 "nbformat_minor": 1
}
