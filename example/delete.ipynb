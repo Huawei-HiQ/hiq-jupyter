{
 "cells": [
  {
   "cell_type": "code",
   "execution_count": 1,
   "metadata": {},
   "outputs": [],
   "source": [
    "%load_ext autoreload\n",
    "%autoreload 2\n",
    "import math\n",
    "\n",
    "from projectq import MainEngine\n",
    "from projectq.ops import H, Z, X, Measure, All\n",
    "from projectq.meta import Loop, Compute, Uncompute, Control\n",
    "\n",
    "from qcircuit import QCircuit, Classic, Qubit, Qureg\n"
   ]
  },
  {
   "cell_type": "code",
   "execution_count": 2,
   "metadata": {
    "_hiq_info": {
     "comm_id": "jupyter_react.e98452ce-2acb-4406-af24-fd3e39b9b57f.QCircuit",
     "msg": {
      "buffers": [],
      "channel": "iopub",
      "content": {
       "comm_id": "jupyter_react.e98452ce-2acb-4406-af24-fd3e39b9b57f.QCircuit",
       "data": {
        "method": "display"
       }
      },
      "header": {
       "date": "2019-11-13T14:27:48.329634Z",
       "msg_id": "bcb61382-d37bc0c491adc5d7448d86f4",
       "msg_type": "comm_msg",
       "session": "eafeda5f-209e1bd8ac4fc2e489e38361",
       "username": "username",
       "version": "5.3"
      },
      "metadata": {},
      "msg_id": "bcb61382-d37bc0c491adc5d7448d86f4",
      "msg_type": "comm_msg",
      "parent_header": {
       "date": "2019-11-13T14:27:47.661441Z",
       "msg_id": "1cc0b26175f5497d847b81961e5e1875",
       "msg_type": "execute_request",
       "session": "3734c7851c14467d833785e73c25a649",
       "username": "username",
       "version": "5.2"
      }
     },
     "qregs": [
      {
       "name": "qreg",
       "size": 4,
       "type": "QUREG"
      },
      {
       "name": "qncilla",
       "type": "QUANTUM"
      },
      {
       "name": "c_in",
       "type": "CLASSIC"
      }
     ],
     "qschema": [
      [
       ""
      ],
      [
       ""
      ],
      [
       "",
       "X-0,5,1"
      ],
      [
       ""
      ],
      [
       ""
      ],
      [
       ""
      ]
     ]
    }
   },
   "outputs": [],
   "source": [
    "n_qubits = 4\n",
    "circuit_obj = QCircuit(qreg=(n_qubits, ), qncilla=Qubit, c_in=Classic)\n",
    "circuit_obj"
   ]
  },
  {
   "cell_type": "code",
   "execution_count": null,
   "metadata": {},
   "outputs": [],
   "source": []
  }
 ],
 "metadata": {
  "kernelspec": {
   "display_name": "Python 3",
   "language": "python",
   "name": "python3"
  },
  "language_info": {
   "codemirror_mode": {
    "name": "ipython",
    "version": 3
   },
   "file_extension": ".py",
   "mimetype": "text/x-python",
   "name": "python",
   "nbconvert_exporter": "python",
   "pygments_lexer": "ipython3",
   "version": "3.7.1"
  },
  "react_comms": {
   "jupyter_react.44f1e0c5-5dfc-4935-8469-b7fe6cf5c8b8.QCircuit": {
    "cellIdx": "1",
    "msg": {
     "buffers": [],
     "channel": "iopub",
     "content": {
      "comm_id": "jupyter_react.44f1e0c5-5dfc-4935-8469-b7fe6cf5c8b8.QCircuit",
      "data": {
       "method": "display"
      }
     },
     "header": {
      "date": "2019-11-13T14:27:12.988574Z",
      "msg_id": "5e8a1fad-7504528ce809e9812e15e7c2",
      "msg_type": "comm_msg",
      "session": "4182a170-09900ddc33aaf1bd8de91dc4",
      "username": "username",
      "version": "5.3"
     },
     "metadata": {},
     "msg_id": "5e8a1fad-7504528ce809e9812e15e7c2",
     "msg_type": "comm_msg",
     "parent_header": {
      "date": "2019-11-13T14:27:12.922741Z",
      "msg_id": "98ae9e196a69493286d5d2e0ba985245",
      "msg_type": "execute_request",
      "session": "ada4a8bfbf46472a8cb522300cb8acd5",
      "username": "username",
      "version": "5.2"
     }
    }
   },
   "jupyter_react.e98452ce-2acb-4406-af24-fd3e39b9b57f.QCircuit": {
    "cellIdx": "1",
    "msg": {
     "buffers": [],
     "channel": "iopub",
     "content": {
      "comm_id": "jupyter_react.e98452ce-2acb-4406-af24-fd3e39b9b57f.QCircuit",
      "data": {
       "method": "display"
      }
     },
     "header": {
      "date": "2019-11-13T14:27:48.329634Z",
      "msg_id": "bcb61382-d37bc0c491adc5d7448d86f4",
      "msg_type": "comm_msg",
      "session": "eafeda5f-209e1bd8ac4fc2e489e38361",
      "username": "username",
      "version": "5.3"
     },
     "metadata": {},
     "msg_id": "bcb61382-d37bc0c491adc5d7448d86f4",
     "msg_type": "comm_msg",
     "parent_header": {
      "date": "2019-11-13T14:27:47.661441Z",
      "msg_id": "1cc0b26175f5497d847b81961e5e1875",
      "msg_type": "execute_request",
      "session": "3734c7851c14467d833785e73c25a649",
      "username": "username",
      "version": "5.2"
     }
    }
   }
  }
 },
 "nbformat": 4,
 "nbformat_minor": 2
}
