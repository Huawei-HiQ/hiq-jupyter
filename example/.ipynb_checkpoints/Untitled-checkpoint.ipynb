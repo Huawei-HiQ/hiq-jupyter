{
 "cells": [
  {
   "cell_type": "code",
   "execution_count": 16,
   "metadata": {},
   "outputs": [
    {
     "name": "stdout",
     "output_type": "stream",
     "text": [
      "The autoreload extension is already loaded. To reload it, use:\n",
      "  %reload_ext autoreload\n"
     ]
    }
   ],
   "source": [
    "%load_ext autoreload\n",
    "%autoreload 2\n",
    "import math\n",
    "\n",
    "from projectq import MainEngine\n",
    "from projectq.ops import H, Z, X, Measure, All\n",
    "from projectq.meta import Loop, Compute, Uncompute, Control\n",
    "\n",
    "from qcircuit import QCircuit, Classic, Qubit, Qureg\n"
   ]
  },
  {
   "cell_type": "code",
   "execution_count": 14,
   "metadata": {},
   "outputs": [],
   "source": [
    "n_qubits = 7\n",
    "circuitInit = QCircuit(oracle_out=Qubit, x=(n_qubits, ))\n",
    "circuitInit"
   ]
  },
  {
   "cell_type": "code",
   "execution_count": 14,
   "metadata": {},
   "outputs": [],
   "source": [
    "circuitLoop = QCircuit(oracle_out=Qubit, x=(n_qubits, ))\n",
    "circuitLoop"
   ]
  },
  {
   "cell_type": "code",
   "execution_count": 55,
   "metadata": {},
   "outputs": [],
   "source": [
    "oracle = QCircuit(oracle_out=Qubit, x=(n_qubits, ))\n",
    "oracle"
   ]
  },
  {
   "cell_type": "code",
   "execution_count": 13,
   "metadata": {},
   "outputs": [],
   "source": [
    "circuitInit"
   ]
  },
  {
   "cell_type": "code",
   "execution_count": 13,
   "metadata": {},
   "outputs": [
    {
     "name": "stdout",
     "output_type": "stream",
     "text": [
      "(Note: This is the (slow) Python simulator.)\n",
      "oracle_out\n",
      "x\n",
      "2\n",
      "Debug:  H  |  x\n",
      "Debug:  H  |  x\n",
      "Debug:  H  |  x\n",
      "Debug:  H  |  x\n",
      "Debug:  H  |  x\n",
      "Debug:  H  |  x\n",
      "Debug:  H  |  x\n",
      "Debug:  X  |  oracle_out\n",
      "Debug:  H  |  oracle_out\n",
      "oracle_out\n",
      "x\n",
      "2\n",
      "Debug:  X  |  x\n",
      "Debug:  X  |  x\n",
      "Debug:  X  |  x\n",
      "Debug:  X  |  x\n",
      "Debug:  X  with Control( ['1', '2', '3', '4', '5', '6', '7'] )\n",
      "Debug:  X  |  x\n",
      "Debug:  X  |  x\n",
      "Debug:  X  |  x\n",
      "Debug:  X  |  x\n",
      "oracle_out\n",
      "x\n",
      "2\n",
      "Debug:  H  |  x\n",
      "Debug:  H  |  x\n",
      "Debug:  H  |  x\n",
      "Debug:  H  |  x\n",
      "Debug:  H  |  x\n",
      "Debug:  H  |  x\n",
      "Debug:  H  |  x\n",
      "Debug:  X  |  x\n",
      "Debug:  X  |  x\n",
      "Debug:  X  |  x\n",
      "Debug:  X  |  x\n",
      "Debug:  X  |  x\n",
      "Debug:  X  |  x\n",
      "Debug:  X  |  x\n",
      "Debug:  Z  with Control( ['6', '5', '4', '3', '2', '1'] )\n",
      "Debug:  X  |  x\n",
      "Debug:  X  |  x\n",
      "Debug:  X  |  x\n",
      "Debug:  X  |  x\n",
      "Debug:  X  |  x\n",
      "Debug:  X  |  x\n",
      "Debug:  X  |  x\n",
      "Debug:  H  |  x\n",
      "Debug:  H  |  x\n",
      "Debug:  H  |  x\n",
      "Debug:  H  |  x\n",
      "Debug:  H  |  x\n",
      "Debug:  H  |  x\n",
      "Debug:  H  |  x\n",
      "[0, 1, 0, 1, 0, 1, 0]\n"
     ]
    }
   ],
   "source": [
    "import math\n",
    "\n",
    "from projectq import MainEngine\n",
    "from projectq.ops import H, Z, X, Measure, All\n",
    "from projectq.meta import Loop, Compute, Uncompute, Control\n",
    "\n",
    "\n",
    "def run_grover(eng, n):\n",
    "    \"\"\"\n",
    "    Runs Grover's algorithm on n qubit using the provided quantum oracle.\n",
    "\n",
    "    Args:\n",
    "        eng (MainEngine): Main compiler engine to run Grover on.\n",
    "        n (int): Number of bits in the solution.\n",
    "        oracle (function): Function accepting the engine, an n-qubit register,\n",
    "            and an output qubit which is flipped by the oracle for the correct\n",
    "            bit string.\n",
    "\n",
    "    Returns:\n",
    "        solution (list<int>): Solution bit-string.\n",
    "    \"\"\"\n",
    "    x = eng.allocate_qureg(n)\n",
    "    oracle_out = eng.allocate_qubit()\n",
    "\n",
    "    # number of iterations we have to run:\n",
    "    num_it = int(math.pi/4.*math.sqrt(1 << n))\n",
    "\n",
    "    circuitInit(eng, oracle_out, x)\n",
    "    \n",
    "    # run num_it iterations\n",
    "    with Loop(eng, num_it):\n",
    "        # oracle adds a (-1)-phase to the solution\n",
    "        oracle(eng, oracle_out, x)\n",
    "\n",
    "        # reflection across uniform superposition\n",
    "\n",
    "        circuitLoop(eng, oracle_out, x)\n",
    "\n",
    "    All(Measure) | x\n",
    "    Measure | oracle_out\n",
    "\n",
    "    eng.flush()\n",
    "    # return result\n",
    "    return [int(qubit) for qubit in x]\n",
    "\n",
    "\n",
    "if __name__ == \"__main__\":\n",
    "    eng = MainEngine()  # use default compiler engine\n",
    "    # run Grover search to find a 7-bit solution\n",
    "    print(run_grover(eng, n_qubits))"
   ]
  },
  {
   "cell_type": "code",
   "execution_count": 28,
   "metadata": {},
   "outputs": [
    {
     "name": "stdout",
     "output_type": "stream",
     "text": [
      "[<projectq.types._qubit.Qubit object at 0x00000262302148D0>]\n",
      "11\n"
     ]
    }
   ],
   "source": [
    "x = eng.allocate_qureg(3)\n",
    "print(x[1:2])\n",
    "with Control(eng, [x[1], x[0]]):\n",
    "    X | x[2]\n",
    "    \n",
    "print(x[0])"
   ]
  }
 ],
 "metadata": {
  "kernelspec": {
   "display_name": "Python 3",
   "language": "python",
   "name": "python3"
  },
  "language_info": {
   "codemirror_mode": {
    "name": "ipython",
    "version": 3
   },
   "file_extension": ".py",
   "mimetype": "text/x-python",
   "name": "python",
   "nbconvert_exporter": "python",
   "pygments_lexer": "ipython3",
   "version": "3.7.1"
  },
  "react_comms": {
   "jupyter_react.013c9304-8e36-43eb-97f9-cdec2c2bf490.QCircuit": "3",
   "jupyter_react.065efdb9-d3ee-41c0-90a2-e8ef86391793.QCircuit": "3",
   "jupyter_react.12e39663-a0f3-4686-99df-d5534fffa2f2.QCircuit": "3",
   "jupyter_react.190a421b-206b-4f0e-b825-a063ac7d86b4.QCircuit": "3",
   "jupyter_react.38dfc86a-66f7-4fba-b176-791577395ad1.QCircuit": "3",
   "jupyter_react.49006696-458e-42ed-bbe4-5eed5abbf0f6.QCircuit": "3",
   "jupyter_react.55a196f3-6f73-44a6-aa21-ea0fafbc45b1.QCircuit": "3",
   "jupyter_react.75a8e000-27bd-49e9-8266-6ebeac435944.QCircuit": "3",
   "jupyter_react.a6881671-bd9c-48b4-865e-2479c9277192.QCircuit": "3",
   "jupyter_react.bff1cb4b-3ba0-4059-b67f-8646ae90f531.QCircuit": {
    "cellIdx": "3",
    "msg": {
     "buffers": [],
     "channel": "iopub",
     "content": {
      "comm_id": "jupyter_react.bff1cb4b-3ba0-4059-b67f-8646ae90f531.QCircuit",
      "data": {
       "method": "display"
      }
     },
     "header": {
      "date": "2019-11-06T20:43:10.459146Z",
      "msg_id": "47e6bc30-bad5a255a9864c4c0afc2874",
      "msg_type": "comm_msg",
      "session": "715d2341-f77fa284607379148dbea763",
      "username": "username",
      "version": "5.3"
     },
     "metadata": {},
     "msg_id": "47e6bc30-bad5a255a9864c4c0afc2874",
     "msg_type": "comm_msg",
     "parent_header": {
      "date": "2019-11-06T20:43:10.388932Z",
      "msg_id": "541a7f4f8baa4cdabc04206031071ca4",
      "msg_type": "execute_request",
      "session": "ed3f6965fea34b05a2fb70eaba40ef00",
      "username": "username",
      "version": "5.2"
     }
    }
   },
   "jupyter_react.d35c4e83-8827-4452-8482-83b4f1e766dd.QCircuit": "3",
   "jupyter_react.f3a050e8-c432-423b-8e2a-75b2eb1544ef.QCircuit": "3"
  }
 },
 "nbformat": 4,
 "nbformat_minor": 2
}
