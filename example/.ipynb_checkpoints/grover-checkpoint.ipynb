{
 "cells": [
  {
   "cell_type": "code",
   "execution_count": 1,
   "metadata": {},
   "outputs": [],
   "source": [
    "%load_ext autoreload\n",
    "%autoreload 2\n",
    "import math\n",
    "\n",
    "from projectq import MainEngine\n",
    "from projectq.ops import H, Z, X, Measure, All\n",
    "from projectq.meta import Loop, Compute, Uncompute, Control\n",
    "\n",
    "from qcircuit import QCircuit, Classic, Qubit, Qureg\n"
   ]
  },
  {
   "cell_type": "code",
   "execution_count": 2,
   "metadata": {},
   "outputs": [],
   "source": [
    "n_qubits = 3\n",
    "circuitInit = QCircuit(oracle_out=Qubit, x=(n_qubits, ))\n",
    "circuitInit"
   ]
  },
  {
   "cell_type": "code",
   "execution_count": 3,
   "metadata": {},
   "outputs": [],
   "source": [
    "circuitLoop = QCircuit(oracle_out=Qubit, x=(n_qubits, ))\n",
    "circuitLoop"
   ]
  },
  {
   "cell_type": "code",
   "execution_count": 4,
   "metadata": {},
   "outputs": [],
   "source": [
    "oracle = QCircuit(oracle_out=Qubit, x=(n_qubits, ))\n",
    "oracle"
   ]
  },
  {
   "cell_type": "code",
   "execution_count": 5,
   "metadata": {},
   "outputs": [
    {
     "name": "stdout",
     "output_type": "stream",
     "text": [
      "(Note: This is the (slow) Python simulator.)\n",
      "oracle_out\n",
      "x\n",
      "2\n",
      "Debug:  H  |  x\n",
      "Debug:  H  |  x\n",
      "Debug:  H  |  x\n",
      "Debug:  X  |  oracle_out\n",
      "Debug:  H  |  oracle_out\n",
      "oracle_out\n",
      "x\n",
      "2\n",
      "Debug:  X  |  x\n",
      "Debug:  X  |  x\n",
      "Debug:  X  with Control( ['1', '2', '3'] )\n",
      "Debug:  X  |  x\n",
      "Debug:  X  |  x\n",
      "oracle_out\n",
      "x\n",
      "2\n",
      "Debug:  H  |  x\n",
      "Debug:  H  |  x\n",
      "Debug:  H  |  x\n",
      "Debug:  X  |  x\n",
      "Debug:  X  |  x\n",
      "Debug:  X  |  x\n",
      "Debug:  Z  with Control( ['2', '1'] )\n",
      "Debug:  X  |  x\n",
      "Debug:  X  |  x\n",
      "Debug:  X  |  x\n",
      "Debug:  H  |  x\n",
      "Debug:  H  |  x\n",
      "Debug:  H  |  x\n",
      "[0, 1, 0]\n"
     ]
    }
   ],
   "source": [
    "import math\n",
    "\n",
    "from projectq import MainEngine\n",
    "from projectq.ops import H, Z, X, Measure, All\n",
    "from projectq.meta import Loop, Compute, Uncompute, Control\n",
    "\n",
    "\n",
    "def run_grover(eng, n):\n",
    "    \"\"\"\n",
    "    Runs Grover's algorithm on n qubit using the provided quantum oracle.\n",
    "\n",
    "    Args:\n",
    "        eng (MainEngine): Main compiler engine to run Grover on.\n",
    "        n (int): Number of bits in the solution.\n",
    "        oracle (function): Function accepting the engine, an n-qubit register,\n",
    "            and an output qubit which is flipped by the oracle for the correct\n",
    "            bit string.\n",
    "\n",
    "    Returns:\n",
    "        solution (list<int>): Solution bit-string.\n",
    "    \"\"\"\n",
    "    x = eng.allocate_qureg(n)\n",
    "    oracle_out = eng.allocate_qubit()\n",
    "\n",
    "    # number of iterations we have to run:\n",
    "    num_it = int(math.pi/4.*math.sqrt(1 << n))\n",
    "\n",
    "    circuitInit(eng, oracle_out, x)\n",
    "    \n",
    "    # run num_it iterations\n",
    "    with Loop(eng, num_it):\n",
    "        # oracle adds a (-1)-phase to the solution\n",
    "        oracle(eng, oracle_out, x)\n",
    "\n",
    "        # reflection across uniform superposition\n",
    "\n",
    "        circuitLoop(eng, oracle_out, x)\n",
    "\n",
    "    All(Measure) | x\n",
    "    Measure | oracle_out\n",
    "\n",
    "    eng.flush()\n",
    "    # return result\n",
    "    return [int(qubit) for qubit in x]\n",
    "\n",
    "\n",
    "if __name__ == \"__main__\":\n",
    "    eng = MainEngine()  # use default compiler engine\n",
    "    # run Grover search to find a 7-bit solution\n",
    "    print(run_grover(eng, n_qubits))"
   ]
  }
 ],
 "metadata": {
  "kernelspec": {
   "display_name": "Python 3",
   "language": "python",
   "name": "python3"
  },
  "language_info": {
   "codemirror_mode": {
    "name": "ipython",
    "version": 3
   },
   "file_extension": ".py",
   "mimetype": "text/x-python",
   "name": "python",
   "nbconvert_exporter": "python",
   "pygments_lexer": "ipython3",
   "version": "3.7.1"
  },
  "react_comms": {
   "jupyter_react.98ac7474-4633-40d4-bac9-810bda834b0e.QCircuit": {
    "cellIdx": "1",
    "msg": {
     "buffers": [],
     "channel": "iopub",
     "content": {
      "comm_id": "jupyter_react.98ac7474-4633-40d4-bac9-810bda834b0e.QCircuit",
      "data": {
       "method": "display"
      }
     },
     "header": {
      "date": "2019-11-11T08:41:56.846243Z",
      "msg_id": "e6688b1d-2e492fc0347c911a15690634",
      "msg_type": "comm_msg",
      "session": "a2919c98-b6f8f08987acc8519e1006d8",
      "username": "username",
      "version": "5.3"
     },
     "metadata": {},
     "msg_id": "e6688b1d-2e492fc0347c911a15690634",
     "msg_type": "comm_msg",
     "parent_header": {
      "date": "2019-11-11T08:41:56.426433Z",
      "msg_id": "e873dd76320d4227b18ba4c97726c8af",
      "msg_type": "execute_request",
      "session": "f29b2fe17071490fbedea5eb0d38a4c5",
      "username": "username",
      "version": "5.2"
     }
    }
   },
   "jupyter_react.a0eaeac1-de21-4f0b-8b14-9654026f373c.QCircuit": {
    "cellIdx": "2",
    "msg": {
     "buffers": [],
     "channel": "iopub",
     "content": {
      "comm_id": "jupyter_react.a0eaeac1-de21-4f0b-8b14-9654026f373c.QCircuit",
      "data": {
       "method": "display"
      }
     },
     "header": {
      "date": "2019-11-11T08:43:28.566188Z",
      "msg_id": "575d82c1-efcf3f10e36343449f8197d6",
      "msg_type": "comm_msg",
      "session": "a2919c98-b6f8f08987acc8519e1006d8",
      "username": "username",
      "version": "5.3"
     },
     "metadata": {},
     "msg_id": "575d82c1-efcf3f10e36343449f8197d6",
     "msg_type": "comm_msg",
     "parent_header": {
      "date": "2019-11-11T08:43:28.495347Z",
      "msg_id": "57a91491ef1c48cf89340076d7e1d6f4",
      "msg_type": "execute_request",
      "session": "f29b2fe17071490fbedea5eb0d38a4c5",
      "username": "username",
      "version": "5.2"
     }
    }
   },
   "jupyter_react.d3a5a1dd-6f03-48db-a3fd-baa7505a510f.QCircuit": {
    "cellIdx": "3",
    "msg": {
     "buffers": [],
     "channel": "iopub",
     "content": {
      "comm_id": "jupyter_react.d3a5a1dd-6f03-48db-a3fd-baa7505a510f.QCircuit",
      "data": {
       "method": "display"
      }
     },
     "header": {
      "date": "2019-11-11T08:44:32.126455Z",
      "msg_id": "0b4dd1b6-bf74e50f857c1a9ba1b090a2",
      "msg_type": "comm_msg",
      "session": "a2919c98-b6f8f08987acc8519e1006d8",
      "username": "username",
      "version": "5.3"
     },
     "metadata": {},
     "msg_id": "0b4dd1b6-bf74e50f857c1a9ba1b090a2",
     "msg_type": "comm_msg",
     "parent_header": {
      "date": "2019-11-11T08:44:32.050655Z",
      "msg_id": "d672928a36784d06801a7d7c8e74e97e",
      "msg_type": "execute_request",
      "session": "f29b2fe17071490fbedea5eb0d38a4c5",
      "username": "username",
      "version": "5.2"
     }
    }
   }
  }
 },
 "nbformat": 4,
 "nbformat_minor": 2
}
