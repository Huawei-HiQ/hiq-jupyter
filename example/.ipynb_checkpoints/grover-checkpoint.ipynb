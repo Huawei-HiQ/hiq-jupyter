{
 "cells": [
  {
   "cell_type": "code",
   "execution_count": 1,
   "metadata": {},
   "outputs": [],
   "source": [
    "%load_ext autoreload\n",
    "%autoreload 2\n",
    "import math\n",
    "\n",
    "from projectq import MainEngine\n",
    "from projectq.ops import H, Z, X, Measure, All\n",
    "from projectq.meta import Loop, Compute, Uncompute, Control\n",
    "\n",
    "from qcircuit import QCircuit, Classic, Qubit, Qureg\n"
   ]
  },
  {
   "cell_type": "code",
   "execution_count": 2,
   "metadata": {
    "_hiq_info": {
     "comm_id": "jupyter_react.eca51d5d-c1fb-4e9e-8174-53c13b18ab88.QCircuit",
     "msg": {
      "buffers": [],
      "channel": "iopub",
      "content": {
       "comm_id": "jupyter_react.eca51d5d-c1fb-4e9e-8174-53c13b18ab88.QCircuit",
       "data": {
        "method": "display"
       }
      },
      "header": {
       "date": "2019-11-12T11:56:55.196749Z",
       "msg_id": "d038dfa6-63e0886c3cc027b0c5737da3",
       "msg_type": "comm_msg",
       "session": "4d7d713e-496dea5dd4257ca0588e3870",
       "username": "username",
       "version": "5.3"
      },
      "metadata": {},
      "msg_id": "d038dfa6-63e0886c3cc027b0c5737da3",
      "msg_type": "comm_msg",
      "parent_header": {
       "date": "2019-11-12T11:56:53.501558Z",
       "msg_id": "22a3a12dc1e349db9bc1e17609a548fc",
       "msg_type": "execute_request",
       "session": "5e8c5ff5c6a64154931aaebca8df560c",
       "username": "username",
       "version": "5.2"
      }
     },
     "qregs": [
      {
       "name": "oracle_out",
       "type": "QUANTUM"
      },
      {
       "name": "x",
       "size": 3,
       "type": "QUREG"
      }
     ],
     "qschema": [
      [
       "",
       "",
       "",
       ""
      ],
      [
       "",
       "",
       "",
       "",
       "Z"
      ],
      [
       "",
       "Y-0,1",
       "",
       ""
      ],
      [
       "",
       "",
       "",
       ""
      ]
     ]
    },
    "_hiq_info_qregs": [
     {
      "name": "oracle_out",
      "type": "QUANTUM"
     },
     {
      "name": "x",
      "size": 3,
      "type": "QUREG"
     }
    ],
    "_hiq_info_qschema": [
     [
      "X",
      "",
      ""
     ],
     [
      "",
      "",
      "",
      "H"
     ],
     [
      "",
      "",
      ""
     ],
     [
      "",
      "",
      ""
     ]
    ]
   },
   "outputs": [],
   "source": [
    "n_qubits = 3\n",
    "circuitInit = QCircuit(oracle_out=Qubit, x=(n_qubits, ))\n",
    "circuitInit"
   ]
  },
  {
   "cell_type": "code",
   "execution_count": 4,
   "metadata": {
    "_hiq_info": {
     "comm_id": "jupyter_react.7801d73d-5da2-40c9-a224-a280e622207f.QCircuit",
     "msg": {
      "buffers": [],
      "channel": "iopub",
      "content": {
       "comm_id": "jupyter_react.7801d73d-5da2-40c9-a224-a280e622207f.QCircuit",
       "data": {
        "method": "display"
       }
      },
      "header": {
       "date": "2019-11-11T21:31:03.994974Z",
       "msg_id": "b14220f5-b22b06d6e8b426b4cc30bcbc",
       "msg_type": "comm_msg",
       "session": "d0534993-14eb1f23bc85acad8ded75da",
       "username": "username",
       "version": "5.3"
      },
      "metadata": {},
      "msg_id": "b14220f5-b22b06d6e8b426b4cc30bcbc",
      "msg_type": "comm_msg",
      "parent_header": {
       "date": "2019-11-11T21:31:03.930114Z",
       "msg_id": "9e8db5703c604fa9b0380ba97c531487",
       "msg_type": "execute_request",
       "session": "ba69d06001504fde9e5840d8afcdd578",
       "username": "username",
       "version": "5.2"
      }
     }
    }
   },
   "outputs": [],
   "source": []
  },
  {
   "cell_type": "code",
   "execution_count": 7,
   "metadata": {
    "_hiq_info": {
     "comm_id": "jupyter_react.92e835b3-cc42-4292-bb71-49e8bf76b80e.QCircuit",
     "msg": {
      "buffers": [],
      "channel": "iopub",
      "content": {
       "comm_id": "jupyter_react.92e835b3-cc42-4292-bb71-49e8bf76b80e.QCircuit",
       "data": {
        "method": "display"
       }
      },
      "header": {
       "date": "2019-11-12T08:51:43.732596Z",
       "msg_id": "8b899409-724083406ef891b2374d9116",
       "msg_type": "comm_msg",
       "session": "7f8e6e36-12deaad9733c9e6db3a2b37f",
       "username": "username",
       "version": "5.3"
      },
      "metadata": {},
      "msg_id": "8b899409-724083406ef891b2374d9116",
      "msg_type": "comm_msg",
      "parent_header": {
       "date": "2019-11-12T08:51:43.657794Z",
       "msg_id": "620ea92e95ee4166a9a6649835f58661",
       "msg_type": "execute_request",
       "session": "aad72fe47b2e43eb8bc19cde9405d472",
       "username": "username",
       "version": "5.2"
      }
     }
    }
   },
   "outputs": [],
   "source": [
    "circuitLoop = QCircuit(oracle_out=Qubit, x=(n_qubits, ))\n",
    "circuitLoop"
   ]
  },
  {
   "cell_type": "code",
   "execution_count": null,
   "metadata": {},
   "outputs": [],
   "source": []
  },
  {
   "cell_type": "code",
   "execution_count": 8,
   "metadata": {
    "_hiq_info": {
     "comm_id": "jupyter_react.44cfc6bb-9016-4d2b-af99-72951765c844.QCircuit",
     "msg": {
      "buffers": [],
      "channel": "iopub",
      "content": {
       "comm_id": "jupyter_react.44cfc6bb-9016-4d2b-af99-72951765c844.QCircuit",
       "data": {
        "method": "display"
       }
      },
      "header": {
       "date": "2019-11-12T08:53:25.101564Z",
       "msg_id": "d14024d4-168596a17aa397174ee9c092",
       "msg_type": "comm_msg",
       "session": "7f8e6e36-12deaad9733c9e6db3a2b37f",
       "username": "username",
       "version": "5.3"
      },
      "metadata": {},
      "msg_id": "d14024d4-168596a17aa397174ee9c092",
      "msg_type": "comm_msg",
      "parent_header": {
       "date": "2019-11-12T08:53:25.032719Z",
       "msg_id": "cec782400d594626bf81205de7a07835",
       "msg_type": "execute_request",
       "session": "5e50f731a4044d3296ee4b03de5e4dea",
       "username": "username",
       "version": "5.2"
      }
     }
    }
   },
   "outputs": [],
   "source": [
    "oracle = QCircuit(oracle_out=Qubit, x=(n_qubits, ))\n",
    "oracle"
   ]
  },
  {
   "cell_type": "code",
   "execution_count": 11,
   "metadata": {},
   "outputs": [
    {
     "name": "stdout",
     "output_type": "stream",
     "text": [
      "(Note: This is the (slow) Python simulator.)\n",
      "oracle_out\n",
      "x\n",
      "2\n",
      "Debug:  H  |  x\n",
      "Debug:  H  |  x\n",
      "Debug:  H  |  x\n",
      "Debug:  X  |  oracle_out\n",
      "Debug:  H  |  oracle_out\n",
      "oracle_out\n",
      "x\n",
      "2\n",
      "Debug:  X  |  x\n",
      "Debug:  X  |  x\n",
      "Debug:  X  with Control( ['1', '2', '3'] )\n",
      "Debug:  X  |  x\n",
      "Debug:  X  |  x\n",
      "oracle_out\n",
      "x\n",
      "2\n",
      "Debug:  H  |  x\n",
      "Debug:  H  |  x\n",
      "Debug:  H  |  x\n",
      "Debug:  X  |  x\n",
      "Debug:  X  |  x\n",
      "Debug:  X  |  x\n",
      "Debug:  Z  with Control( ['1', '2'] )\n",
      "Debug:  X  |  x\n",
      "Debug:  X  |  x\n",
      "Debug:  X  |  x\n",
      "Debug:  H  |  x\n",
      "Debug:  H  |  x\n",
      "Debug:  H  |  x\n",
      "[1, 0, 0]\n"
     ]
    }
   ],
   "source": [
    "import math\n",
    "\n",
    "from projectq import MainEngine\n",
    "from projectq.ops import H, Z, X, Measure, All\n",
    "from projectq.meta import Loop, Compute, Uncompute, Control\n",
    "\n",
    "\n",
    "def run_grover(eng, n):\n",
    "    \"\"\"\n",
    "    Runs Grover's algorithm on n qubit using the provided quantum oracle.\n",
    "\n",
    "    Args:\n",
    "        eng (MainEngine): Main compiler engine to run Grover on.\n",
    "        n (int): Number of bits in the solution.\n",
    "        oracle (function): Function accepting the engine, an n-qubit register,\n",
    "            and an output qubit which is flipped by the oracle for the correct\n",
    "            bit string.\n",
    "\n",
    "    Returns:\n",
    "        solution (list<int>): Solution bit-string.\n",
    "    \"\"\"\n",
    "    x = eng.allocate_qureg(n)\n",
    "    oracle_out = eng.allocate_qubit()\n",
    "\n",
    "    # number of iterations we have to run:\n",
    "    num_it = int(math.pi/4.*math.sqrt(1 << n))\n",
    "\n",
    "    circuitInit(eng, oracle_out, x)\n",
    "    \n",
    "    # run num_it iterations\n",
    "    with Loop(eng, num_it):\n",
    "        # oracle adds a (-1)-phase to the solution\n",
    "        oracle(eng, oracle_out, x)\n",
    "\n",
    "        # reflection across uniform superposition\n",
    "\n",
    "        circuitLoop(eng, oracle_out, x)\n",
    "\n",
    "    All(Measure) | x\n",
    "    Measure | oracle_out\n",
    "\n",
    "    eng.flush()\n",
    "    # return result\n",
    "    return [int(qubit) for qubit in x]\n",
    "\n",
    "\n",
    "if __name__ == \"__main__\":\n",
    "    eng = MainEngine()  # use default compiler engine\n",
    "    # run Grover search to find a 7-bit solution\n",
    "    print(run_grover(eng, n_qubits))"
   ]
  },
  {
   "cell_type": "code",
   "execution_count": 1,
   "metadata": {
    "_hiq_info": {
     "comm_id": "jupyter_react.5531760d-9add-4f4f-bf1d-5795929e4f60.QCircuit",
     "msg": {
      "buffers": [],
      "channel": "iopub",
      "content": {
       "comm_id": "jupyter_react.5531760d-9add-4f4f-bf1d-5795929e4f60.QCircuit",
       "data": {
        "method": "display"
       }
      },
      "header": {
       "date": "2019-11-11T21:31:34.679672Z",
       "msg_id": "7703ec42-761eb5b9bc2acaff7f9dd1de",
       "msg_type": "comm_msg",
       "session": "d0534993-14eb1f23bc85acad8ded75da",
       "username": "username",
       "version": "5.3"
      },
      "metadata": {},
      "msg_id": "7703ec42-761eb5b9bc2acaff7f9dd1de",
      "msg_type": "comm_msg",
      "parent_header": {
       "date": "2019-11-11T21:31:34.611873Z",
       "msg_id": "db5edf42ef174a068b1757ce2fc16f66",
       "msg_type": "execute_request",
       "session": "ba69d06001504fde9e5840d8afcdd578",
       "username": "username",
       "version": "5.2"
      }
     }
    }
   },
   "outputs": [
    {
     "ename": "NameError",
     "evalue": "name 'circuitInit' is not defined",
     "output_type": "error",
     "traceback": [
      "\u001b[1;31m---------------------------------------------------------------------------\u001b[0m",
      "\u001b[1;31mNameError\u001b[0m                                 Traceback (most recent call last)",
      "\u001b[1;32m<ipython-input-1-88393e3c30df>\u001b[0m in \u001b[0;36m<module>\u001b[1;34m\u001b[0m\n\u001b[1;32m----> 1\u001b[1;33m \u001b[0mcircuitInit\u001b[0m\u001b[1;33m.\u001b[0m\u001b[0m_last_msg\u001b[0m\u001b[1;33m\u001b[0m\u001b[1;33m\u001b[0m\u001b[0m\n\u001b[0m",
      "\u001b[1;31mNameError\u001b[0m: name 'circuitInit' is not defined"
     ]
    }
   ],
   "source": [
    "circuitInit._last_msg"
   ]
  }
 ],
 "metadata": {
  "kernelspec": {
   "display_name": "Python 3",
   "language": "python",
   "name": "python3"
  },
  "language_info": {
   "codemirror_mode": {
    "name": "ipython",
    "version": 3
   },
   "file_extension": ".py",
   "mimetype": "text/x-python",
   "name": "python",
   "nbconvert_exporter": "python",
   "pygments_lexer": "ipython3",
   "version": "3.7.1"
  },
  "react_comms": {
   "jupyter_react.0330cb99-26ef-428a-9d97-9661a870aeaa.QCircuit": {
    "cellIdx": "1",
    "msg": {
     "buffers": [],
     "channel": "iopub",
     "content": {
      "comm_id": "jupyter_react.0330cb99-26ef-428a-9d97-9661a870aeaa.QCircuit",
      "data": {
       "method": "display"
      }
     },
     "header": {
      "date": "2019-11-11T21:29:12.088334Z",
      "msg_id": "61e55c1d-7b3042f9d41900e460a2b7c2",
      "msg_type": "comm_msg",
      "session": "71e590cb-0f3a2f09cecd8bdb18e43754",
      "username": "username",
      "version": "5.3"
     },
     "metadata": {},
     "msg_id": "61e55c1d-7b3042f9d41900e460a2b7c2",
     "msg_type": "comm_msg",
     "parent_header": {
      "date": "2019-11-11T21:29:11.083000Z",
      "msg_id": "3ad45e5c78904cf280792dcebd328e6c",
      "msg_type": "execute_request",
      "session": "3f591573c156465286a2fd6f850239f9",
      "username": "username",
      "version": "5.2"
     }
    }
   },
   "jupyter_react.043a7304-4cee-4483-85e6-42e954ea2b86.QCircuit": {
    "cellIdx": "1",
    "msg": {
     "buffers": [],
     "channel": "iopub",
     "content": {
      "comm_id": "jupyter_react.043a7304-4cee-4483-85e6-42e954ea2b86.QCircuit",
      "data": {
       "method": "display"
      }
     },
     "header": {
      "date": "2019-11-12T10:54:16.727996Z",
      "msg_id": "48fe78eb-6232bc8b6b5b07e178a54bb6",
      "msg_type": "comm_msg",
      "session": "cb8b8d64-d973e58d85cacb9d3fdf643b",
      "username": "username",
      "version": "5.3"
     },
     "metadata": {},
     "msg_id": "48fe78eb-6232bc8b6b5b07e178a54bb6",
     "msg_type": "comm_msg",
     "parent_header": {
      "date": "2019-11-12T10:54:16.641165Z",
      "msg_id": "070bd80732414b9091c4d58f18b024ad",
      "msg_type": "execute_request",
      "session": "4ce809b7ea714ad580bd65f511e6cdb7",
      "username": "username",
      "version": "5.2"
     }
    }
   },
   "jupyter_react.04e9aae4-a1cf-4edb-aba6-bc79649c3064.QCircuit": {
    "cellIdx": "1",
    "msg": {
     "buffers": [],
     "channel": "iopub",
     "content": {
      "comm_id": "jupyter_react.04e9aae4-a1cf-4edb-aba6-bc79649c3064.QCircuit",
      "data": {
       "method": "display"
      }
     },
     "header": {
      "date": "2019-11-12T11:55:50.744702Z",
      "msg_id": "dd0f1691-33f91e90b6f31ca276bb4137",
      "msg_type": "comm_msg",
      "session": "cb8b8d64-d973e58d85cacb9d3fdf643b",
      "username": "username",
      "version": "5.3"
     },
     "metadata": {},
     "msg_id": "dd0f1691-33f91e90b6f31ca276bb4137",
     "msg_type": "comm_msg",
     "parent_header": {
      "date": "2019-11-12T11:55:50.663887Z",
      "msg_id": "63aca1c4d7b74fa18d2992cef1b01283",
      "msg_type": "execute_request",
      "session": "5e8c5ff5c6a64154931aaebca8df560c",
      "username": "username",
      "version": "5.2"
     }
    }
   },
   "jupyter_react.0b9cfe64-cae3-4aa6-982f-02f00c47dec0.QCircuit": {
    "cellIdx": "1",
    "msg": {
     "buffers": [],
     "channel": "iopub",
     "content": {
      "comm_id": "jupyter_react.0b9cfe64-cae3-4aa6-982f-02f00c47dec0.QCircuit",
      "data": {
       "method": "display"
      }
     },
     "header": {
      "date": "2019-11-12T10:58:03.744546Z",
      "msg_id": "1e129ad3-b31e20f3af29314be5c906b4",
      "msg_type": "comm_msg",
      "session": "cb8b8d64-d973e58d85cacb9d3fdf643b",
      "username": "username",
      "version": "5.3"
     },
     "metadata": {},
     "msg_id": "1e129ad3-b31e20f3af29314be5c906b4",
     "msg_type": "comm_msg",
     "parent_header": {
      "date": "2019-11-12T10:58:03.660596Z",
      "msg_id": "58e630ab26984944b6d517ae221f71de",
      "msg_type": "execute_request",
      "session": "230b9cb6a574403b879cbadaa7c20e73",
      "username": "username",
      "version": "5.2"
     }
    }
   },
   "jupyter_react.100cf2f4-d5c8-4c9e-99e9-6d819601b9d4.QCircuit": {
    "cellIdx": "1",
    "msg": {
     "buffers": [],
     "channel": "iopub",
     "content": {
      "comm_id": "jupyter_react.100cf2f4-d5c8-4c9e-99e9-6d819601b9d4.QCircuit",
      "data": {
       "method": "display"
      }
     },
     "header": {
      "date": "2019-11-12T08:51:23.747281Z",
      "msg_id": "e51a0212-551542dbeb8206016563624c",
      "msg_type": "comm_msg",
      "session": "7f8e6e36-12deaad9733c9e6db3a2b37f",
      "username": "username",
      "version": "5.3"
     },
     "metadata": {},
     "msg_id": "e51a0212-551542dbeb8206016563624c",
     "msg_type": "comm_msg",
     "parent_header": {
      "date": "2019-11-12T08:51:23.654532Z",
      "msg_id": "ac9d9d9e07c7464eaecb600c6e20660a",
      "msg_type": "execute_request",
      "session": "aad72fe47b2e43eb8bc19cde9405d472",
      "username": "username",
      "version": "5.2"
     }
    }
   },
   "jupyter_react.1682a223-b09c-4e4a-a6cc-eb3851cc2203.QCircuit": {
    "cellIdx": "5",
    "msg": {
     "buffers": [],
     "channel": "iopub",
     "content": {
      "comm_id": "jupyter_react.1682a223-b09c-4e4a-a6cc-eb3851cc2203.QCircuit",
      "data": {
       "method": "display"
      }
     },
     "header": {
      "date": "2019-11-11T09:05:18.304601Z",
      "msg_id": "19364966-7bd97bda19360ada2b58ccf1",
      "msg_type": "comm_msg",
      "session": "a2919c98-b6f8f08987acc8519e1006d8",
      "username": "username",
      "version": "5.3"
     },
     "metadata": {},
     "msg_id": "19364966-7bd97bda19360ada2b58ccf1",
     "msg_type": "comm_msg",
     "parent_header": {
      "date": "2019-11-11T09:05:18.223816Z",
      "msg_id": "06683bd133c047d49177d778dee7c4ac",
      "msg_type": "execute_request",
      "session": "f29b2fe17071490fbedea5eb0d38a4c5",
      "username": "username",
      "version": "5.2"
     }
    }
   },
   "jupyter_react.1a0285ba-5126-4a69-9daa-7a3fde6521f6.QCircuit": {
    "cellIdx": "1",
    "msg": {
     "buffers": [],
     "channel": "iopub",
     "content": {
      "comm_id": "jupyter_react.1a0285ba-5126-4a69-9daa-7a3fde6521f6.QCircuit",
      "data": {
       "method": "display"
      }
     },
     "header": {
      "date": "2019-11-12T09:15:42.559172Z",
      "msg_id": "43d7d368-0e59747b3fe713db91e6c36e",
      "msg_type": "comm_msg",
      "session": "cb8b8d64-d973e58d85cacb9d3fdf643b",
      "username": "username",
      "version": "5.3"
     },
     "metadata": {},
     "msg_id": "43d7d368-0e59747b3fe713db91e6c36e",
     "msg_type": "comm_msg",
     "parent_header": {
      "date": "2019-11-12T09:15:41.460014Z",
      "msg_id": "b854318d4d714aea8fcc184d284f652f",
      "msg_type": "execute_request",
      "session": "07aa21b833544930801eb6dc2f8c8ee2",
      "username": "username",
      "version": "5.2"
     }
    }
   },
   "jupyter_react.21ba6186-37d5-444b-b887-62967728d85d.QCircuit": {
    "cellIdx": "1",
    "msg": {
     "buffers": [],
     "channel": "iopub",
     "content": {
      "comm_id": "jupyter_react.21ba6186-37d5-444b-b887-62967728d85d.QCircuit",
      "data": {
       "method": "display"
      }
     },
     "header": {
      "date": "2019-11-12T11:50:54.514327Z",
      "msg_id": "2c05a0cd-858970312878714e1726c4ba",
      "msg_type": "comm_msg",
      "session": "cb8b8d64-d973e58d85cacb9d3fdf643b",
      "username": "username",
      "version": "5.3"
     },
     "metadata": {},
     "msg_id": "2c05a0cd-858970312878714e1726c4ba",
     "msg_type": "comm_msg",
     "parent_header": {
      "date": "2019-11-12T11:50:54.431518Z",
      "msg_id": "797e7af913a245f281ec0355c21fd694",
      "msg_type": "execute_request",
      "session": "b6fd947bc1bd431e8408e28aa8d3a5a7",
      "username": "username",
      "version": "5.2"
     }
    }
   },
   "jupyter_react.2b8c75b9-b002-4f81-971c-2e7b7ddeab5b.QCircuit": {
    "cellIdx": "1",
    "msg": {
     "buffers": [],
     "channel": "iopub",
     "content": {
      "comm_id": "jupyter_react.2b8c75b9-b002-4f81-971c-2e7b7ddeab5b.QCircuit",
      "data": {
       "method": "display"
      }
     },
     "header": {
      "date": "2019-11-12T08:50:35.610575Z",
      "msg_id": "218f3709-71f2ac0caf658eb58168687e",
      "msg_type": "comm_msg",
      "session": "7f8e6e36-12deaad9733c9e6db3a2b37f",
      "username": "username",
      "version": "5.3"
     },
     "metadata": {},
     "msg_id": "218f3709-71f2ac0caf658eb58168687e",
     "msg_type": "comm_msg",
     "parent_header": {
      "date": "2019-11-12T08:50:35.521787Z",
      "msg_id": "3cc891de90e1479386e2a80e8dd65607",
      "msg_type": "execute_request",
      "session": "aad72fe47b2e43eb8bc19cde9405d472",
      "username": "username",
      "version": "5.2"
     }
    }
   },
   "jupyter_react.2e8313c2-5ec8-4abf-af62-5b17c52de41b.QCircuit": {
    "cellIdx": "1",
    "msg": {
     "buffers": [],
     "channel": "iopub",
     "content": {
      "comm_id": "jupyter_react.2e8313c2-5ec8-4abf-af62-5b17c52de41b.QCircuit",
      "data": {
       "method": "display"
      }
     },
     "header": {
      "date": "2019-11-12T11:50:37.920595Z",
      "msg_id": "c1fb7e45-b9a71250f638881f6b0bd6d1",
      "msg_type": "comm_msg",
      "session": "cb8b8d64-d973e58d85cacb9d3fdf643b",
      "username": "username",
      "version": "5.3"
     },
     "metadata": {},
     "msg_id": "c1fb7e45-b9a71250f638881f6b0bd6d1",
     "msg_type": "comm_msg",
     "parent_header": {
      "date": "2019-11-12T11:50:37.837788Z",
      "msg_id": "43d0f7f54b86461ab19253014ceba043",
      "msg_type": "execute_request",
      "session": "453ef042f1e342519ff6959bfd895288",
      "username": "username",
      "version": "5.2"
     }
    }
   },
   "jupyter_react.32b7ae5d-4406-4386-ace0-a3872b7b1412.QCircuit": {
    "cellIdx": "1",
    "msg": {
     "buffers": [],
     "channel": "iopub",
     "content": {
      "comm_id": "jupyter_react.32b7ae5d-4406-4386-ace0-a3872b7b1412.QCircuit",
      "data": {
       "method": "display"
      }
     },
     "header": {
      "date": "2019-11-12T11:47:01.099301Z",
      "msg_id": "6fd7d1f6-8dfd2e5a1138451312a5f2ab",
      "msg_type": "comm_msg",
      "session": "cb8b8d64-d973e58d85cacb9d3fdf643b",
      "username": "username",
      "version": "5.3"
     },
     "metadata": {},
     "msg_id": "6fd7d1f6-8dfd2e5a1138451312a5f2ab",
     "msg_type": "comm_msg",
     "parent_header": {
      "date": "2019-11-12T11:47:01.025471Z",
      "msg_id": "3b04b0b40af546d28c15f7582353f93f",
      "msg_type": "execute_request",
      "session": "3b4a8e213ae24d8ea7a670cb7affbd70",
      "username": "username",
      "version": "5.2"
     }
    }
   },
   "jupyter_react.44cfc6bb-9016-4d2b-af99-72951765c844.QCircuit": {
    "cellIdx": "5",
    "msg": {
     "buffers": [],
     "channel": "iopub",
     "content": {
      "comm_id": "jupyter_react.44cfc6bb-9016-4d2b-af99-72951765c844.QCircuit",
      "data": {
       "method": "display"
      }
     },
     "header": {
      "date": "2019-11-12T08:53:25.101564Z",
      "msg_id": "d14024d4-168596a17aa397174ee9c092",
      "msg_type": "comm_msg",
      "session": "7f8e6e36-12deaad9733c9e6db3a2b37f",
      "username": "username",
      "version": "5.3"
     },
     "metadata": {},
     "msg_id": "d14024d4-168596a17aa397174ee9c092",
     "msg_type": "comm_msg",
     "parent_header": {
      "date": "2019-11-12T08:53:25.032719Z",
      "msg_id": "cec782400d594626bf81205de7a07835",
      "msg_type": "execute_request",
      "session": "5e50f731a4044d3296ee4b03de5e4dea",
      "username": "username",
      "version": "5.2"
     }
    }
   },
   "jupyter_react.47fa6d44-bd3c-4ad2-bdbe-89b4904366ea.QCircuit": {
    "cellIdx": "1",
    "msg": {
     "buffers": [],
     "channel": "iopub",
     "content": {
      "comm_id": "jupyter_react.47fa6d44-bd3c-4ad2-bdbe-89b4904366ea.QCircuit",
      "data": {
       "method": "display"
      }
     },
     "header": {
      "date": "2019-11-12T11:45:33.722459Z",
      "msg_id": "ed30118f-f5e379629e92ba2feb690fdd",
      "msg_type": "comm_msg",
      "session": "cb8b8d64-d973e58d85cacb9d3fdf643b",
      "username": "username",
      "version": "5.3"
     },
     "metadata": {},
     "msg_id": "ed30118f-f5e379629e92ba2feb690fdd",
     "msg_type": "comm_msg",
     "parent_header": {
      "date": "2019-11-12T11:45:33.647629Z",
      "msg_id": "0c9bf8968dd24731af31ce701feba27f",
      "msg_type": "execute_request",
      "session": "b26bad7d7a86479289b142dff7cd8572",
      "username": "username",
      "version": "5.2"
     }
    }
   },
   "jupyter_react.5531760d-9add-4f4f-bf1d-5795929e4f60.QCircuit": {
    "cellIdx": "7",
    "msg": {
     "buffers": [],
     "channel": "iopub",
     "content": {
      "comm_id": "jupyter_react.5531760d-9add-4f4f-bf1d-5795929e4f60.QCircuit",
      "data": {
       "method": "display"
      }
     },
     "header": {
      "date": "2019-11-11T21:31:34.679672Z",
      "msg_id": "7703ec42-761eb5b9bc2acaff7f9dd1de",
      "msg_type": "comm_msg",
      "session": "d0534993-14eb1f23bc85acad8ded75da",
      "username": "username",
      "version": "5.3"
     },
     "metadata": {},
     "msg_id": "7703ec42-761eb5b9bc2acaff7f9dd1de",
     "msg_type": "comm_msg",
     "parent_header": {
      "date": "2019-11-11T21:31:34.611873Z",
      "msg_id": "db5edf42ef174a068b1757ce2fc16f66",
      "msg_type": "execute_request",
      "session": "ba69d06001504fde9e5840d8afcdd578",
      "username": "username",
      "version": "5.2"
     }
    }
   },
   "jupyter_react.641c7791-3725-496d-b415-91e7492069d3.QCircuit": {
    "cellIdx": "1",
    "msg": {
     "buffers": [],
     "channel": "iopub",
     "content": {
      "comm_id": "jupyter_react.641c7791-3725-496d-b415-91e7492069d3.QCircuit",
      "data": {
       "method": "display"
      }
     },
     "header": {
      "date": "2019-11-12T11:42:19.143632Z",
      "msg_id": "133c1a03-4d32334b9a377dcfc1d2ad46",
      "msg_type": "comm_msg",
      "session": "cb8b8d64-d973e58d85cacb9d3fdf643b",
      "username": "username",
      "version": "5.3"
     },
     "metadata": {},
     "msg_id": "133c1a03-4d32334b9a377dcfc1d2ad46",
     "msg_type": "comm_msg",
     "parent_header": {
      "date": "2019-11-12T11:42:19.070829Z",
      "msg_id": "10aa39efe19e4abba5fa0d7e750eb197",
      "msg_type": "execute_request",
      "session": "834d83992fae43e4b340db762400ba59",
      "username": "username",
      "version": "5.2"
     }
    }
   },
   "jupyter_react.68318075-92cf-4214-ab61-691d26987288.QCircuit": {
    "cellIdx": "1",
    "msg": {
     "buffers": [],
     "channel": "iopub",
     "content": {
      "comm_id": "jupyter_react.68318075-92cf-4214-ab61-691d26987288.QCircuit",
      "data": {
       "method": "display"
      }
     },
     "header": {
      "date": "2019-11-12T11:55:09.516690Z",
      "msg_id": "2f0c40a4-46038740c2098e951554b5a9",
      "msg_type": "comm_msg",
      "session": "cb8b8d64-d973e58d85cacb9d3fdf643b",
      "username": "username",
      "version": "5.3"
     },
     "metadata": {},
     "msg_id": "2f0c40a4-46038740c2098e951554b5a9",
     "msg_type": "comm_msg",
     "parent_header": {
      "date": "2019-11-12T11:55:09.428926Z",
      "msg_id": "a44d285cc2804e31b2a73e3217a0160a",
      "msg_type": "execute_request",
      "session": "be9ee35b9b1e4775852f7eb45e9911b8",
      "username": "username",
      "version": "5.2"
     }
    }
   },
   "jupyter_react.7004cdb1-89a5-4663-82f2-ff1f9e2977fe.QCircuit": {
    "cellIdx": "1",
    "msg": {
     "buffers": [],
     "channel": "iopub",
     "content": {
      "comm_id": "jupyter_react.7004cdb1-89a5-4663-82f2-ff1f9e2977fe.QCircuit",
      "data": {
       "method": "display"
      }
     },
     "header": {
      "date": "2019-11-12T11:55:54.365647Z",
      "msg_id": "403a4210-1b4b4dc5f8cbe0a9f0191b5a",
      "msg_type": "comm_msg",
      "session": "cb8b8d64-d973e58d85cacb9d3fdf643b",
      "username": "username",
      "version": "5.3"
     },
     "metadata": {},
     "msg_id": "403a4210-1b4b4dc5f8cbe0a9f0191b5a",
     "msg_type": "comm_msg",
     "parent_header": {
      "date": "2019-11-12T11:55:54.280881Z",
      "msg_id": "d05f997c55d3403fb983dc76be82e2cc",
      "msg_type": "execute_request",
      "session": "5e8c5ff5c6a64154931aaebca8df560c",
      "username": "username",
      "version": "5.2"
     }
    }
   },
   "jupyter_react.75de473c-fe8c-4877-a3fd-795facdd67a1.QCircuit": {
    "cellIdx": "1",
    "msg": {
     "buffers": [],
     "channel": "iopub",
     "content": {
      "comm_id": "jupyter_react.75de473c-fe8c-4877-a3fd-795facdd67a1.QCircuit",
      "data": {
       "method": "display"
      }
     },
     "header": {
      "date": "2019-11-12T11:41:29.282485Z",
      "msg_id": "016033f1-9063d5ac8f9c718431c74f8f",
      "msg_type": "comm_msg",
      "session": "cb8b8d64-d973e58d85cacb9d3fdf643b",
      "username": "username",
      "version": "5.3"
     },
     "metadata": {},
     "msg_id": "016033f1-9063d5ac8f9c718431c74f8f",
     "msg_type": "comm_msg",
     "parent_header": {
      "date": "2019-11-12T11:41:29.147845Z",
      "msg_id": "63aaaa56481441c5b0cf9d4ac019c098",
      "msg_type": "execute_request",
      "session": "0f2ea006536a42af8cb30d18a8c3690d",
      "username": "username",
      "version": "5.2"
     }
    }
   },
   "jupyter_react.7801d73d-5da2-40c9-a224-a280e622207f.QCircuit": {
    "cellIdx": "2",
    "msg": {
     "buffers": [],
     "channel": "iopub",
     "content": {
      "comm_id": "jupyter_react.7801d73d-5da2-40c9-a224-a280e622207f.QCircuit",
      "data": {
       "method": "display"
      }
     },
     "header": {
      "date": "2019-11-11T21:31:03.994974Z",
      "msg_id": "b14220f5-b22b06d6e8b426b4cc30bcbc",
      "msg_type": "comm_msg",
      "session": "d0534993-14eb1f23bc85acad8ded75da",
      "username": "username",
      "version": "5.3"
     },
     "metadata": {},
     "msg_id": "b14220f5-b22b06d6e8b426b4cc30bcbc",
     "msg_type": "comm_msg",
     "parent_header": {
      "date": "2019-11-11T21:31:03.930114Z",
      "msg_id": "9e8db5703c604fa9b0380ba97c531487",
      "msg_type": "execute_request",
      "session": "ba69d06001504fde9e5840d8afcdd578",
      "username": "username",
      "version": "5.2"
     }
    }
   },
   "jupyter_react.92e835b3-cc42-4292-bb71-49e8bf76b80e.QCircuit": {
    "cellIdx": "3",
    "msg": {
     "buffers": [],
     "channel": "iopub",
     "content": {
      "comm_id": "jupyter_react.92e835b3-cc42-4292-bb71-49e8bf76b80e.QCircuit",
      "data": {
       "method": "display"
      }
     },
     "header": {
      "date": "2019-11-12T08:51:43.732596Z",
      "msg_id": "8b899409-724083406ef891b2374d9116",
      "msg_type": "comm_msg",
      "session": "7f8e6e36-12deaad9733c9e6db3a2b37f",
      "username": "username",
      "version": "5.3"
     },
     "metadata": {},
     "msg_id": "8b899409-724083406ef891b2374d9116",
     "msg_type": "comm_msg",
     "parent_header": {
      "date": "2019-11-12T08:51:43.657794Z",
      "msg_id": "620ea92e95ee4166a9a6649835f58661",
      "msg_type": "execute_request",
      "session": "aad72fe47b2e43eb8bc19cde9405d472",
      "username": "username",
      "version": "5.2"
     }
    }
   },
   "jupyter_react.98ac7474-4633-40d4-bac9-810bda834b0e.QCircuit": {
    "cellIdx": "1",
    "msg": {
     "buffers": [],
     "channel": "iopub",
     "content": {
      "comm_id": "jupyter_react.98ac7474-4633-40d4-bac9-810bda834b0e.QCircuit",
      "data": {
       "method": "display"
      }
     },
     "header": {
      "date": "2019-11-11T08:41:56.846243Z",
      "msg_id": "e6688b1d-2e492fc0347c911a15690634",
      "msg_type": "comm_msg",
      "session": "a2919c98-b6f8f08987acc8519e1006d8",
      "username": "username",
      "version": "5.3"
     },
     "metadata": {},
     "msg_id": "e6688b1d-2e492fc0347c911a15690634",
     "msg_type": "comm_msg",
     "parent_header": {
      "date": "2019-11-11T08:41:56.426433Z",
      "msg_id": "e873dd76320d4227b18ba4c97726c8af",
      "msg_type": "execute_request",
      "session": "f29b2fe17071490fbedea5eb0d38a4c5",
      "username": "username",
      "version": "5.2"
     }
    }
   },
   "jupyter_react.9f077ab3-4e54-4a8a-b767-a5e70fd7414d.QCircuit": {
    "cellIdx": "1",
    "msg": {
     "buffers": [],
     "channel": "iopub",
     "content": {
      "comm_id": "jupyter_react.9f077ab3-4e54-4a8a-b767-a5e70fd7414d.QCircuit",
      "data": {
       "method": "display"
      }
     },
     "header": {
      "date": "2019-11-12T11:44:36.015206Z",
      "msg_id": "c6d6d14f-bb2abe8c89a8214b9beb0f01",
      "msg_type": "comm_msg",
      "session": "cb8b8d64-d973e58d85cacb9d3fdf643b",
      "username": "username",
      "version": "5.3"
     },
     "metadata": {},
     "msg_id": "c6d6d14f-bb2abe8c89a8214b9beb0f01",
     "msg_type": "comm_msg",
     "parent_header": {
      "date": "2019-11-12T11:44:35.940405Z",
      "msg_id": "e736889c2175497e8a7f61bf45a88561",
      "msg_type": "execute_request",
      "session": "08cd038f91d642fb859c82914aa84352",
      "username": "username",
      "version": "5.2"
     }
    }
   },
   "jupyter_react.9fb60b73-bc87-48be-bdda-ec1b1618ca8b.QCircuit": {
    "cellIdx": "5",
    "msg": {
     "buffers": [],
     "channel": "iopub",
     "content": {
      "comm_id": "jupyter_react.9fb60b73-bc87-48be-bdda-ec1b1618ca8b.QCircuit",
      "data": {
       "method": "display"
      }
     },
     "header": {
      "date": "2019-11-11T09:11:50.256235Z",
      "msg_id": "deb59b22-a14348bbadea882c35fcb86a",
      "msg_type": "comm_msg",
      "session": "a2919c98-b6f8f08987acc8519e1006d8",
      "username": "username",
      "version": "5.3"
     },
     "metadata": {},
     "msg_id": "deb59b22-a14348bbadea882c35fcb86a",
     "msg_type": "comm_msg",
     "parent_header": {
      "date": "2019-11-11T09:11:50.185425Z",
      "msg_id": "638b01e6284243fa95c6f5ceb9bee9f6",
      "msg_type": "execute_request",
      "session": "f29b2fe17071490fbedea5eb0d38a4c5",
      "username": "username",
      "version": "5.2"
     }
    }
   },
   "jupyter_react.a0eaeac1-de21-4f0b-8b14-9654026f373c.QCircuit": {
    "cellIdx": "2",
    "msg": {
     "buffers": [],
     "channel": "iopub",
     "content": {
      "comm_id": "jupyter_react.a0eaeac1-de21-4f0b-8b14-9654026f373c.QCircuit",
      "data": {
       "method": "display"
      }
     },
     "header": {
      "date": "2019-11-11T08:43:28.566188Z",
      "msg_id": "575d82c1-efcf3f10e36343449f8197d6",
      "msg_type": "comm_msg",
      "session": "a2919c98-b6f8f08987acc8519e1006d8",
      "username": "username",
      "version": "5.3"
     },
     "metadata": {},
     "msg_id": "575d82c1-efcf3f10e36343449f8197d6",
     "msg_type": "comm_msg",
     "parent_header": {
      "date": "2019-11-11T08:43:28.495347Z",
      "msg_id": "57a91491ef1c48cf89340076d7e1d6f4",
      "msg_type": "execute_request",
      "session": "f29b2fe17071490fbedea5eb0d38a4c5",
      "username": "username",
      "version": "5.2"
     }
    }
   },
   "jupyter_react.a5e3e9e2-cf2d-4b3c-b05a-46a15d68c47d.QCircuit": {
    "cellIdx": "1",
    "msg": {
     "buffers": [],
     "channel": "iopub",
     "content": {
      "comm_id": "jupyter_react.a5e3e9e2-cf2d-4b3c-b05a-46a15d68c47d.QCircuit",
      "data": {
       "method": "display"
      }
     },
     "header": {
      "date": "2019-11-12T11:55:45.509918Z",
      "msg_id": "7a470eaa-c11f95b93dd89d688717cf7a",
      "msg_type": "comm_msg",
      "session": "cb8b8d64-d973e58d85cacb9d3fdf643b",
      "username": "username",
      "version": "5.3"
     },
     "metadata": {},
     "msg_id": "7a470eaa-c11f95b93dd89d688717cf7a",
     "msg_type": "comm_msg",
     "parent_header": {
      "date": "2019-11-12T11:55:45.432127Z",
      "msg_id": "ae4f097b372346db89ed83bffe156adf",
      "msg_type": "execute_request",
      "session": "5e8c5ff5c6a64154931aaebca8df560c",
      "username": "username",
      "version": "5.2"
     }
    }
   },
   "jupyter_react.b507e064-9059-4596-8329-0dab41ef38f3.QCircuit": {
    "cellIdx": "1",
    "msg": {
     "buffers": [],
     "channel": "iopub",
     "content": {
      "comm_id": "jupyter_react.b507e064-9059-4596-8329-0dab41ef38f3.QCircuit",
      "data": {
       "method": "display"
      }
     },
     "header": {
      "date": "2019-11-12T08:09:14.527880Z",
      "msg_id": "3fe70692-f96a46f86c292ce7fd563aeb",
      "msg_type": "comm_msg",
      "session": "e3b64cb4-85910fe694ccb0f21f77daa1",
      "username": "username",
      "version": "5.3"
     },
     "metadata": {},
     "msg_id": "3fe70692-f96a46f86c292ce7fd563aeb",
     "msg_type": "comm_msg",
     "parent_header": {
      "date": "2019-11-12T08:09:14.453078Z",
      "msg_id": "91dbba49a76b4788ad56b898b177aca5",
      "msg_type": "execute_request",
      "session": "21f897f7ca594aef8014d33267f04ad7",
      "username": "username",
      "version": "5.2"
     }
    }
   },
   "jupyter_react.b99559b7-e3b2-425b-ba07-3d2a5e5b270b.QCircuit": {
    "cellIdx": "1",
    "msg": {
     "buffers": [],
     "channel": "iopub",
     "content": {
      "comm_id": "jupyter_react.b99559b7-e3b2-425b-ba07-3d2a5e5b270b.QCircuit",
      "data": {
       "method": "display"
      }
     },
     "header": {
      "date": "2019-11-11T21:22:40.347853Z",
      "msg_id": "2d3a22f9-e8f7810e0dff48b2fc47ed2e",
      "msg_type": "comm_msg",
      "session": "0eeac91c-f729ff59be29af022870e311",
      "username": "username",
      "version": "5.3"
     },
     "metadata": {},
     "msg_id": "2d3a22f9-e8f7810e0dff48b2fc47ed2e",
     "msg_type": "comm_msg",
     "parent_header": {
      "date": "2019-11-11T21:22:40.269064Z",
      "msg_id": "e09e38a1715f43eba34c924e2a4f283f",
      "msg_type": "execute_request",
      "session": "5bbd9e4052104b2bad7b580a595098f5",
      "username": "username",
      "version": "5.2"
     }
    }
   },
   "jupyter_react.bfae0c77-c500-4969-80d0-3768d3cdaddc.QCircuit": {
    "cellIdx": "1",
    "msg": {
     "buffers": [],
     "channel": "iopub",
     "content": {
      "comm_id": "jupyter_react.bfae0c77-c500-4969-80d0-3768d3cdaddc.QCircuit",
      "data": {
       "method": "display"
      }
     },
     "header": {
      "date": "2019-11-12T11:06:00.620682Z",
      "msg_id": "f63857e7-14a29e6eed18672fbab704c9",
      "msg_type": "comm_msg",
      "session": "cb8b8d64-d973e58d85cacb9d3fdf643b",
      "username": "username",
      "version": "5.3"
     },
     "metadata": {},
     "msg_id": "f63857e7-14a29e6eed18672fbab704c9",
     "msg_type": "comm_msg",
     "parent_header": {
      "date": "2019-11-12T11:06:00.541954Z",
      "msg_id": "098b70185491499d9f51881fa3978d18",
      "msg_type": "execute_request",
      "session": "69cd851ef0844d488083109320850615",
      "username": "username",
      "version": "5.2"
     }
    }
   },
   "jupyter_react.c4a41f13-5d6f-4605-8b4b-41a9a0ed1be0.QCircuit": {
    "cellIdx": "1",
    "msg": {
     "buffers": [],
     "channel": "iopub",
     "content": {
      "comm_id": "jupyter_react.c4a41f13-5d6f-4605-8b4b-41a9a0ed1be0.QCircuit",
      "data": {
       "method": "display"
      }
     },
     "header": {
      "date": "2019-11-12T08:19:55.952612Z",
      "msg_id": "0926c10a-e9820119b402ce3cc5668404",
      "msg_type": "comm_msg",
      "session": "7f8e6e36-12deaad9733c9e6db3a2b37f",
      "username": "username",
      "version": "5.3"
     },
     "metadata": {},
     "msg_id": "0926c10a-e9820119b402ce3cc5668404",
     "msg_type": "comm_msg",
     "parent_header": {
      "date": "2019-11-12T08:19:54.953828Z",
      "msg_id": "8b84fdecc2e2457581d7553cd0f76898",
      "msg_type": "execute_request",
      "session": "f90700a6ca024f83882a107183687053",
      "username": "username",
      "version": "5.2"
     }
    }
   },
   "jupyter_react.c7468c1d-3993-4306-8551-ffd31c445df9.QCircuit": {
    "cellIdx": "1",
    "msg": {
     "buffers": [],
     "channel": "iopub",
     "content": {
      "comm_id": "jupyter_react.c7468c1d-3993-4306-8551-ffd31c445df9.QCircuit",
      "data": {
       "method": "display"
      }
     },
     "header": {
      "date": "2019-11-12T11:20:06.589035Z",
      "msg_id": "f59727e0-4a6d2ce749af6beb93731ec6",
      "msg_type": "comm_msg",
      "session": "cb8b8d64-d973e58d85cacb9d3fdf643b",
      "username": "username",
      "version": "5.3"
     },
     "metadata": {},
     "msg_id": "f59727e0-4a6d2ce749af6beb93731ec6",
     "msg_type": "comm_msg",
     "parent_header": {
      "date": "2019-11-12T11:20:06.495291Z",
      "msg_id": "318800c7207a41c58d6192fb97e9e048",
      "msg_type": "execute_request",
      "session": "7694d040b0394a98907b0fed1cf38084",
      "username": "username",
      "version": "5.2"
     }
    }
   },
   "jupyter_react.caf397ec-371a-4a56-bf8f-5bdb7a85e6fe.QCircuit": {
    "cellIdx": "1",
    "msg": {
     "buffers": [],
     "channel": "iopub",
     "content": {
      "comm_id": "jupyter_react.caf397ec-371a-4a56-bf8f-5bdb7a85e6fe.QCircuit",
      "data": {
       "method": "display"
      }
     },
     "header": {
      "date": "2019-11-11T20:47:13.360566Z",
      "msg_id": "ff281421-714d3e5a369580547478a6f7",
      "msg_type": "comm_msg",
      "session": "e6e6d9d3-03ab989b9de702f2dcb7dc9b",
      "username": "username",
      "version": "5.3"
     },
     "metadata": {},
     "msg_id": "ff281421-714d3e5a369580547478a6f7",
     "msg_type": "comm_msg",
     "parent_header": {
      "date": "2019-11-11T20:47:07.038259Z",
      "msg_id": "505f8895cc8a4115acb065922a2eadd5",
      "msg_type": "execute_request",
      "session": "dfbce2d7eea04ccb99dbe9f5b17af302",
      "username": "username",
      "version": "5.2"
     }
    }
   },
   "jupyter_react.d0807946-197f-4bb6-ac3a-da820f7425b7.QCircuit": {
    "cellIdx": "1",
    "msg": {
     "buffers": [],
     "channel": "iopub",
     "content": {
      "comm_id": "jupyter_react.d0807946-197f-4bb6-ac3a-da820f7425b7.QCircuit",
      "data": {
       "method": "display"
      }
     },
     "header": {
      "date": "2019-11-12T11:41:54.893916Z",
      "msg_id": "2aa82bc1-6ccb5ccf4546d622f0b51172",
      "msg_type": "comm_msg",
      "session": "cb8b8d64-d973e58d85cacb9d3fdf643b",
      "username": "username",
      "version": "5.3"
     },
     "metadata": {},
     "msg_id": "2aa82bc1-6ccb5ccf4546d622f0b51172",
     "msg_type": "comm_msg",
     "parent_header": {
      "date": "2019-11-12T11:41:54.815116Z",
      "msg_id": "9ef558253e8c42d6865953b497fc7158",
      "msg_type": "execute_request",
      "session": "244bc7aee3c04e90b80561d1899cf0e4",
      "username": "username",
      "version": "5.2"
     }
    }
   },
   "jupyter_react.d394d605-7df6-410e-b443-0b30a5afc1d0.QCircuit": {
    "cellIdx": "1",
    "msg": {
     "buffers": [],
     "channel": "iopub",
     "content": {
      "comm_id": "jupyter_react.d394d605-7df6-410e-b443-0b30a5afc1d0.QCircuit",
      "data": {
       "method": "display"
      }
     },
     "header": {
      "date": "2019-11-12T11:44:07.115326Z",
      "msg_id": "c50ce027-dd12d6c608ea54be4fb5d018",
      "msg_type": "comm_msg",
      "session": "cb8b8d64-d973e58d85cacb9d3fdf643b",
      "username": "username",
      "version": "5.3"
     },
     "metadata": {},
     "msg_id": "c50ce027-dd12d6c608ea54be4fb5d018",
     "msg_type": "comm_msg",
     "parent_header": {
      "date": "2019-11-12T11:44:07.030557Z",
      "msg_id": "ab763c5a58664e7bab7a7636da527e46",
      "msg_type": "execute_request",
      "session": "ca904483a0b341429c0e089a5303297b",
      "username": "username",
      "version": "5.2"
     }
    }
   },
   "jupyter_react.d3a5a1dd-6f03-48db-a3fd-baa7505a510f.QCircuit": {
    "cellIdx": "3",
    "msg": {
     "buffers": [],
     "channel": "iopub",
     "content": {
      "comm_id": "jupyter_react.d3a5a1dd-6f03-48db-a3fd-baa7505a510f.QCircuit",
      "data": {
       "method": "display"
      }
     },
     "header": {
      "date": "2019-11-11T08:44:32.126455Z",
      "msg_id": "0b4dd1b6-bf74e50f857c1a9ba1b090a2",
      "msg_type": "comm_msg",
      "session": "a2919c98-b6f8f08987acc8519e1006d8",
      "username": "username",
      "version": "5.3"
     },
     "metadata": {},
     "msg_id": "0b4dd1b6-bf74e50f857c1a9ba1b090a2",
     "msg_type": "comm_msg",
     "parent_header": {
      "date": "2019-11-11T08:44:32.050655Z",
      "msg_id": "d672928a36784d06801a7d7c8e74e97e",
      "msg_type": "execute_request",
      "session": "f29b2fe17071490fbedea5eb0d38a4c5",
      "username": "username",
      "version": "5.2"
     }
    }
   },
   "jupyter_react.ddcb013c-7e80-4ef0-944c-e3828d98ce76.QCircuit": {
    "cellIdx": "1",
    "msg": {
     "buffers": [],
     "channel": "iopub",
     "content": {
      "comm_id": "jupyter_react.ddcb013c-7e80-4ef0-944c-e3828d98ce76.QCircuit",
      "data": {
       "method": "display"
      }
     },
     "header": {
      "date": "2019-11-12T11:55:41.185499Z",
      "msg_id": "edbcf3e7-e6beb22b88eb984d3be19909",
      "msg_type": "comm_msg",
      "session": "cb8b8d64-d973e58d85cacb9d3fdf643b",
      "username": "username",
      "version": "5.3"
     },
     "metadata": {},
     "msg_id": "edbcf3e7-e6beb22b88eb984d3be19909",
     "msg_type": "comm_msg",
     "parent_header": {
      "date": "2019-11-12T11:55:41.103688Z",
      "msg_id": "019d379898b74700b685f6ef2812c241",
      "msg_type": "execute_request",
      "session": "5e8c5ff5c6a64154931aaebca8df560c",
      "username": "username",
      "version": "5.2"
     }
    }
   },
   "jupyter_react.e566fbef-f0f5-4dd8-a7c4-1ce0e7c8b91e.QCircuit": {
    "cellIdx": "1",
    "msg": {
     "buffers": [],
     "channel": "iopub",
     "content": {
      "comm_id": "jupyter_react.e566fbef-f0f5-4dd8-a7c4-1ce0e7c8b91e.QCircuit",
      "data": {
       "method": "display"
      }
     },
     "header": {
      "date": "2019-11-12T08:50:54.114710Z",
      "msg_id": "d892f58b-025e676a353a8b9fb0819b6d",
      "msg_type": "comm_msg",
      "session": "7f8e6e36-12deaad9733c9e6db3a2b37f",
      "username": "username",
      "version": "5.3"
     },
     "metadata": {},
     "msg_id": "d892f58b-025e676a353a8b9fb0819b6d",
     "msg_type": "comm_msg",
     "parent_header": {
      "date": "2019-11-12T08:50:54.018942Z",
      "msg_id": "518b1ff7454b4e1283d84e466f3ee1c8",
      "msg_type": "execute_request",
      "session": "aad72fe47b2e43eb8bc19cde9405d472",
      "username": "username",
      "version": "5.2"
     }
    }
   },
   "jupyter_react.eca51d5d-c1fb-4e9e-8174-53c13b18ab88.QCircuit": {
    "cellIdx": "1",
    "msg": {
     "buffers": [],
     "channel": "iopub",
     "content": {
      "comm_id": "jupyter_react.eca51d5d-c1fb-4e9e-8174-53c13b18ab88.QCircuit",
      "data": {
       "method": "display"
      }
     },
     "header": {
      "date": "2019-11-12T11:56:55.196749Z",
      "msg_id": "d038dfa6-63e0886c3cc027b0c5737da3",
      "msg_type": "comm_msg",
      "session": "4d7d713e-496dea5dd4257ca0588e3870",
      "username": "username",
      "version": "5.3"
     },
     "metadata": {},
     "msg_id": "d038dfa6-63e0886c3cc027b0c5737da3",
     "msg_type": "comm_msg",
     "parent_header": {
      "date": "2019-11-12T11:56:53.501558Z",
      "msg_id": "22a3a12dc1e349db9bc1e17609a548fc",
      "msg_type": "execute_request",
      "session": "5e8c5ff5c6a64154931aaebca8df560c",
      "username": "username",
      "version": "5.2"
     }
    }
   }
  }
 },
 "nbformat": 4,
 "nbformat_minor": 2
}
