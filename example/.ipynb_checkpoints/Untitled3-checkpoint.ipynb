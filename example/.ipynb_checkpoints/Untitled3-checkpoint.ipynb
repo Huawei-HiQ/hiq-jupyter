{
 "cells": [
  {
   "cell_type": "code",
   "execution_count": 1,
   "metadata": {},
   "outputs": [],
   "source": [
    "import math\n",
    "\n",
    "from projectq import MainEngine\n",
    "from projectq.ops import H, Z, X, Measure, All\n",
    "from projectq.meta import Loop, Compute, Uncompute, Control\n",
    "\n",
    "from qcircuit import QCircuit, Classic, Qubit, Qureg"
   ]
  },
  {
   "cell_type": "code",
   "execution_count": 15,
   "metadata": {},
   "outputs": [],
   "source": [
    "n_qubits = 4\n",
    "circuitInit = QCircuit(oracle_out=Qubit, x=(n_qubits, ))\n",
    "circuitInit"
   ]
  },
  {
   "cell_type": "code",
   "execution_count": 16,
   "metadata": {},
   "outputs": [
    {
     "data": {
      "text/plain": [
       "{'header': {'msg_id': '7c9cfdde2d974ff2834533b9056cb037',\n",
       "  'username': 'username',\n",
       "  'session': 'b9ed00a8e9df473e8c30369411ab1538',\n",
       "  'msg_type': 'comm_msg',\n",
       "  'version': '5.2',\n",
       "  'date': datetime.datetime(2019, 11, 9, 22, 25, 30, 41334, tzinfo=tzutc())},\n",
       " 'msg_id': '7c9cfdde2d974ff2834533b9056cb037',\n",
       " 'msg_type': 'comm_msg',\n",
       " 'parent_header': {},\n",
       " 'metadata': {},\n",
       " 'content': {'comm_id': 'jupyter_react.bf57864e-cc70-4435-a1b8-b894cc895cf2.QCircuit',\n",
       "  'data': {'action': 'save_schema',\n",
       "   'qschema': [['', '', ''],\n",
       "    ['', '', ''],\n",
       "    ['', '', ''],\n",
       "    ['', 'Z', '', 'X'],\n",
       "    ['', '', '']],\n",
       "   'qregs': [{'name': 'oracle_out', 'type': 'QUANTUM'},\n",
       "    {'name': 'x', 'type': 'QUREG', 'size': 4}]}},\n",
       " 'buffers': []}"
      ]
     },
     "execution_count": 16,
     "metadata": {},
     "output_type": "execute_result"
    }
   ],
   "source": [
    "circuitInit._last_msg"
   ]
  }
 ],
 "metadata": {
  "kernelspec": {
   "display_name": "Python 3",
   "language": "python",
   "name": "python3"
  },
  "language_info": {
   "codemirror_mode": {
    "name": "ipython",
    "version": 3
   },
   "file_extension": ".py",
   "mimetype": "text/x-python",
   "name": "python",
   "nbconvert_exporter": "python",
   "pygments_lexer": "ipython3",
   "version": "3.7.1"
  },
  "react_comms": {
   "jupyter_react.1c84046a-9032-492d-9210-c5db8be59bc6.QCircuit": {
    "cellIdx": "1",
    "msg": {
     "buffers": [],
     "channel": "iopub",
     "content": {
      "comm_id": "jupyter_react.1c84046a-9032-492d-9210-c5db8be59bc6.QCircuit",
      "data": {
       "method": "display"
      }
     },
     "header": {
      "date": "2019-11-09T21:44:20.795906Z",
      "msg_id": "a8b584a0-a757dc73f2cd94b6c7ad3ac3",
      "msg_type": "comm_msg",
      "session": "52766ce9-90d9f0a0d0b10e0fee276a4f",
      "username": "username",
      "version": "5.3"
     },
     "metadata": {},
     "msg_id": "a8b584a0-a757dc73f2cd94b6c7ad3ac3",
     "msg_type": "comm_msg",
     "parent_header": {
      "date": "2019-11-09T21:44:20.787935Z",
      "msg_id": "c99a82409c8947ab80e622605cc5221e",
      "msg_type": "execute_request",
      "session": "7bf034033668403588abd2cc023408a4",
      "username": "username",
      "version": "5.2"
     }
    }
   },
   "jupyter_react.2368b474-606b-459b-bc0b-4c79197d27de.QCircuit": {
    "cellIdx": "1",
    "msg": {
     "buffers": [],
     "channel": "iopub",
     "content": {
      "comm_id": "jupyter_react.2368b474-606b-459b-bc0b-4c79197d27de.QCircuit",
      "data": {
       "method": "display"
      }
     },
     "header": {
      "date": "2019-11-09T21:29:15.490342Z",
      "msg_id": "5306d632-442e9ead19661eac9004d2eb",
      "msg_type": "comm_msg",
      "session": "52766ce9-90d9f0a0d0b10e0fee276a4f",
      "username": "username",
      "version": "5.3"
     },
     "metadata": {},
     "msg_id": "5306d632-442e9ead19661eac9004d2eb",
     "msg_type": "comm_msg",
     "parent_header": {
      "date": "2019-11-09T21:29:15.484357Z",
      "msg_id": "2bbf10cfc4e24cff812f1ae1088910b5",
      "msg_type": "execute_request",
      "session": "40cfccd7fc8e4d30b6e0787affa89dd3",
      "username": "username",
      "version": "5.2"
     }
    }
   },
   "jupyter_react.bf57864e-cc70-4435-a1b8-b894cc895cf2.QCircuit": {
    "cellIdx": "1",
    "msg": {
     "buffers": [],
     "channel": "iopub",
     "content": {
      "comm_id": "jupyter_react.bf57864e-cc70-4435-a1b8-b894cc895cf2.QCircuit",
      "data": {
       "method": "display"
      }
     },
     "header": {
      "date": "2019-11-09T22:25:25.060158Z",
      "msg_id": "72db1a02-9c3512eba765b47a29cc1846",
      "msg_type": "comm_msg",
      "session": "52766ce9-90d9f0a0d0b10e0fee276a4f",
      "username": "username",
      "version": "5.3"
     },
     "metadata": {},
     "msg_id": "72db1a02-9c3512eba765b47a29cc1846",
     "msg_type": "comm_msg",
     "parent_header": {
      "date": "2019-11-09T22:25:25.047194Z",
      "msg_id": "f62fb4bf27714e42858488b9bc028e49",
      "msg_type": "execute_request",
      "session": "b9ed00a8e9df473e8c30369411ab1538",
      "username": "username",
      "version": "5.2"
     }
    }
   }
  }
 },
 "nbformat": 4,
 "nbformat_minor": 2
}
