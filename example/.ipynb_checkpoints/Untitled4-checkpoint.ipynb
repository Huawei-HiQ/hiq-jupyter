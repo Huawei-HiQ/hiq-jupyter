{
 "cells": [
  {
   "cell_type": "code",
   "execution_count": 1,
   "metadata": {},
   "outputs": [],
   "source": [
    "import math\n",
    "\n",
    "from projectq import MainEngine\n",
    "from projectq.ops import H, Z, X, Measure, All\n",
    "from projectq.meta import Loop, Compute, Uncompute, Control\n",
    "\n",
    "from qcircuit import QCircuit, Classic, Qubit, Qureg"
   ]
  },
  {
   "cell_type": "code",
   "execution_count": 2,
   "metadata": {},
   "outputs": [],
   "source": [
    "n_qubits = 4\n",
    "circuitInit = QCircuit(oracle_out=Qubit, x=(n_qubits, ))\n",
    "circuitInit"
   ]
  },
  {
   "cell_type": "code",
   "execution_count": null,
   "metadata": {},
   "outputs": [],
   "source": []
  }
 ],
 "metadata": {
  "kernelspec": {
   "display_name": "Python 3",
   "language": "python",
   "name": "python3"
  },
  "language_info": {
   "codemirror_mode": {
    "name": "ipython",
    "version": 3
   },
   "file_extension": ".py",
   "mimetype": "text/x-python",
   "name": "python",
   "nbconvert_exporter": "python",
   "pygments_lexer": "ipython3",
   "version": "3.7.1"
  },
  "react_comms": {
   "jupyter_react.0a8154d2-4ada-4f5c-89cb-f562f0fdd632.QCircuit": {
    "cellIdx": "1",
    "msg": {
     "buffers": [],
     "channel": "iopub",
     "content": {
      "comm_id": "jupyter_react.0a8154d2-4ada-4f5c-89cb-f562f0fdd632.QCircuit",
      "data": {
       "method": "display"
      }
     },
     "header": {
      "date": "2019-11-09T22:28:37.781294Z",
      "msg_id": "313e49b4-352d40458c61054856e28209",
      "msg_type": "comm_msg",
      "session": "63d87268-86ed38ade15a0c7af4b109b8",
      "username": "username",
      "version": "5.3"
     },
     "metadata": {},
     "msg_id": "313e49b4-352d40458c61054856e28209",
     "msg_type": "comm_msg",
     "parent_header": {
      "date": "2019-11-09T22:28:37.776338Z",
      "msg_id": "7e7700e8a9104abd9a2cc46ce3d46c37",
      "msg_type": "execute_request",
      "session": "54d70d2ea3f74c9dbd57cbd127812235",
      "username": "username",
      "version": "5.2"
     }
    }
   },
   "jupyter_react.8353912c-372f-49f3-93d9-bb42e176dc78.QCircuit": {
    "cellIdx": "1",
    "msg": {
     "buffers": [],
     "channel": "iopub",
     "content": {
      "comm_id": "jupyter_react.8353912c-372f-49f3-93d9-bb42e176dc78.QCircuit",
      "data": {
       "method": "display"
      }
     },
     "header": {
      "date": "2019-11-09T22:32:52.493338Z",
      "msg_id": "1d6eb368-9db58339770a7edaf6f9bdc9",
      "msg_type": "comm_msg",
      "session": "6239279c-ce0a8cbac31bc5407addeda4",
      "username": "username",
      "version": "5.3"
     },
     "metadata": {},
     "msg_id": "1d6eb368-9db58339770a7edaf6f9bdc9",
     "msg_type": "comm_msg",
     "parent_header": {
      "date": "2019-11-09T22:32:51.363363Z",
      "msg_id": "84f4162fd58b46dfa39d18872aa0489d",
      "msg_type": "execute_request",
      "session": "9304a705172e4b839c7ac63189bd8642",
      "username": "username",
      "version": "5.2"
     }
    }
   }
  }
 },
 "nbformat": 4,
 "nbformat_minor": 2
}
