{
 "cells": [
  {
   "cell_type": "code",
   "execution_count": 1,
   "metadata": {},
   "outputs": [],
   "source": [
    "import math\n",
    "\n",
    "from projectq import MainEngine\n",
    "from projectq.ops import H, Z, X, Measure, All\n",
    "from projectq.meta import Loop, Compute, Uncompute, Control\n",
    "\n",
    "from qcircuit import QCircuit, Classic, Qubit, Qureg"
   ]
  },
  {
   "cell_type": "code",
   "execution_count": 9,
   "metadata": {},
   "outputs": [],
   "source": [
    "n_qubits = 4\n",
    "circuitInit = QCircuit(oracle_out=Qubit, x=(n_qubits, ))\n",
    "circuitInit"
   ]
  },
  {
   "cell_type": "code",
   "execution_count": 8,
   "metadata": {},
   "outputs": [
    {
     "data": {
      "text/plain": [
       "{'header': {'msg_id': 'bf17676d07ea4ac585ec462d7a48e2e3',\n",
       "  'username': 'username',\n",
       "  'session': '2cb010ec6dee43928db67e61344a0d37',\n",
       "  'msg_type': 'comm_msg',\n",
       "  'version': '5.2',\n",
       "  'date': datetime.datetime(2019, 11, 7, 13, 39, 57, 672105, tzinfo=tzutc())},\n",
       " 'msg_id': 'bf17676d07ea4ac585ec462d7a48e2e3',\n",
       " 'msg_type': 'comm_msg',\n",
       " 'parent_header': {},\n",
       " 'metadata': {},\n",
       " 'content': {'comm_id': 'jupyter_react.b708fd0c-eb8b-40e2-90d3-7e0162077c16.QCircuit',\n",
       "  'data': {'action': 'save_schema', 'qschema': [[], [], [], [], []]}},\n",
       " 'buffers': []}"
      ]
     },
     "execution_count": 8,
     "metadata": {},
     "output_type": "execute_result"
    }
   ],
   "source": [
    "circuitInit._last_msg"
   ]
  }
 ],
 "metadata": {
  "kernelspec": {
   "display_name": "Python 3",
   "language": "python",
   "name": "python3"
  },
  "language_info": {
   "codemirror_mode": {
    "name": "ipython",
    "version": 3
   },
   "file_extension": ".py",
   "mimetype": "text/x-python",
   "name": "python",
   "nbconvert_exporter": "python",
   "pygments_lexer": "ipython3",
   "version": "3.7.1"
  }
 },
 "nbformat": 4,
 "nbformat_minor": 2
}
