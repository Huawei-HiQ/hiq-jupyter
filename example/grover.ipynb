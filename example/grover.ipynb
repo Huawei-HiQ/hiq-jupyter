{
 "cells": [
  {
   "cell_type": "code",
   "execution_count": 1,
   "metadata": {},
   "outputs": [],
   "source": [
    "%load_ext autoreload\n",
    "%autoreload 2\n",
    "import math\n",
    "\n",
    "from projectq import MainEngine\n",
    "from projectq.ops import H, Z, X, Measure, All\n",
    "from projectq.meta import Loop, Compute, Uncompute, Control\n",
    "\n",
    "from qcircuit import QCircuit, Classic, Qubit, Qureg\n"
   ]
  },
  {
   "cell_type": "code",
   "execution_count": 10,
   "metadata": {
    "_hiq_info": {
     "comm_id": "jupyter_react.a11bf594-35ca-45c2-9a49-d1c960665676.QCircuit",
     "msg": {
      "buffers": [],
      "channel": "iopub",
      "content": {
       "comm_id": "jupyter_react.a11bf594-35ca-45c2-9a49-d1c960665676.QCircuit",
       "data": {
        "method": "display"
       }
      },
      "header": {
       "date": "2019-11-13T11:05:54.284385Z",
       "msg_id": "1352e00a-4f057a7183b67b4a89296a77",
       "msg_type": "comm_msg",
       "session": "446947e6-5482a610d4dff2f756cb8bc2",
       "username": "username",
       "version": "5.3"
      },
      "metadata": {},
      "msg_id": "1352e00a-4f057a7183b67b4a89296a77",
      "msg_type": "comm_msg",
      "parent_header": {
       "date": "2019-11-13T11:05:54.206594Z",
       "msg_id": "d9a7ba7100784f7784dea9749d8a77bd",
       "msg_type": "execute_request",
       "session": "545404a0a8c4468b80bc4d3a7e006352",
       "username": "username",
       "version": "5.2"
      }
     },
     "qregs": [
      {
       "name": "qreg",
       "size": 4,
       "type": "QUREG"
      },
      {
       "name": "qncilla",
       "type": "QUANTUM"
      },
      {
       "name": "c_in",
       "type": "CLASSIC"
      }
     ],
     "qschema": [
      [
       "X",
       "",
       "X"
      ],
      [
       "",
       ""
      ],
      [
       "X",
       "",
       "X"
      ],
      [
       "",
       ""
      ],
      [
       "",
       "Z-5,0,1,2,3"
      ],
      [
       "",
       ""
      ]
     ]
    }
   },
   "outputs": [],
   "source": [
    "n_qubits = 4\n",
    "circuit_obj = QCircuit(qreg=(n_qubits, ), qncilla=Qubit, c_in=Classic)\n",
    "circuit_obj"
   ]
  },
  {
   "cell_type": "code",
   "execution_count": 10,
   "metadata": {
    "_hiq_info": {
     "comm_id": "jupyter_react.ef530bd0-d7a5-4ca1-98f6-46312a3a864f.QCircuit",
     "msg": {
      "buffers": [],
      "channel": "iopub",
      "content": {
       "comm_id": "jupyter_react.ef530bd0-d7a5-4ca1-98f6-46312a3a864f.QCircuit",
       "data": {
        "method": "display"
       }
      },
      "header": {
       "date": "2019-11-13T06:24:33.552438Z",
       "msg_id": "3485c515-55cd6ba5e013c599b516be5d",
       "msg_type": "comm_msg",
       "session": "55e11f24-392db00f637e6ab35354fc87",
       "username": "username",
       "version": "5.3"
      },
      "metadata": {},
      "msg_id": "3485c515-55cd6ba5e013c599b516be5d",
      "msg_type": "comm_msg",
      "parent_header": {
       "date": "2019-11-13T06:24:33.465674Z",
       "msg_id": "5de6be65804b460cab346a19d2217402",
       "msg_type": "execute_request",
       "session": "545404a0a8c4468b80bc4d3a7e006352",
       "username": "username",
       "version": "5.2"
      }
     },
     "qregs": [
      {
       "name": "oracle_out",
       "type": "QUANTUM"
      },
      {
       "name": "x",
       "size": 3,
       "type": "QUREG"
      }
     ],
     "qschema": [
      [
       "",
       "X",
       "H"
      ],
      [
       "H",
       ""
      ],
      [
       "H",
       ""
      ],
      [
       "H",
       ""
      ]
     ]
    }
   },
   "outputs": [],
   "source": [
    "n_qubits = 3\n",
    "circuitInit = QCircuit(oracle_out=Qubit, x=(n_qubits, ))\n",
    "circuitInit"
   ]
  },
  {
   "cell_type": "code",
   "execution_count": 3,
   "metadata": {
    "_hiq_info": {
     "comm_id": "jupyter_react.7cb56a4f-62ba-4a1c-8b7d-f12788306fc1.QCircuit",
     "msg": {
      "buffers": [],
      "channel": "iopub",
      "content": {
       "comm_id": "jupyter_react.7cb56a4f-62ba-4a1c-8b7d-f12788306fc1.QCircuit",
       "data": {
        "method": "display"
       }
      },
      "header": {
       "date": "2019-11-13T06:23:42.931894Z",
       "msg_id": "4dc1aed0-f2b2d641c7eaa88c715aa1bd",
       "msg_type": "comm_msg",
       "session": "55e11f24-392db00f637e6ab35354fc87",
       "username": "username",
       "version": "5.3"
      },
      "metadata": {},
      "msg_id": "4dc1aed0-f2b2d641c7eaa88c715aa1bd",
      "msg_type": "comm_msg",
      "parent_header": {
       "date": "2019-11-13T06:23:42.852080Z",
       "msg_id": "86777b308eff44a0b182c4f894478faf",
       "msg_type": "execute_request",
       "session": "545404a0a8c4468b80bc4d3a7e006352",
       "username": "username",
       "version": "5.2"
      }
     },
     "qregs": [
      {
       "name": "oracle_out",
       "type": "QUANTUM"
      },
      {
       "name": "x",
       "size": 3,
       "type": "QUREG"
      }
     ],
     "qschema": [
      [
       "",
       "",
       "",
       "",
       "",
       ""
      ],
      [
       "H",
       "X",
       "",
       "",
       "",
       "X",
       "H"
      ],
      [
       "H",
       "X",
       "",
       "",
       "",
       "X",
       "H"
      ],
      [
       "H",
       "X",
       "",
       "Z-1,2",
       "",
       "X",
       "H"
      ]
     ]
    }
   },
   "outputs": [],
   "source": [
    "circuitLoop = QCircuit(oracle_out=Qubit, x=(n_qubits, ))\n",
    "circuitLoop"
   ]
  },
  {
   "cell_type": "code",
   "execution_count": null,
   "metadata": {},
   "outputs": [],
   "source": []
  },
  {
   "cell_type": "code",
   "execution_count": 4,
   "metadata": {
    "_hiq_info": {
     "comm_id": "jupyter_react.26ce014b-9dcf-446e-8b3f-e1e3266202ef.QCircuit",
     "msg": {
      "buffers": [],
      "channel": "iopub",
      "content": {
       "comm_id": "jupyter_react.26ce014b-9dcf-446e-8b3f-e1e3266202ef.QCircuit",
       "data": {
        "method": "display"
       }
      },
      "header": {
       "date": "2019-11-13T06:23:46.356871Z",
       "msg_id": "136fc47d-a113386a757902eee3833aa0",
       "msg_type": "comm_msg",
       "session": "55e11f24-392db00f637e6ab35354fc87",
       "username": "username",
       "version": "5.3"
      },
      "metadata": {},
      "msg_id": "136fc47d-a113386a757902eee3833aa0",
      "msg_type": "comm_msg",
      "parent_header": {
       "date": "2019-11-13T06:23:46.277093Z",
       "msg_id": "732960bfbbbf4f78870766f5470f8dfe",
       "msg_type": "execute_request",
       "session": "545404a0a8c4468b80bc4d3a7e006352",
       "username": "username",
       "version": "5.2"
      }
     },
     "qregs": [
      {
       "name": "oracle_out",
       "type": "QUANTUM"
      },
      {
       "name": "x",
       "size": 3,
       "type": "QUREG"
      }
     ],
     "qschema": [
      [
       "",
       "X-1,2,3"
      ],
      [
       "X",
       "",
       "X"
      ],
      [
       "",
       ""
      ],
      [
       "X",
       "",
       "X"
      ]
     ]
    }
   },
   "outputs": [],
   "source": [
    "oracle = QCircuit(oracle_out=Qubit, x=(n_qubits, ))\n",
    "oracle"
   ]
  },
  {
   "cell_type": "code",
   "execution_count": 5,
   "metadata": {},
   "outputs": [
    {
     "name": "stdout",
     "output_type": "stream",
     "text": [
      "(Note: This is the (slow) Python simulator.)\n",
      "oracle_out\n",
      "x\n",
      "2\n",
      "Debug:  H  |  x\n",
      "Debug:  H  |  x\n",
      "Debug:  H  |  x\n",
      "Debug:  X  |  oracle_out\n",
      "Debug:  H  |  oracle_out\n",
      "oracle_out\n",
      "x\n",
      "2\n",
      "Debug:  X  |  x\n",
      "Debug:  X  |  x\n",
      "Debug:  X  with Control( ['1', '2', '3'] )\n",
      "Debug:  X  |  x\n",
      "Debug:  X  |  x\n",
      "oracle_out\n",
      "x\n",
      "2\n",
      "Debug:  H  |  x\n",
      "Debug:  H  |  x\n",
      "Debug:  H  |  x\n",
      "Debug:  X  |  x\n",
      "Debug:  X  |  x\n",
      "Debug:  X  |  x\n",
      "Debug:  Z  with Control( ['1', '2'] )\n",
      "Debug:  X  |  x\n",
      "Debug:  X  |  x\n",
      "Debug:  X  |  x\n",
      "Debug:  H  |  x\n",
      "Debug:  H  |  x\n",
      "Debug:  H  |  x\n",
      "[1, 1, 0]\n"
     ]
    }
   ],
   "source": [
    "import math\n",
    "\n",
    "from projectq import MainEngine\n",
    "from projectq.ops import H, Z, X, Measure, All\n",
    "from projectq.meta import Loop, Compute, Uncompute, Control\n",
    "\n",
    "\n",
    "def run_grover(eng, n):\n",
    "    \"\"\"\n",
    "    Runs Grover's algorithm on n qubit using the provided quantum oracle.\n",
    "\n",
    "    Args:\n",
    "        eng (MainEngine): Main compiler engine to run Grover on.\n",
    "        n (int): Number of bits in the solution.\n",
    "        oracle (function): Function accepting the engine, an n-qubit register,\n",
    "            and an output qubit which is flipped by the oracle for the correct\n",
    "            bit string.\n",
    "\n",
    "    Returns:\n",
    "        solution (list<int>): Solution bit-string.\n",
    "    \"\"\"\n",
    "    x = eng.allocate_qureg(n)\n",
    "    oracle_out = eng.allocate_qubit()\n",
    "\n",
    "    # number of iterations we have to run:\n",
    "    num_it = int(math.pi/4.*math.sqrt(1 << n))\n",
    "\n",
    "    circuitInit(eng, oracle_out, x)\n",
    "    \n",
    "    # run num_it iterations\n",
    "    with Loop(eng, num_it):\n",
    "        # oracle adds a (-1)-phase to the solution\n",
    "        oracle(eng, oracle_out, x)\n",
    "\n",
    "        # reflection across uniform superposition\n",
    "\n",
    "        circuitLoop(eng, oracle_out, x)\n",
    "\n",
    "    All(Measure) | x\n",
    "    Measure | oracle_out\n",
    "\n",
    "    eng.flush()\n",
    "    # return result\n",
    "    return [int(qubit) for qubit in x]\n",
    "\n",
    "\n",
    "if __name__ == \"__main__\":\n",
    "    eng = MainEngine()  # use default compiler engine\n",
    "    # run Grover search to find a 7-bit solution\n",
    "    print(run_grover(eng, n_qubits))"
   ]
  },
  {
   "cell_type": "code",
   "execution_count": 3,
   "metadata": {
    "_hiq_info": {
     "comm_id": "jupyter_react.0212df9b-6f67-4470-8bce-0bec93dec202.QCircuit",
     "msg": {
      "buffers": [],
      "channel": "iopub",
      "content": {
       "comm_id": "jupyter_react.0212df9b-6f67-4470-8bce-0bec93dec202.QCircuit",
       "data": {
        "method": "display"
       }
      },
      "header": {
       "date": "2019-11-13T10:58:13.837817Z",
       "msg_id": "c52d471a-637decfa334d5512411f1fc4",
       "msg_type": "comm_msg",
       "session": "446947e6-5482a610d4dff2f756cb8bc2",
       "username": "username",
       "version": "5.3"
      },
      "metadata": {},
      "msg_id": "c52d471a-637decfa334d5512411f1fc4",
      "msg_type": "comm_msg",
      "parent_header": {
       "date": "2019-11-13T10:58:13.756038Z",
       "msg_id": "a30b95421d0344b9a3c5743188e57fee",
       "msg_type": "execute_request",
       "session": "545404a0a8c4468b80bc4d3a7e006352",
       "username": "username",
       "version": "5.2"
      }
     },
     "qregs": [
      {
       "name": "q_in",
       "type": "QUANTUM"
      },
      {
       "name": "c_in",
       "type": "CLASSIC"
      },
      {
       "name": "qreg",
       "size": 12,
       "type": "QUREG"
      },
      {
       "name": "q",
       "type": "QUANTUM"
      }
     ],
     "qschema": [
      [],
      [],
      [],
      [],
      [],
      [],
      [],
      [],
      [],
      [],
      [],
      [],
      [],
      [],
      []
     ]
    }
   },
   "outputs": [],
   "source": [
    "n_qubits = 12\n",
    "circuit_obj = QCircuit(q_in=Qubit, c_in=Classic, qreg=(n_qubits, ), q=Qubit)\n",
    "circuit_obj"
   ]
  }
 ],
 "metadata": {
  "kernelspec": {
   "display_name": "Python 3",
   "language": "python",
   "name": "python3"
  },
  "language_info": {
   "codemirror_mode": {
    "name": "ipython",
    "version": 3
   },
   "file_extension": ".py",
   "mimetype": "text/x-python",
   "name": "python",
   "nbconvert_exporter": "python",
   "pygments_lexer": "ipython3",
   "version": "3.7.1"
  },
  "react_comms": {
   "jupyter_react.0212df9b-6f67-4470-8bce-0bec93dec202.QCircuit": {
    "cellIdx": "6",
    "msg": {
     "buffers": [],
     "channel": "iopub",
     "content": {
      "comm_id": "jupyter_react.0212df9b-6f67-4470-8bce-0bec93dec202.QCircuit",
      "data": {
       "method": "display"
      }
     },
     "header": {
      "date": "2019-11-13T10:58:13.837817Z",
      "msg_id": "c52d471a-637decfa334d5512411f1fc4",
      "msg_type": "comm_msg",
      "session": "446947e6-5482a610d4dff2f756cb8bc2",
      "username": "username",
      "version": "5.3"
     },
     "metadata": {},
     "msg_id": "c52d471a-637decfa334d5512411f1fc4",
     "msg_type": "comm_msg",
     "parent_header": {
      "date": "2019-11-13T10:58:13.756038Z",
      "msg_id": "a30b95421d0344b9a3c5743188e57fee",
      "msg_type": "execute_request",
      "session": "545404a0a8c4468b80bc4d3a7e006352",
      "username": "username",
      "version": "5.2"
     }
    }
   },
   "jupyter_react.0330cb99-26ef-428a-9d97-9661a870aeaa.QCircuit": {
    "cellIdx": "1",
    "msg": {
     "buffers": [],
     "channel": "iopub",
     "content": {
      "comm_id": "jupyter_react.0330cb99-26ef-428a-9d97-9661a870aeaa.QCircuit",
      "data": {
       "method": "display"
      }
     },
     "header": {
      "date": "2019-11-11T21:29:12.088334Z",
      "msg_id": "61e55c1d-7b3042f9d41900e460a2b7c2",
      "msg_type": "comm_msg",
      "session": "71e590cb-0f3a2f09cecd8bdb18e43754",
      "username": "username",
      "version": "5.3"
     },
     "metadata": {},
     "msg_id": "61e55c1d-7b3042f9d41900e460a2b7c2",
     "msg_type": "comm_msg",
     "parent_header": {
      "date": "2019-11-11T21:29:11.083000Z",
      "msg_id": "3ad45e5c78904cf280792dcebd328e6c",
      "msg_type": "execute_request",
      "session": "3f591573c156465286a2fd6f850239f9",
      "username": "username",
      "version": "5.2"
     }
    }
   },
   "jupyter_react.03a27789-b82e-4fd5-bcba-aa4ea5b7e5e5.QCircuit": {
    "cellIdx": "1",
    "msg": {
     "buffers": [],
     "channel": "iopub",
     "content": {
      "comm_id": "jupyter_react.03a27789-b82e-4fd5-bcba-aa4ea5b7e5e5.QCircuit",
      "data": {
       "method": "display"
      }
     },
     "header": {
      "date": "2019-11-12T16:45:15.148462Z",
      "msg_id": "3d91faf6-705457340a050eff9d3291ff",
      "msg_type": "comm_msg",
      "session": "00f9a375-334f2a559af515822fcafbc3",
      "username": "username",
      "version": "5.3"
     },
     "metadata": {},
     "msg_id": "3d91faf6-705457340a050eff9d3291ff",
     "msg_type": "comm_msg",
     "parent_header": {
      "date": "2019-11-12T16:45:08.144913Z",
      "msg_id": "77893e4fca51428e8904fed9b2a0a3e6",
      "msg_type": "execute_request",
      "session": "2f589c2a8f7b4c438ae855658a3e6776",
      "username": "username",
      "version": "5.2"
     }
    }
   },
   "jupyter_react.043a7304-4cee-4483-85e6-42e954ea2b86.QCircuit": {
    "cellIdx": "1",
    "msg": {
     "buffers": [],
     "channel": "iopub",
     "content": {
      "comm_id": "jupyter_react.043a7304-4cee-4483-85e6-42e954ea2b86.QCircuit",
      "data": {
       "method": "display"
      }
     },
     "header": {
      "date": "2019-11-12T10:54:16.727996Z",
      "msg_id": "48fe78eb-6232bc8b6b5b07e178a54bb6",
      "msg_type": "comm_msg",
      "session": "cb8b8d64-d973e58d85cacb9d3fdf643b",
      "username": "username",
      "version": "5.3"
     },
     "metadata": {},
     "msg_id": "48fe78eb-6232bc8b6b5b07e178a54bb6",
     "msg_type": "comm_msg",
     "parent_header": {
      "date": "2019-11-12T10:54:16.641165Z",
      "msg_id": "070bd80732414b9091c4d58f18b024ad",
      "msg_type": "execute_request",
      "session": "4ce809b7ea714ad580bd65f511e6cdb7",
      "username": "username",
      "version": "5.2"
     }
    }
   },
   "jupyter_react.04602a0c-7076-4006-9f20-73297cb606c3.QCircuit": {
    "cellIdx": "1",
    "msg": {
     "buffers": [],
     "channel": "iopub",
     "content": {
      "comm_id": "jupyter_react.04602a0c-7076-4006-9f20-73297cb606c3.QCircuit",
      "data": {
       "method": "display"
      }
     },
     "header": {
      "date": "2019-11-12T13:54:41.479571Z",
      "msg_id": "3cb14067-6701a78215fc1c247569724b",
      "msg_type": "comm_msg",
      "session": "1f315486-06dfafa1c5319b90e9b6b033",
      "username": "username",
      "version": "5.3"
     },
     "metadata": {},
     "msg_id": "3cb14067-6701a78215fc1c247569724b",
     "msg_type": "comm_msg",
     "parent_header": {
      "date": "2019-11-12T13:54:41.378777Z",
      "msg_id": "4c339b1fe3094066939bcb55ef496bb3",
      "msg_type": "execute_request",
      "session": "5fd223330d914268bd425cef444ac4a0",
      "username": "username",
      "version": "5.2"
     }
    }
   },
   "jupyter_react.04e9aae4-a1cf-4edb-aba6-bc79649c3064.QCircuit": {
    "cellIdx": "1",
    "msg": {
     "buffers": [],
     "channel": "iopub",
     "content": {
      "comm_id": "jupyter_react.04e9aae4-a1cf-4edb-aba6-bc79649c3064.QCircuit",
      "data": {
       "method": "display"
      }
     },
     "header": {
      "date": "2019-11-12T11:55:50.744702Z",
      "msg_id": "dd0f1691-33f91e90b6f31ca276bb4137",
      "msg_type": "comm_msg",
      "session": "cb8b8d64-d973e58d85cacb9d3fdf643b",
      "username": "username",
      "version": "5.3"
     },
     "metadata": {},
     "msg_id": "dd0f1691-33f91e90b6f31ca276bb4137",
     "msg_type": "comm_msg",
     "parent_header": {
      "date": "2019-11-12T11:55:50.663887Z",
      "msg_id": "63aca1c4d7b74fa18d2992cef1b01283",
      "msg_type": "execute_request",
      "session": "5e8c5ff5c6a64154931aaebca8df560c",
      "username": "username",
      "version": "5.2"
     }
    }
   },
   "jupyter_react.0b9cfe64-cae3-4aa6-982f-02f00c47dec0.QCircuit": {
    "cellIdx": "1",
    "msg": {
     "buffers": [],
     "channel": "iopub",
     "content": {
      "comm_id": "jupyter_react.0b9cfe64-cae3-4aa6-982f-02f00c47dec0.QCircuit",
      "data": {
       "method": "display"
      }
     },
     "header": {
      "date": "2019-11-12T10:58:03.744546Z",
      "msg_id": "1e129ad3-b31e20f3af29314be5c906b4",
      "msg_type": "comm_msg",
      "session": "cb8b8d64-d973e58d85cacb9d3fdf643b",
      "username": "username",
      "version": "5.3"
     },
     "metadata": {},
     "msg_id": "1e129ad3-b31e20f3af29314be5c906b4",
     "msg_type": "comm_msg",
     "parent_header": {
      "date": "2019-11-12T10:58:03.660596Z",
      "msg_id": "58e630ab26984944b6d517ae221f71de",
      "msg_type": "execute_request",
      "session": "230b9cb6a574403b879cbadaa7c20e73",
      "username": "username",
      "version": "5.2"
     }
    }
   },
   "jupyter_react.0ca47ed5-2442-4d42-bf10-d6865c6a4cf0.QCircuit": {
    "cellIdx": "1",
    "msg": {
     "buffers": [],
     "channel": "iopub",
     "content": {
      "comm_id": "jupyter_react.0ca47ed5-2442-4d42-bf10-d6865c6a4cf0.QCircuit",
      "data": {
       "method": "display"
      }
     },
     "header": {
      "date": "2019-11-12T13:47:06.386064Z",
      "msg_id": "c45a3e22-0f80c07b408d09e8c13b78ae",
      "msg_type": "comm_msg",
      "session": "1f315486-06dfafa1c5319b90e9b6b033",
      "username": "username",
      "version": "5.3"
     },
     "metadata": {},
     "msg_id": "c45a3e22-0f80c07b408d09e8c13b78ae",
     "msg_type": "comm_msg",
     "parent_header": {
      "date": "2019-11-12T13:47:06.284806Z",
      "msg_id": "fbf452623ff64535a91e410c9d4697f4",
      "msg_type": "execute_request",
      "session": "f413e282f593427f80e2be4848398ab9",
      "username": "username",
      "version": "5.2"
     }
    }
   },
   "jupyter_react.100cf2f4-d5c8-4c9e-99e9-6d819601b9d4.QCircuit": {
    "cellIdx": "1",
    "msg": {
     "buffers": [],
     "channel": "iopub",
     "content": {
      "comm_id": "jupyter_react.100cf2f4-d5c8-4c9e-99e9-6d819601b9d4.QCircuit",
      "data": {
       "method": "display"
      }
     },
     "header": {
      "date": "2019-11-12T08:51:23.747281Z",
      "msg_id": "e51a0212-551542dbeb8206016563624c",
      "msg_type": "comm_msg",
      "session": "7f8e6e36-12deaad9733c9e6db3a2b37f",
      "username": "username",
      "version": "5.3"
     },
     "metadata": {},
     "msg_id": "e51a0212-551542dbeb8206016563624c",
     "msg_type": "comm_msg",
     "parent_header": {
      "date": "2019-11-12T08:51:23.654532Z",
      "msg_id": "ac9d9d9e07c7464eaecb600c6e20660a",
      "msg_type": "execute_request",
      "session": "aad72fe47b2e43eb8bc19cde9405d472",
      "username": "username",
      "version": "5.2"
     }
    }
   },
   "jupyter_react.11cdf64e-3166-4362-96ad-4937f4d56f54.QCircuit": {
    "cellIdx": "1",
    "msg": {
     "buffers": [],
     "channel": "iopub",
     "content": {
      "comm_id": "jupyter_react.11cdf64e-3166-4362-96ad-4937f4d56f54.QCircuit",
      "data": {
       "method": "display"
      }
     },
     "header": {
      "date": "2019-11-12T13:56:12.836308Z",
      "msg_id": "8aa4d6e6-7fba76e3ffa5851385217bc6",
      "msg_type": "comm_msg",
      "session": "1f315486-06dfafa1c5319b90e9b6b033",
      "username": "username",
      "version": "5.3"
     },
     "metadata": {},
     "msg_id": "8aa4d6e6-7fba76e3ffa5851385217bc6",
     "msg_type": "comm_msg",
     "parent_header": {
      "date": "2019-11-12T13:56:12.756497Z",
      "msg_id": "cda15a5cb8944efb8f91deb5c4a83038",
      "msg_type": "execute_request",
      "session": "5fd223330d914268bd425cef444ac4a0",
      "username": "username",
      "version": "5.2"
     }
    }
   },
   "jupyter_react.15bf18c6-45b0-48c7-82ed-40f22c73034d.QCircuit": {
    "cellIdx": "2",
    "msg": {
     "buffers": [],
     "channel": "iopub",
     "content": {
      "comm_id": "jupyter_react.15bf18c6-45b0-48c7-82ed-40f22c73034d.QCircuit",
      "data": {
       "method": "display"
      }
     },
     "header": {
      "date": "2019-11-12T16:45:15.405141Z",
      "msg_id": "f0e7a0e1-fd36ac1765b0618d2960514d",
      "msg_type": "comm_msg",
      "session": "00f9a375-334f2a559af515822fcafbc3",
      "username": "username",
      "version": "5.3"
     },
     "metadata": {},
     "msg_id": "f0e7a0e1-fd36ac1765b0618d2960514d",
     "msg_type": "comm_msg",
     "parent_header": {
      "date": "2019-11-12T16:45:08.144913Z",
      "msg_id": "014b9b67df5448d19a42fdf866077ace",
      "msg_type": "execute_request",
      "session": "2f589c2a8f7b4c438ae855658a3e6776",
      "username": "username",
      "version": "5.2"
     }
    }
   },
   "jupyter_react.1682a223-b09c-4e4a-a6cc-eb3851cc2203.QCircuit": {
    "cellIdx": "5",
    "msg": {
     "buffers": [],
     "channel": "iopub",
     "content": {
      "comm_id": "jupyter_react.1682a223-b09c-4e4a-a6cc-eb3851cc2203.QCircuit",
      "data": {
       "method": "display"
      }
     },
     "header": {
      "date": "2019-11-11T09:05:18.304601Z",
      "msg_id": "19364966-7bd97bda19360ada2b58ccf1",
      "msg_type": "comm_msg",
      "session": "a2919c98-b6f8f08987acc8519e1006d8",
      "username": "username",
      "version": "5.3"
     },
     "metadata": {},
     "msg_id": "19364966-7bd97bda19360ada2b58ccf1",
     "msg_type": "comm_msg",
     "parent_header": {
      "date": "2019-11-11T09:05:18.223816Z",
      "msg_id": "06683bd133c047d49177d778dee7c4ac",
      "msg_type": "execute_request",
      "session": "f29b2fe17071490fbedea5eb0d38a4c5",
      "username": "username",
      "version": "5.2"
     }
    }
   },
   "jupyter_react.18100eff-7040-4fee-98c1-41d2420a6431.QCircuit": {
    "cellIdx": "1",
    "msg": {
     "buffers": [],
     "channel": "iopub",
     "content": {
      "comm_id": "jupyter_react.18100eff-7040-4fee-98c1-41d2420a6431.QCircuit",
      "data": {
       "method": "display"
      }
     },
     "header": {
      "date": "2019-11-13T06:24:01.716502Z",
      "msg_id": "4ec4a736-88dbcef19c4e2bf3d735d303",
      "msg_type": "comm_msg",
      "session": "55e11f24-392db00f637e6ab35354fc87",
      "username": "username",
      "version": "5.3"
     },
     "metadata": {},
     "msg_id": "4ec4a736-88dbcef19c4e2bf3d735d303",
     "msg_type": "comm_msg",
     "parent_header": {
      "date": "2019-11-13T06:24:01.625713Z",
      "msg_id": "39563c38ac0047b38e0d85e14354de23",
      "msg_type": "execute_request",
      "session": "545404a0a8c4468b80bc4d3a7e006352",
      "username": "username",
      "version": "5.2"
     }
    }
   },
   "jupyter_react.1a0285ba-5126-4a69-9daa-7a3fde6521f6.QCircuit": {
    "cellIdx": "1",
    "msg": {
     "buffers": [],
     "channel": "iopub",
     "content": {
      "comm_id": "jupyter_react.1a0285ba-5126-4a69-9daa-7a3fde6521f6.QCircuit",
      "data": {
       "method": "display"
      }
     },
     "header": {
      "date": "2019-11-12T09:15:42.559172Z",
      "msg_id": "43d7d368-0e59747b3fe713db91e6c36e",
      "msg_type": "comm_msg",
      "session": "cb8b8d64-d973e58d85cacb9d3fdf643b",
      "username": "username",
      "version": "5.3"
     },
     "metadata": {},
     "msg_id": "43d7d368-0e59747b3fe713db91e6c36e",
     "msg_type": "comm_msg",
     "parent_header": {
      "date": "2019-11-12T09:15:41.460014Z",
      "msg_id": "b854318d4d714aea8fcc184d284f652f",
      "msg_type": "execute_request",
      "session": "07aa21b833544930801eb6dc2f8c8ee2",
      "username": "username",
      "version": "5.2"
     }
    }
   },
   "jupyter_react.1b78f3c5-cd6e-46a1-bef6-81d207b4ea7f.QCircuit": {
    "cellIdx": "1",
    "msg": {
     "buffers": [],
     "channel": "iopub",
     "content": {
      "comm_id": "jupyter_react.1b78f3c5-cd6e-46a1-bef6-81d207b4ea7f.QCircuit",
      "data": {
       "method": "display"
      }
     },
     "header": {
      "date": "2019-11-12T13:54:21.049654Z",
      "msg_id": "0b58ea1d-7c73717db4884662fc1c7da3",
      "msg_type": "comm_msg",
      "session": "1f315486-06dfafa1c5319b90e9b6b033",
      "username": "username",
      "version": "5.3"
     },
     "metadata": {},
     "msg_id": "0b58ea1d-7c73717db4884662fc1c7da3",
     "msg_type": "comm_msg",
     "parent_header": {
      "date": "2019-11-12T13:54:20.966551Z",
      "msg_id": "85aef617177d47f687fc36c54e744f88",
      "msg_type": "execute_request",
      "session": "5fd223330d914268bd425cef444ac4a0",
      "username": "username",
      "version": "5.2"
     }
    }
   },
   "jupyter_react.1e537782-447e-4eac-83ab-729839b73f08.QCircuit": {
    "cellIdx": "1",
    "msg": {
     "buffers": [],
     "channel": "iopub",
     "content": {
      "comm_id": "jupyter_react.1e537782-447e-4eac-83ab-729839b73f08.QCircuit",
      "data": {
       "method": "display"
      }
     },
     "header": {
      "date": "2019-11-13T06:24:20.347390Z",
      "msg_id": "e7d8e1b5-eb11ffe759c048567ac4b0a4",
      "msg_type": "comm_msg",
      "session": "55e11f24-392db00f637e6ab35354fc87",
      "username": "username",
      "version": "5.3"
     },
     "metadata": {},
     "msg_id": "e7d8e1b5-eb11ffe759c048567ac4b0a4",
     "msg_type": "comm_msg",
     "parent_header": {
      "date": "2019-11-13T06:24:20.246663Z",
      "msg_id": "093c613d895e403eacc2f717610898e8",
      "msg_type": "execute_request",
      "session": "545404a0a8c4468b80bc4d3a7e006352",
      "username": "username",
      "version": "5.2"
     }
    }
   },
   "jupyter_react.21ba6186-37d5-444b-b887-62967728d85d.QCircuit": {
    "cellIdx": "1",
    "msg": {
     "buffers": [],
     "channel": "iopub",
     "content": {
      "comm_id": "jupyter_react.21ba6186-37d5-444b-b887-62967728d85d.QCircuit",
      "data": {
       "method": "display"
      }
     },
     "header": {
      "date": "2019-11-12T11:50:54.514327Z",
      "msg_id": "2c05a0cd-858970312878714e1726c4ba",
      "msg_type": "comm_msg",
      "session": "cb8b8d64-d973e58d85cacb9d3fdf643b",
      "username": "username",
      "version": "5.3"
     },
     "metadata": {},
     "msg_id": "2c05a0cd-858970312878714e1726c4ba",
     "msg_type": "comm_msg",
     "parent_header": {
      "date": "2019-11-12T11:50:54.431518Z",
      "msg_id": "797e7af913a245f281ec0355c21fd694",
      "msg_type": "execute_request",
      "session": "b6fd947bc1bd431e8408e28aa8d3a5a7",
      "username": "username",
      "version": "5.2"
     }
    }
   },
   "jupyter_react.26a3a612-1c67-4cee-9e43-5a3d18ac0bf0.QCircuit": {
    "cellIdx": "4",
    "msg": {
     "buffers": [],
     "channel": "iopub",
     "content": {
      "comm_id": "jupyter_react.26a3a612-1c67-4cee-9e43-5a3d18ac0bf0.QCircuit",
      "data": {
       "method": "display"
      }
     },
     "header": {
      "date": "2019-11-12T16:45:37.947495Z",
      "msg_id": "f283d3a2-e7e54d3db93ee4ce15fd837c",
      "msg_type": "comm_msg",
      "session": "3403bcbe-7921a1e1fd0ed21f09d6ef64",
      "username": "username",
      "version": "5.3"
     },
     "metadata": {},
     "msg_id": "f283d3a2-e7e54d3db93ee4ce15fd837c",
     "msg_type": "comm_msg",
     "parent_header": {
      "date": "2019-11-12T16:45:37.852215Z",
      "msg_id": "f0a7670eda744a1f9fadaab6a92dd86b",
      "msg_type": "execute_request",
      "session": "2f589c2a8f7b4c438ae855658a3e6776",
      "username": "username",
      "version": "5.2"
     }
    }
   },
   "jupyter_react.26ce014b-9dcf-446e-8b3f-e1e3266202ef.QCircuit": {
    "cellIdx": "4",
    "msg": {
     "buffers": [],
     "channel": "iopub",
     "content": {
      "comm_id": "jupyter_react.26ce014b-9dcf-446e-8b3f-e1e3266202ef.QCircuit",
      "data": {
       "method": "display"
      }
     },
     "header": {
      "date": "2019-11-13T06:23:46.356871Z",
      "msg_id": "136fc47d-a113386a757902eee3833aa0",
      "msg_type": "comm_msg",
      "session": "55e11f24-392db00f637e6ab35354fc87",
      "username": "username",
      "version": "5.3"
     },
     "metadata": {},
     "msg_id": "136fc47d-a113386a757902eee3833aa0",
     "msg_type": "comm_msg",
     "parent_header": {
      "date": "2019-11-13T06:23:46.277093Z",
      "msg_id": "732960bfbbbf4f78870766f5470f8dfe",
      "msg_type": "execute_request",
      "session": "545404a0a8c4468b80bc4d3a7e006352",
      "username": "username",
      "version": "5.2"
     }
    }
   },
   "jupyter_react.278d6841-3fd6-469b-8e3d-977dc80eab79.QCircuit": {
    "cellIdx": "1",
    "msg": {
     "buffers": [],
     "channel": "iopub",
     "content": {
      "comm_id": "jupyter_react.278d6841-3fd6-469b-8e3d-977dc80eab79.QCircuit",
      "data": {
       "method": "display"
      }
     },
     "header": {
      "date": "2019-11-13T06:24:18.295783Z",
      "msg_id": "bda424fd-83b969a4cd0fd9e0530862e0",
      "msg_type": "comm_msg",
      "session": "55e11f24-392db00f637e6ab35354fc87",
      "username": "username",
      "version": "5.3"
     },
     "metadata": {},
     "msg_id": "bda424fd-83b969a4cd0fd9e0530862e0",
     "msg_type": "comm_msg",
     "parent_header": {
      "date": "2019-11-13T06:24:18.198034Z",
      "msg_id": "3fbfb43b7c3944a59b2fd239cb8e66fa",
      "msg_type": "execute_request",
      "session": "545404a0a8c4468b80bc4d3a7e006352",
      "username": "username",
      "version": "5.2"
     }
    }
   },
   "jupyter_react.28264caa-d41e-4574-8da6-65830538e781.QCircuit": {
    "cellIdx": "1",
    "msg": {
     "buffers": [],
     "channel": "iopub",
     "content": {
      "comm_id": "jupyter_react.28264caa-d41e-4574-8da6-65830538e781.QCircuit",
      "data": {
       "method": "display"
      }
     },
     "header": {
      "date": "2019-11-12T13:55:49.036809Z",
      "msg_id": "58b37d7e-66041a416ce4d4a7d4bfe556",
      "msg_type": "comm_msg",
      "session": "1f315486-06dfafa1c5319b90e9b6b033",
      "username": "username",
      "version": "5.3"
     },
     "metadata": {},
     "msg_id": "58b37d7e-66041a416ce4d4a7d4bfe556",
     "msg_type": "comm_msg",
     "parent_header": {
      "date": "2019-11-12T13:55:48.954061Z",
      "msg_id": "96d240f093194940b36cf28fe9024c19",
      "msg_type": "execute_request",
      "session": "5fd223330d914268bd425cef444ac4a0",
      "username": "username",
      "version": "5.2"
     }
    }
   },
   "jupyter_react.2b8c75b9-b002-4f81-971c-2e7b7ddeab5b.QCircuit": {
    "cellIdx": "1",
    "msg": {
     "buffers": [],
     "channel": "iopub",
     "content": {
      "comm_id": "jupyter_react.2b8c75b9-b002-4f81-971c-2e7b7ddeab5b.QCircuit",
      "data": {
       "method": "display"
      }
     },
     "header": {
      "date": "2019-11-12T08:50:35.610575Z",
      "msg_id": "218f3709-71f2ac0caf658eb58168687e",
      "msg_type": "comm_msg",
      "session": "7f8e6e36-12deaad9733c9e6db3a2b37f",
      "username": "username",
      "version": "5.3"
     },
     "metadata": {},
     "msg_id": "218f3709-71f2ac0caf658eb58168687e",
     "msg_type": "comm_msg",
     "parent_header": {
      "date": "2019-11-12T08:50:35.521787Z",
      "msg_id": "3cc891de90e1479386e2a80e8dd65607",
      "msg_type": "execute_request",
      "session": "aad72fe47b2e43eb8bc19cde9405d472",
      "username": "username",
      "version": "5.2"
     }
    }
   },
   "jupyter_react.2d64cb45-0f25-4d53-8ef8-a4400ab719a5.QCircuit": {
    "cellIdx": "1",
    "msg": {
     "buffers": [],
     "channel": "iopub",
     "content": {
      "comm_id": "jupyter_react.2d64cb45-0f25-4d53-8ef8-a4400ab719a5.QCircuit",
      "data": {
       "method": "display"
      }
     },
     "header": {
      "date": "2019-11-12T13:56:22.778230Z",
      "msg_id": "a9239bde-5a23cda8f0a4c2dc8b75b9d6",
      "msg_type": "comm_msg",
      "session": "1f315486-06dfafa1c5319b90e9b6b033",
      "username": "username",
      "version": "5.3"
     },
     "metadata": {},
     "msg_id": "a9239bde-5a23cda8f0a4c2dc8b75b9d6",
     "msg_type": "comm_msg",
     "parent_header": {
      "date": "2019-11-12T13:56:22.678466Z",
      "msg_id": "e805cc80cbb340398b4ac483f19367bc",
      "msg_type": "execute_request",
      "session": "5fd223330d914268bd425cef444ac4a0",
      "username": "username",
      "version": "5.2"
     }
    }
   },
   "jupyter_react.2e8313c2-5ec8-4abf-af62-5b17c52de41b.QCircuit": {
    "cellIdx": "1",
    "msg": {
     "buffers": [],
     "channel": "iopub",
     "content": {
      "comm_id": "jupyter_react.2e8313c2-5ec8-4abf-af62-5b17c52de41b.QCircuit",
      "data": {
       "method": "display"
      }
     },
     "header": {
      "date": "2019-11-12T11:50:37.920595Z",
      "msg_id": "c1fb7e45-b9a71250f638881f6b0bd6d1",
      "msg_type": "comm_msg",
      "session": "cb8b8d64-d973e58d85cacb9d3fdf643b",
      "username": "username",
      "version": "5.3"
     },
     "metadata": {},
     "msg_id": "c1fb7e45-b9a71250f638881f6b0bd6d1",
     "msg_type": "comm_msg",
     "parent_header": {
      "date": "2019-11-12T11:50:37.837788Z",
      "msg_id": "43d0f7f54b86461ab19253014ceba043",
      "msg_type": "execute_request",
      "session": "453ef042f1e342519ff6959bfd895288",
      "username": "username",
      "version": "5.2"
     }
    }
   },
   "jupyter_react.3020c4f7-877b-4955-a48e-7c29b581cd6e.QCircuit": {
    "cellIdx": "1",
    "msg": {
     "buffers": [],
     "channel": "iopub",
     "content": {
      "comm_id": "jupyter_react.3020c4f7-877b-4955-a48e-7c29b581cd6e.QCircuit",
      "data": {
       "method": "display"
      }
     },
     "header": {
      "date": "2019-11-12T13:54:11.925250Z",
      "msg_id": "9e14f95d-5bdda489f596df0baadfa224",
      "msg_type": "comm_msg",
      "session": "1f315486-06dfafa1c5319b90e9b6b033",
      "username": "username",
      "version": "5.3"
     },
     "metadata": {},
     "msg_id": "9e14f95d-5bdda489f596df0baadfa224",
     "msg_type": "comm_msg",
     "parent_header": {
      "date": "2019-11-12T13:54:11.823384Z",
      "msg_id": "4423a93aadbe416897bf0d40f79c7dc7",
      "msg_type": "execute_request",
      "session": "5fd223330d914268bd425cef444ac4a0",
      "username": "username",
      "version": "5.2"
     }
    }
   },
   "jupyter_react.32b7ae5d-4406-4386-ace0-a3872b7b1412.QCircuit": {
    "cellIdx": "1",
    "msg": {
     "buffers": [],
     "channel": "iopub",
     "content": {
      "comm_id": "jupyter_react.32b7ae5d-4406-4386-ace0-a3872b7b1412.QCircuit",
      "data": {
       "method": "display"
      }
     },
     "header": {
      "date": "2019-11-12T11:47:01.099301Z",
      "msg_id": "6fd7d1f6-8dfd2e5a1138451312a5f2ab",
      "msg_type": "comm_msg",
      "session": "cb8b8d64-d973e58d85cacb9d3fdf643b",
      "username": "username",
      "version": "5.3"
     },
     "metadata": {},
     "msg_id": "6fd7d1f6-8dfd2e5a1138451312a5f2ab",
     "msg_type": "comm_msg",
     "parent_header": {
      "date": "2019-11-12T11:47:01.025471Z",
      "msg_id": "3b04b0b40af546d28c15f7582353f93f",
      "msg_type": "execute_request",
      "session": "3b4a8e213ae24d8ea7a670cb7affbd70",
      "username": "username",
      "version": "5.2"
     }
    }
   },
   "jupyter_react.330107db-2da9-47a1-9ff0-82199b429478.QCircuit": {
    "cellIdx": "4",
    "msg": {
     "buffers": [],
     "channel": "iopub",
     "content": {
      "comm_id": "jupyter_react.330107db-2da9-47a1-9ff0-82199b429478.QCircuit",
      "data": {
       "method": "display"
      }
     },
     "header": {
      "date": "2019-11-12T16:45:15.579061Z",
      "msg_id": "e7b0f2f4-24b0c6f4358594d428fc110c",
      "msg_type": "comm_msg",
      "session": "00f9a375-334f2a559af515822fcafbc3",
      "username": "username",
      "version": "5.3"
     },
     "metadata": {},
     "msg_id": "e7b0f2f4-24b0c6f4358594d428fc110c",
     "msg_type": "comm_msg",
     "parent_header": {
      "date": "2019-11-12T16:45:08.145914Z",
      "msg_id": "412b51919c644940896e817e6250340c",
      "msg_type": "execute_request",
      "session": "2f589c2a8f7b4c438ae855658a3e6776",
      "username": "username",
      "version": "5.2"
     }
    }
   },
   "jupyter_react.33ea60ef-f7d8-4c0d-a967-b90bad064a59.QCircuit": {
    "cellIdx": "1",
    "msg": {
     "buffers": [],
     "channel": "iopub",
     "content": {
      "comm_id": "jupyter_react.33ea60ef-f7d8-4c0d-a967-b90bad064a59.QCircuit",
      "data": {
       "method": "display"
      }
     },
     "header": {
      "date": "2019-11-12T13:56:39.907712Z",
      "msg_id": "7f0d170f-4639c848194475c286745462",
      "msg_type": "comm_msg",
      "session": "1f315486-06dfafa1c5319b90e9b6b033",
      "username": "username",
      "version": "5.3"
     },
     "metadata": {},
     "msg_id": "7f0d170f-4639c848194475c286745462",
     "msg_type": "comm_msg",
     "parent_header": {
      "date": "2019-11-12T13:56:39.818952Z",
      "msg_id": "8b55e83ae1254ead8851643012131b1b",
      "msg_type": "execute_request",
      "session": "5fd223330d914268bd425cef444ac4a0",
      "username": "username",
      "version": "5.2"
     }
    }
   },
   "jupyter_react.34776d04-fd8c-4559-b3cb-70cd9cd832b9.QCircuit": {
    "cellIdx": "1",
    "msg": {
     "buffers": [],
     "channel": "iopub",
     "content": {
      "comm_id": "jupyter_react.34776d04-fd8c-4559-b3cb-70cd9cd832b9.QCircuit",
      "data": {
       "method": "display"
      }
     },
     "header": {
      "date": "2019-11-12T11:57:10.774170Z",
      "msg_id": "27441bcf-6d9b8790fca9b94b59ece686",
      "msg_type": "comm_msg",
      "session": "1f315486-06dfafa1c5319b90e9b6b033",
      "username": "username",
      "version": "5.3"
     },
     "metadata": {},
     "msg_id": "27441bcf-6d9b8790fca9b94b59ece686",
     "msg_type": "comm_msg",
     "parent_header": {
      "date": "2019-11-12T11:57:09.793054Z",
      "msg_id": "12c2a0cf1fbe4a3f8251c013599997a4",
      "msg_type": "execute_request",
      "session": "5e8c5ff5c6a64154931aaebca8df560c",
      "username": "username",
      "version": "5.2"
     }
    }
   },
   "jupyter_react.37f3ffd8-84c6-4aec-a122-b3cfd467238f.QCircuit": {
    "cellIdx": "4",
    "msg": {
     "buffers": [],
     "channel": "iopub",
     "content": {
      "comm_id": "jupyter_react.37f3ffd8-84c6-4aec-a122-b3cfd467238f.QCircuit",
      "data": {
       "method": "display"
      }
     },
     "header": {
      "date": "2019-11-12T15:49:27.521044Z",
      "msg_id": "9a4cf98a-29c2f17ec2f589dfe9199872",
      "msg_type": "comm_msg",
      "session": "6c14e0e3-c78ab27c9d24537995a301f4",
      "username": "username",
      "version": "5.3"
     },
     "metadata": {},
     "msg_id": "9a4cf98a-29c2f17ec2f589dfe9199872",
     "msg_type": "comm_msg",
     "parent_header": {
      "date": "2019-11-12T15:49:27.424592Z",
      "msg_id": "e07c0d809da848f99d107b889e20c5be",
      "msg_type": "execute_request",
      "session": "2f589c2a8f7b4c438ae855658a3e6776",
      "username": "username",
      "version": "5.2"
     }
    }
   },
   "jupyter_react.3a33c72c-74a3-418e-a145-a98b773b6314.QCircuit": {
    "cellIdx": "1",
    "msg": {
     "buffers": [],
     "channel": "iopub",
     "content": {
      "comm_id": "jupyter_react.3a33c72c-74a3-418e-a145-a98b773b6314.QCircuit",
      "data": {
       "method": "display"
      }
     },
     "header": {
      "date": "2019-11-12T13:42:15.053854Z",
      "msg_id": "7c325cf1-2b8cec51952706c134e086bd",
      "msg_type": "comm_msg",
      "session": "1f315486-06dfafa1c5319b90e9b6b033",
      "username": "username",
      "version": "5.3"
     },
     "metadata": {},
     "msg_id": "7c325cf1-2b8cec51952706c134e086bd",
     "msg_type": "comm_msg",
     "parent_header": {
      "date": "2019-11-12T13:42:14.961034Z",
      "msg_id": "7b6b794a1e0b46a19a86f7fbad172689",
      "msg_type": "execute_request",
      "session": "f413e282f593427f80e2be4848398ab9",
      "username": "username",
      "version": "5.2"
     }
    }
   },
   "jupyter_react.3aac87e1-7b3b-43bc-bf2e-5f787f199c07.QCircuit": {
    "cellIdx": "1",
    "msg": {
     "buffers": [],
     "channel": "iopub",
     "content": {
      "comm_id": "jupyter_react.3aac87e1-7b3b-43bc-bf2e-5f787f199c07.QCircuit",
      "data": {
       "method": "display"
      }
     },
     "header": {
      "date": "2019-11-13T11:05:16.699869Z",
      "msg_id": "fe9b3716-ca28f2596d5c93ea47dbc9a7",
      "msg_type": "comm_msg",
      "session": "446947e6-5482a610d4dff2f756cb8bc2",
      "username": "username",
      "version": "5.3"
     },
     "metadata": {},
     "msg_id": "fe9b3716-ca28f2596d5c93ea47dbc9a7",
     "msg_type": "comm_msg",
     "parent_header": {
      "date": "2019-11-13T11:05:16.602126Z",
      "msg_id": "4fd540afc1314b3987877a0f63d566b2",
      "msg_type": "execute_request",
      "session": "545404a0a8c4468b80bc4d3a7e006352",
      "username": "username",
      "version": "5.2"
     }
    }
   },
   "jupyter_react.41df5968-98d0-4867-af49-e06f0d6e3678.QCircuit": {
    "cellIdx": "1",
    "msg": {
     "buffers": [],
     "channel": "iopub",
     "content": {
      "comm_id": "jupyter_react.41df5968-98d0-4867-af49-e06f0d6e3678.QCircuit",
      "data": {
       "method": "display"
      }
     },
     "header": {
      "date": "2019-11-12T13:43:53.709089Z",
      "msg_id": "f321c0ea-c3dc532fec8be7429c304ea6",
      "msg_type": "comm_msg",
      "session": "1f315486-06dfafa1c5319b90e9b6b033",
      "username": "username",
      "version": "5.3"
     },
     "metadata": {},
     "msg_id": "f321c0ea-c3dc532fec8be7429c304ea6",
     "msg_type": "comm_msg",
     "parent_header": {
      "date": "2019-11-12T13:43:53.628007Z",
      "msg_id": "b829e75c54234640817c26203d6fce76",
      "msg_type": "execute_request",
      "session": "f413e282f593427f80e2be4848398ab9",
      "username": "username",
      "version": "5.2"
     }
    }
   },
   "jupyter_react.44cfc6bb-9016-4d2b-af99-72951765c844.QCircuit": {
    "cellIdx": "5",
    "msg": {
     "buffers": [],
     "channel": "iopub",
     "content": {
      "comm_id": "jupyter_react.44cfc6bb-9016-4d2b-af99-72951765c844.QCircuit",
      "data": {
       "method": "display"
      }
     },
     "header": {
      "date": "2019-11-12T08:53:25.101564Z",
      "msg_id": "d14024d4-168596a17aa397174ee9c092",
      "msg_type": "comm_msg",
      "session": "7f8e6e36-12deaad9733c9e6db3a2b37f",
      "username": "username",
      "version": "5.3"
     },
     "metadata": {},
     "msg_id": "d14024d4-168596a17aa397174ee9c092",
     "msg_type": "comm_msg",
     "parent_header": {
      "date": "2019-11-12T08:53:25.032719Z",
      "msg_id": "cec782400d594626bf81205de7a07835",
      "msg_type": "execute_request",
      "session": "5e50f731a4044d3296ee4b03de5e4dea",
      "username": "username",
      "version": "5.2"
     }
    }
   },
   "jupyter_react.47fa6d44-bd3c-4ad2-bdbe-89b4904366ea.QCircuit": {
    "cellIdx": "1",
    "msg": {
     "buffers": [],
     "channel": "iopub",
     "content": {
      "comm_id": "jupyter_react.47fa6d44-bd3c-4ad2-bdbe-89b4904366ea.QCircuit",
      "data": {
       "method": "display"
      }
     },
     "header": {
      "date": "2019-11-12T11:45:33.722459Z",
      "msg_id": "ed30118f-f5e379629e92ba2feb690fdd",
      "msg_type": "comm_msg",
      "session": "cb8b8d64-d973e58d85cacb9d3fdf643b",
      "username": "username",
      "version": "5.3"
     },
     "metadata": {},
     "msg_id": "ed30118f-f5e379629e92ba2feb690fdd",
     "msg_type": "comm_msg",
     "parent_header": {
      "date": "2019-11-12T11:45:33.647629Z",
      "msg_id": "0c9bf8968dd24731af31ce701feba27f",
      "msg_type": "execute_request",
      "session": "b26bad7d7a86479289b142dff7cd8572",
      "username": "username",
      "version": "5.2"
     }
    }
   },
   "jupyter_react.49cae277-69d0-4f38-b460-a35eba72c6da.QCircuit": {
    "cellIdx": "1",
    "msg": {
     "buffers": [],
     "channel": "iopub",
     "content": {
      "comm_id": "jupyter_react.49cae277-69d0-4f38-b460-a35eba72c6da.QCircuit",
      "data": {
       "method": "display"
      }
     },
     "header": {
      "date": "2019-11-12T13:47:11.477238Z",
      "msg_id": "b0b470bd-21d76ccd03cafcea2daeabb8",
      "msg_type": "comm_msg",
      "session": "1f315486-06dfafa1c5319b90e9b6b033",
      "username": "username",
      "version": "5.3"
     },
     "metadata": {},
     "msg_id": "b0b470bd-21d76ccd03cafcea2daeabb8",
     "msg_type": "comm_msg",
     "parent_header": {
      "date": "2019-11-12T13:47:11.388052Z",
      "msg_id": "a9f94bfa00ef445187fba76885998eb0",
      "msg_type": "execute_request",
      "session": "f413e282f593427f80e2be4848398ab9",
      "username": "username",
      "version": "5.2"
     }
    }
   },
   "jupyter_react.4e34ef7f-2be4-4d24-b27b-8a981aa0e32f.QCircuit": {
    "cellIdx": "1",
    "msg": {
     "buffers": [],
     "channel": "iopub",
     "content": {
      "comm_id": "jupyter_react.4e34ef7f-2be4-4d24-b27b-8a981aa0e32f.QCircuit",
      "data": {
       "method": "display"
      }
     },
     "header": {
      "date": "2019-11-12T13:43:20.499301Z",
      "msg_id": "1db12b6d-66e43b46a7a85fce7dc691af",
      "msg_type": "comm_msg",
      "session": "1f315486-06dfafa1c5319b90e9b6b033",
      "username": "username",
      "version": "5.3"
     },
     "metadata": {},
     "msg_id": "1db12b6d-66e43b46a7a85fce7dc691af",
     "msg_type": "comm_msg",
     "parent_header": {
      "date": "2019-11-12T13:43:20.403910Z",
      "msg_id": "2b2e9f65a2fd4ee784a6fa61045f99f3",
      "msg_type": "execute_request",
      "session": "f413e282f593427f80e2be4848398ab9",
      "username": "username",
      "version": "5.2"
     }
    }
   },
   "jupyter_react.53391b9d-1d56-4917-a684-998d2a0fc833.QCircuit": {
    "cellIdx": "1",
    "msg": {
     "buffers": [],
     "channel": "iopub",
     "content": {
      "comm_id": "jupyter_react.53391b9d-1d56-4917-a684-998d2a0fc833.QCircuit",
      "data": {
       "method": "display"
      }
     },
     "header": {
      "date": "2019-11-12T13:41:26.766324Z",
      "msg_id": "00e6e245-0e15c7bdf91f22e131e22b96",
      "msg_type": "comm_msg",
      "session": "1f315486-06dfafa1c5319b90e9b6b033",
      "username": "username",
      "version": "5.3"
     },
     "metadata": {},
     "msg_id": "00e6e245-0e15c7bdf91f22e131e22b96",
     "msg_type": "comm_msg",
     "parent_header": {
      "date": "2019-11-12T13:41:26.682353Z",
      "msg_id": "609b138f55374db7b93c99a414a7c494",
      "msg_type": "execute_request",
      "session": "f413e282f593427f80e2be4848398ab9",
      "username": "username",
      "version": "5.2"
     }
    }
   },
   "jupyter_react.5531760d-9add-4f4f-bf1d-5795929e4f60.QCircuit": {
    "cellIdx": "7",
    "msg": {
     "buffers": [],
     "channel": "iopub",
     "content": {
      "comm_id": "jupyter_react.5531760d-9add-4f4f-bf1d-5795929e4f60.QCircuit",
      "data": {
       "method": "display"
      }
     },
     "header": {
      "date": "2019-11-11T21:31:34.679672Z",
      "msg_id": "7703ec42-761eb5b9bc2acaff7f9dd1de",
      "msg_type": "comm_msg",
      "session": "d0534993-14eb1f23bc85acad8ded75da",
      "username": "username",
      "version": "5.3"
     },
     "metadata": {},
     "msg_id": "7703ec42-761eb5b9bc2acaff7f9dd1de",
     "msg_type": "comm_msg",
     "parent_header": {
      "date": "2019-11-11T21:31:34.611873Z",
      "msg_id": "db5edf42ef174a068b1757ce2fc16f66",
      "msg_type": "execute_request",
      "session": "ba69d06001504fde9e5840d8afcdd578",
      "username": "username",
      "version": "5.2"
     }
    }
   },
   "jupyter_react.61e0a0a7-9601-47e7-bae3-fc086ac56a64.QCircuit": {
    "cellIdx": "6",
    "msg": {
     "buffers": [],
     "channel": "iopub",
     "content": {
      "comm_id": "jupyter_react.61e0a0a7-9601-47e7-bae3-fc086ac56a64.QCircuit",
      "data": {
       "method": "display"
      }
     },
     "header": {
      "date": "2019-11-13T10:57:00.123900Z",
      "msg_id": "6607c517-50f7d57c7eae6d4d7614aa40",
      "msg_type": "comm_msg",
      "session": "55e11f24-392db00f637e6ab35354fc87",
      "username": "username",
      "version": "5.3"
     },
     "metadata": {},
     "msg_id": "6607c517-50f7d57c7eae6d4d7614aa40",
     "msg_type": "comm_msg",
     "parent_header": {
      "date": "2019-11-13T10:57:00.036104Z",
      "msg_id": "581035e121744a289b4e35e9c2cc8045",
      "msg_type": "execute_request",
      "session": "545404a0a8c4468b80bc4d3a7e006352",
      "username": "username",
      "version": "5.2"
     }
    }
   },
   "jupyter_react.641c7791-3725-496d-b415-91e7492069d3.QCircuit": {
    "cellIdx": "1",
    "msg": {
     "buffers": [],
     "channel": "iopub",
     "content": {
      "comm_id": "jupyter_react.641c7791-3725-496d-b415-91e7492069d3.QCircuit",
      "data": {
       "method": "display"
      }
     },
     "header": {
      "date": "2019-11-12T11:42:19.143632Z",
      "msg_id": "133c1a03-4d32334b9a377dcfc1d2ad46",
      "msg_type": "comm_msg",
      "session": "cb8b8d64-d973e58d85cacb9d3fdf643b",
      "username": "username",
      "version": "5.3"
     },
     "metadata": {},
     "msg_id": "133c1a03-4d32334b9a377dcfc1d2ad46",
     "msg_type": "comm_msg",
     "parent_header": {
      "date": "2019-11-12T11:42:19.070829Z",
      "msg_id": "10aa39efe19e4abba5fa0d7e750eb197",
      "msg_type": "execute_request",
      "session": "834d83992fae43e4b340db762400ba59",
      "username": "username",
      "version": "5.2"
     }
    }
   },
   "jupyter_react.66756956-c697-4a5a-a1db-2dfba60b2d0e.QCircuit": {
    "cellIdx": "6",
    "msg": {
     "buffers": [],
     "channel": "iopub",
     "content": {
      "comm_id": "jupyter_react.66756956-c697-4a5a-a1db-2dfba60b2d0e.QCircuit",
      "data": {
       "method": "display"
      }
     },
     "header": {
      "date": "2019-11-13T10:58:06.412549Z",
      "msg_id": "59f40f28-5658b1cce6cf42215d36dacd",
      "msg_type": "comm_msg",
      "session": "446947e6-5482a610d4dff2f756cb8bc2",
      "username": "username",
      "version": "5.3"
     },
     "metadata": {},
     "msg_id": "59f40f28-5658b1cce6cf42215d36dacd",
     "msg_type": "comm_msg",
     "parent_header": {
      "date": "2019-11-13T10:58:06.337773Z",
      "msg_id": "924c3336eb1d4dde8fafcca5ab9ec278",
      "msg_type": "execute_request",
      "session": "545404a0a8c4468b80bc4d3a7e006352",
      "username": "username",
      "version": "5.2"
     }
    }
   },
   "jupyter_react.68318075-92cf-4214-ab61-691d26987288.QCircuit": {
    "cellIdx": "1",
    "msg": {
     "buffers": [],
     "channel": "iopub",
     "content": {
      "comm_id": "jupyter_react.68318075-92cf-4214-ab61-691d26987288.QCircuit",
      "data": {
       "method": "display"
      }
     },
     "header": {
      "date": "2019-11-12T11:55:09.516690Z",
      "msg_id": "2f0c40a4-46038740c2098e951554b5a9",
      "msg_type": "comm_msg",
      "session": "cb8b8d64-d973e58d85cacb9d3fdf643b",
      "username": "username",
      "version": "5.3"
     },
     "metadata": {},
     "msg_id": "2f0c40a4-46038740c2098e951554b5a9",
     "msg_type": "comm_msg",
     "parent_header": {
      "date": "2019-11-12T11:55:09.428926Z",
      "msg_id": "a44d285cc2804e31b2a73e3217a0160a",
      "msg_type": "execute_request",
      "session": "be9ee35b9b1e4775852f7eb45e9911b8",
      "username": "username",
      "version": "5.2"
     }
    }
   },
   "jupyter_react.7004cdb1-89a5-4663-82f2-ff1f9e2977fe.QCircuit": {
    "cellIdx": "1",
    "msg": {
     "buffers": [],
     "channel": "iopub",
     "content": {
      "comm_id": "jupyter_react.7004cdb1-89a5-4663-82f2-ff1f9e2977fe.QCircuit",
      "data": {
       "method": "display"
      }
     },
     "header": {
      "date": "2019-11-12T11:55:54.365647Z",
      "msg_id": "403a4210-1b4b4dc5f8cbe0a9f0191b5a",
      "msg_type": "comm_msg",
      "session": "cb8b8d64-d973e58d85cacb9d3fdf643b",
      "username": "username",
      "version": "5.3"
     },
     "metadata": {},
     "msg_id": "403a4210-1b4b4dc5f8cbe0a9f0191b5a",
     "msg_type": "comm_msg",
     "parent_header": {
      "date": "2019-11-12T11:55:54.280881Z",
      "msg_id": "d05f997c55d3403fb983dc76be82e2cc",
      "msg_type": "execute_request",
      "session": "5e8c5ff5c6a64154931aaebca8df560c",
      "username": "username",
      "version": "5.2"
     }
    }
   },
   "jupyter_react.702f082d-d7b9-4fd0-b1a4-da2e37212887.QCircuit": {
    "cellIdx": "1",
    "msg": {
     "buffers": [],
     "channel": "iopub",
     "content": {
      "comm_id": "jupyter_react.702f082d-d7b9-4fd0-b1a4-da2e37212887.QCircuit",
      "data": {
       "method": "display"
      }
     },
     "header": {
      "date": "2019-11-13T06:24:05.206113Z",
      "msg_id": "6271b2bc-c024ac2361b8773fb0742fd1",
      "msg_type": "comm_msg",
      "session": "55e11f24-392db00f637e6ab35354fc87",
      "username": "username",
      "version": "5.3"
     },
     "metadata": {},
     "msg_id": "6271b2bc-c024ac2361b8773fb0742fd1",
     "msg_type": "comm_msg",
     "parent_header": {
      "date": "2019-11-13T06:24:05.124305Z",
      "msg_id": "14df81f02f8e47ae8d78a57e1898a1dc",
      "msg_type": "execute_request",
      "session": "545404a0a8c4468b80bc4d3a7e006352",
      "username": "username",
      "version": "5.2"
     }
    }
   },
   "jupyter_react.7056b310-72f7-40f0-be38-c033dfed8793.QCircuit": {
    "cellIdx": "1",
    "msg": {
     "buffers": [],
     "channel": "iopub",
     "content": {
      "comm_id": "jupyter_react.7056b310-72f7-40f0-be38-c033dfed8793.QCircuit",
      "data": {
       "method": "display"
      }
     },
     "header": {
      "date": "2019-11-12T13:42:00.465088Z",
      "msg_id": "0fe10e9d-cc8576d4494aaaea4d773e5a",
      "msg_type": "comm_msg",
      "session": "1f315486-06dfafa1c5319b90e9b6b033",
      "username": "username",
      "version": "5.3"
     },
     "metadata": {},
     "msg_id": "0fe10e9d-cc8576d4494aaaea4d773e5a",
     "msg_type": "comm_msg",
     "parent_header": {
      "date": "2019-11-12T13:42:00.375205Z",
      "msg_id": "b3fc7d71dd8345d596c64ae37b904c03",
      "msg_type": "execute_request",
      "session": "f413e282f593427f80e2be4848398ab9",
      "username": "username",
      "version": "5.2"
     }
    }
   },
   "jupyter_react.71ae8b5e-1b5a-4b6d-8714-08f653368416.QCircuit": {
    "cellIdx": "1",
    "msg": {
     "buffers": [],
     "channel": "iopub",
     "content": {
      "comm_id": "jupyter_react.71ae8b5e-1b5a-4b6d-8714-08f653368416.QCircuit",
      "data": {
       "method": "display"
      }
     },
     "header": {
      "date": "2019-11-12T13:42:18.676687Z",
      "msg_id": "3de59ead-81b5f79139e6607a80704b88",
      "msg_type": "comm_msg",
      "session": "1f315486-06dfafa1c5319b90e9b6b033",
      "username": "username",
      "version": "5.3"
     },
     "metadata": {},
     "msg_id": "3de59ead-81b5f79139e6607a80704b88",
     "msg_type": "comm_msg",
     "parent_header": {
      "date": "2019-11-12T13:42:18.593034Z",
      "msg_id": "4b4b917f21a24891969f2682bc9879f0",
      "msg_type": "execute_request",
      "session": "f413e282f593427f80e2be4848398ab9",
      "username": "username",
      "version": "5.2"
     }
    }
   },
   "jupyter_react.74488995-266d-4710-83f0-e9556bcd8f73.QCircuit": {
    "cellIdx": "1",
    "msg": {
     "buffers": [],
     "channel": "iopub",
     "content": {
      "comm_id": "jupyter_react.74488995-266d-4710-83f0-e9556bcd8f73.QCircuit",
      "data": {
       "method": "display"
      }
     },
     "header": {
      "date": "2019-11-12T13:46:51.482053Z",
      "msg_id": "47e861fb-e49cdfdca429a60c88ce1a06",
      "msg_type": "comm_msg",
      "session": "1f315486-06dfafa1c5319b90e9b6b033",
      "username": "username",
      "version": "5.3"
     },
     "metadata": {},
     "msg_id": "47e861fb-e49cdfdca429a60c88ce1a06",
     "msg_type": "comm_msg",
     "parent_header": {
      "date": "2019-11-12T13:46:51.393188Z",
      "msg_id": "d0311a4978fa4e9f8c2805b25908d1d7",
      "msg_type": "execute_request",
      "session": "f413e282f593427f80e2be4848398ab9",
      "username": "username",
      "version": "5.2"
     }
    }
   },
   "jupyter_react.75de473c-fe8c-4877-a3fd-795facdd67a1.QCircuit": {
    "cellIdx": "1",
    "msg": {
     "buffers": [],
     "channel": "iopub",
     "content": {
      "comm_id": "jupyter_react.75de473c-fe8c-4877-a3fd-795facdd67a1.QCircuit",
      "data": {
       "method": "display"
      }
     },
     "header": {
      "date": "2019-11-12T11:41:29.282485Z",
      "msg_id": "016033f1-9063d5ac8f9c718431c74f8f",
      "msg_type": "comm_msg",
      "session": "cb8b8d64-d973e58d85cacb9d3fdf643b",
      "username": "username",
      "version": "5.3"
     },
     "metadata": {},
     "msg_id": "016033f1-9063d5ac8f9c718431c74f8f",
     "msg_type": "comm_msg",
     "parent_header": {
      "date": "2019-11-12T11:41:29.147845Z",
      "msg_id": "63aaaa56481441c5b0cf9d4ac019c098",
      "msg_type": "execute_request",
      "session": "0f2ea006536a42af8cb30d18a8c3690d",
      "username": "username",
      "version": "5.2"
     }
    }
   },
   "jupyter_react.760ba0a9-82bc-4191-8f60-080fd0987017.QCircuit": {
    "cellIdx": "1",
    "msg": {
     "buffers": [],
     "channel": "iopub",
     "content": {
      "comm_id": "jupyter_react.760ba0a9-82bc-4191-8f60-080fd0987017.QCircuit",
      "data": {
       "method": "display"
      }
     },
     "header": {
      "date": "2019-11-12T13:56:20.120975Z",
      "msg_id": "d246ed4e-3864ae97d5622727c2ef5b87",
      "msg_type": "comm_msg",
      "session": "1f315486-06dfafa1c5319b90e9b6b033",
      "username": "username",
      "version": "5.3"
     },
     "metadata": {},
     "msg_id": "d246ed4e-3864ae97d5622727c2ef5b87",
     "msg_type": "comm_msg",
     "parent_header": {
      "date": "2019-11-12T13:56:20.034210Z",
      "msg_id": "4eab93cfc424432a8d9991b26ea28e89",
      "msg_type": "execute_request",
      "session": "5fd223330d914268bd425cef444ac4a0",
      "username": "username",
      "version": "5.2"
     }
    }
   },
   "jupyter_react.7801d73d-5da2-40c9-a224-a280e622207f.QCircuit": {
    "cellIdx": "2",
    "msg": {
     "buffers": [],
     "channel": "iopub",
     "content": {
      "comm_id": "jupyter_react.7801d73d-5da2-40c9-a224-a280e622207f.QCircuit",
      "data": {
       "method": "display"
      }
     },
     "header": {
      "date": "2019-11-11T21:31:03.994974Z",
      "msg_id": "b14220f5-b22b06d6e8b426b4cc30bcbc",
      "msg_type": "comm_msg",
      "session": "d0534993-14eb1f23bc85acad8ded75da",
      "username": "username",
      "version": "5.3"
     },
     "metadata": {},
     "msg_id": "b14220f5-b22b06d6e8b426b4cc30bcbc",
     "msg_type": "comm_msg",
     "parent_header": {
      "date": "2019-11-11T21:31:03.930114Z",
      "msg_id": "9e8db5703c604fa9b0380ba97c531487",
      "msg_type": "execute_request",
      "session": "ba69d06001504fde9e5840d8afcdd578",
      "username": "username",
      "version": "5.2"
     }
    }
   },
   "jupyter_react.78630611-b760-4e12-a6ca-ad183a642281.QCircuit": {
    "cellIdx": "1",
    "msg": {
     "buffers": [],
     "channel": "iopub",
     "content": {
      "comm_id": "jupyter_react.78630611-b760-4e12-a6ca-ad183a642281.QCircuit",
      "data": {
       "method": "display"
      }
     },
     "header": {
      "date": "2019-11-12T13:41:56.217429Z",
      "msg_id": "91fab993-67349f90bf1d672d76d0913e",
      "msg_type": "comm_msg",
      "session": "1f315486-06dfafa1c5319b90e9b6b033",
      "username": "username",
      "version": "5.3"
     },
     "metadata": {},
     "msg_id": "91fab993-67349f90bf1d672d76d0913e",
     "msg_type": "comm_msg",
     "parent_header": {
      "date": "2019-11-12T13:41:56.120144Z",
      "msg_id": "37a682c1f91b4a0ebac9ffcdc7e5a58c",
      "msg_type": "execute_request",
      "session": "f413e282f593427f80e2be4848398ab9",
      "username": "username",
      "version": "5.2"
     }
    }
   },
   "jupyter_react.7cb56a4f-62ba-4a1c-8b7d-f12788306fc1.QCircuit": {
    "cellIdx": "2",
    "msg": {
     "buffers": [],
     "channel": "iopub",
     "content": {
      "comm_id": "jupyter_react.7cb56a4f-62ba-4a1c-8b7d-f12788306fc1.QCircuit",
      "data": {
       "method": "display"
      }
     },
     "header": {
      "date": "2019-11-13T06:23:42.931894Z",
      "msg_id": "4dc1aed0-f2b2d641c7eaa88c715aa1bd",
      "msg_type": "comm_msg",
      "session": "55e11f24-392db00f637e6ab35354fc87",
      "username": "username",
      "version": "5.3"
     },
     "metadata": {},
     "msg_id": "4dc1aed0-f2b2d641c7eaa88c715aa1bd",
     "msg_type": "comm_msg",
     "parent_header": {
      "date": "2019-11-13T06:23:42.852080Z",
      "msg_id": "86777b308eff44a0b182c4f894478faf",
      "msg_type": "execute_request",
      "session": "545404a0a8c4468b80bc4d3a7e006352",
      "username": "username",
      "version": "5.2"
     }
    }
   },
   "jupyter_react.8310a68d-99e1-4c19-b133-3d6a50767bc5.QCircuit": {
    "cellIdx": "1",
    "msg": {
     "buffers": [],
     "channel": "iopub",
     "content": {
      "comm_id": "jupyter_react.8310a68d-99e1-4c19-b133-3d6a50767bc5.QCircuit",
      "data": {
       "method": "display"
      }
     },
     "header": {
      "date": "2019-11-12T13:41:34.907151Z",
      "msg_id": "d5e93e03-8094575aff7814492b24f7e6",
      "msg_type": "comm_msg",
      "session": "1f315486-06dfafa1c5319b90e9b6b033",
      "username": "username",
      "version": "5.3"
     },
     "metadata": {},
     "msg_id": "d5e93e03-8094575aff7814492b24f7e6",
     "msg_type": "comm_msg",
     "parent_header": {
      "date": "2019-11-12T13:41:34.814490Z",
      "msg_id": "cbe40006dd5f4a0b80ad6ec810533817",
      "msg_type": "execute_request",
      "session": "f413e282f593427f80e2be4848398ab9",
      "username": "username",
      "version": "5.2"
     }
    }
   },
   "jupyter_react.839f898d-94ff-4864-bd96-8ab1b5772b07.QCircuit": {
    "cellIdx": "1",
    "msg": {
     "buffers": [],
     "channel": "iopub",
     "content": {
      "comm_id": "jupyter_react.839f898d-94ff-4864-bd96-8ab1b5772b07.QCircuit",
      "data": {
       "method": "display"
      }
     },
     "header": {
      "date": "2019-11-12T13:55:25.327612Z",
      "msg_id": "5caeb4b2-122f14ac262457c15e4a3832",
      "msg_type": "comm_msg",
      "session": "1f315486-06dfafa1c5319b90e9b6b033",
      "username": "username",
      "version": "5.3"
     },
     "metadata": {},
     "msg_id": "5caeb4b2-122f14ac262457c15e4a3832",
     "msg_type": "comm_msg",
     "parent_header": {
      "date": "2019-11-12T13:55:25.241844Z",
      "msg_id": "b35e0d9e3b614a11b37b114d55e1ea50",
      "msg_type": "execute_request",
      "session": "5fd223330d914268bd425cef444ac4a0",
      "username": "username",
      "version": "5.2"
     }
    }
   },
   "jupyter_react.8b3663dc-7cf0-4d1c-9fa2-fc22f92196bf.QCircuit": {
    "cellIdx": "1",
    "msg": {
     "buffers": [],
     "channel": "iopub",
     "content": {
      "comm_id": "jupyter_react.8b3663dc-7cf0-4d1c-9fa2-fc22f92196bf.QCircuit",
      "data": {
       "method": "display"
      }
     },
     "header": {
      "date": "2019-11-12T13:42:35.224146Z",
      "msg_id": "299f6777-7a624cbbcfc5990b706db1b2",
      "msg_type": "comm_msg",
      "session": "1f315486-06dfafa1c5319b90e9b6b033",
      "username": "username",
      "version": "5.3"
     },
     "metadata": {},
     "msg_id": "299f6777-7a624cbbcfc5990b706db1b2",
     "msg_type": "comm_msg",
     "parent_header": {
      "date": "2019-11-12T13:42:35.124863Z",
      "msg_id": "6eaa1d8a331a403f8b1c410ba8be63a0",
      "msg_type": "execute_request",
      "session": "f413e282f593427f80e2be4848398ab9",
      "username": "username",
      "version": "5.2"
     }
    }
   },
   "jupyter_react.90e46600-9c72-4ab8-8a6a-798801ecec74.QCircuit": {
    "cellIdx": "1",
    "msg": {
     "buffers": [],
     "channel": "iopub",
     "content": {
      "comm_id": "jupyter_react.90e46600-9c72-4ab8-8a6a-798801ecec74.QCircuit",
      "data": {
       "method": "display"
      }
     },
     "header": {
      "date": "2019-11-12T13:56:00.821961Z",
      "msg_id": "63666110-5fec58ad56d1b6bce4f78da0",
      "msg_type": "comm_msg",
      "session": "1f315486-06dfafa1c5319b90e9b6b033",
      "username": "username",
      "version": "5.3"
     },
     "metadata": {},
     "msg_id": "63666110-5fec58ad56d1b6bce4f78da0",
     "msg_type": "comm_msg",
     "parent_header": {
      "date": "2019-11-12T13:56:00.723228Z",
      "msg_id": "0f196861463948cfa2518e3f8b6fd2aa",
      "msg_type": "execute_request",
      "session": "5fd223330d914268bd425cef444ac4a0",
      "username": "username",
      "version": "5.2"
     }
    }
   },
   "jupyter_react.92e835b3-cc42-4292-bb71-49e8bf76b80e.QCircuit": {
    "cellIdx": "3",
    "msg": {
     "buffers": [],
     "channel": "iopub",
     "content": {
      "comm_id": "jupyter_react.92e835b3-cc42-4292-bb71-49e8bf76b80e.QCircuit",
      "data": {
       "method": "display"
      }
     },
     "header": {
      "date": "2019-11-12T08:51:43.732596Z",
      "msg_id": "8b899409-724083406ef891b2374d9116",
      "msg_type": "comm_msg",
      "session": "7f8e6e36-12deaad9733c9e6db3a2b37f",
      "username": "username",
      "version": "5.3"
     },
     "metadata": {},
     "msg_id": "8b899409-724083406ef891b2374d9116",
     "msg_type": "comm_msg",
     "parent_header": {
      "date": "2019-11-12T08:51:43.657794Z",
      "msg_id": "620ea92e95ee4166a9a6649835f58661",
      "msg_type": "execute_request",
      "session": "aad72fe47b2e43eb8bc19cde9405d472",
      "username": "username",
      "version": "5.2"
     }
    }
   },
   "jupyter_react.976de2a2-cc08-4242-82b4-69e4b4fb28a3.QCircuit": {
    "cellIdx": "1",
    "msg": {
     "buffers": [],
     "channel": "iopub",
     "content": {
      "comm_id": "jupyter_react.976de2a2-cc08-4242-82b4-69e4b4fb28a3.QCircuit",
      "data": {
       "method": "display"
      }
     },
     "header": {
      "date": "2019-11-13T06:23:41.493897Z",
      "msg_id": "df0f12ee-aa3ac5cef6ddd62d1e55706d",
      "msg_type": "comm_msg",
      "session": "55e11f24-392db00f637e6ab35354fc87",
      "username": "username",
      "version": "5.3"
     },
     "metadata": {},
     "msg_id": "df0f12ee-aa3ac5cef6ddd62d1e55706d",
     "msg_type": "comm_msg",
     "parent_header": {
      "date": "2019-11-13T06:23:41.415079Z",
      "msg_id": "328f545be1344e57bf3b78fbf48a5919",
      "msg_type": "execute_request",
      "session": "545404a0a8c4468b80bc4d3a7e006352",
      "username": "username",
      "version": "5.2"
     }
    }
   },
   "jupyter_react.98ac7474-4633-40d4-bac9-810bda834b0e.QCircuit": {
    "cellIdx": "1",
    "msg": {
     "buffers": [],
     "channel": "iopub",
     "content": {
      "comm_id": "jupyter_react.98ac7474-4633-40d4-bac9-810bda834b0e.QCircuit",
      "data": {
       "method": "display"
      }
     },
     "header": {
      "date": "2019-11-11T08:41:56.846243Z",
      "msg_id": "e6688b1d-2e492fc0347c911a15690634",
      "msg_type": "comm_msg",
      "session": "a2919c98-b6f8f08987acc8519e1006d8",
      "username": "username",
      "version": "5.3"
     },
     "metadata": {},
     "msg_id": "e6688b1d-2e492fc0347c911a15690634",
     "msg_type": "comm_msg",
     "parent_header": {
      "date": "2019-11-11T08:41:56.426433Z",
      "msg_id": "e873dd76320d4227b18ba4c97726c8af",
      "msg_type": "execute_request",
      "session": "f29b2fe17071490fbedea5eb0d38a4c5",
      "username": "username",
      "version": "5.2"
     }
    }
   },
   "jupyter_react.9c8c5101-5147-4111-af73-aa6056c8a045.QCircuit": {
    "cellIdx": "1",
    "msg": {
     "buffers": [],
     "channel": "iopub",
     "content": {
      "comm_id": "jupyter_react.9c8c5101-5147-4111-af73-aa6056c8a045.QCircuit",
      "data": {
       "method": "display"
      }
     },
     "header": {
      "date": "2019-11-12T13:42:07.002945Z",
      "msg_id": "d7cd6461-5486c90de425d2351ba98e31",
      "msg_type": "comm_msg",
      "session": "1f315486-06dfafa1c5319b90e9b6b033",
      "username": "username",
      "version": "5.3"
     },
     "metadata": {},
     "msg_id": "d7cd6461-5486c90de425d2351ba98e31",
     "msg_type": "comm_msg",
     "parent_header": {
      "date": "2019-11-12T13:42:06.898213Z",
      "msg_id": "86d7dafc045e48ab8a30c5a24b29fef2",
      "msg_type": "execute_request",
      "session": "f413e282f593427f80e2be4848398ab9",
      "username": "username",
      "version": "5.2"
     }
    }
   },
   "jupyter_react.9f077ab3-4e54-4a8a-b767-a5e70fd7414d.QCircuit": {
    "cellIdx": "1",
    "msg": {
     "buffers": [],
     "channel": "iopub",
     "content": {
      "comm_id": "jupyter_react.9f077ab3-4e54-4a8a-b767-a5e70fd7414d.QCircuit",
      "data": {
       "method": "display"
      }
     },
     "header": {
      "date": "2019-11-12T11:44:36.015206Z",
      "msg_id": "c6d6d14f-bb2abe8c89a8214b9beb0f01",
      "msg_type": "comm_msg",
      "session": "cb8b8d64-d973e58d85cacb9d3fdf643b",
      "username": "username",
      "version": "5.3"
     },
     "metadata": {},
     "msg_id": "c6d6d14f-bb2abe8c89a8214b9beb0f01",
     "msg_type": "comm_msg",
     "parent_header": {
      "date": "2019-11-12T11:44:35.940405Z",
      "msg_id": "e736889c2175497e8a7f61bf45a88561",
      "msg_type": "execute_request",
      "session": "08cd038f91d642fb859c82914aa84352",
      "username": "username",
      "version": "5.2"
     }
    }
   },
   "jupyter_react.9fb60b73-bc87-48be-bdda-ec1b1618ca8b.QCircuit": {
    "cellIdx": "5",
    "msg": {
     "buffers": [],
     "channel": "iopub",
     "content": {
      "comm_id": "jupyter_react.9fb60b73-bc87-48be-bdda-ec1b1618ca8b.QCircuit",
      "data": {
       "method": "display"
      }
     },
     "header": {
      "date": "2019-11-11T09:11:50.256235Z",
      "msg_id": "deb59b22-a14348bbadea882c35fcb86a",
      "msg_type": "comm_msg",
      "session": "a2919c98-b6f8f08987acc8519e1006d8",
      "username": "username",
      "version": "5.3"
     },
     "metadata": {},
     "msg_id": "deb59b22-a14348bbadea882c35fcb86a",
     "msg_type": "comm_msg",
     "parent_header": {
      "date": "2019-11-11T09:11:50.185425Z",
      "msg_id": "638b01e6284243fa95c6f5ceb9bee9f6",
      "msg_type": "execute_request",
      "session": "f29b2fe17071490fbedea5eb0d38a4c5",
      "username": "username",
      "version": "5.2"
     }
    }
   },
   "jupyter_react.a0eaeac1-de21-4f0b-8b14-9654026f373c.QCircuit": {
    "cellIdx": "2",
    "msg": {
     "buffers": [],
     "channel": "iopub",
     "content": {
      "comm_id": "jupyter_react.a0eaeac1-de21-4f0b-8b14-9654026f373c.QCircuit",
      "data": {
       "method": "display"
      }
     },
     "header": {
      "date": "2019-11-11T08:43:28.566188Z",
      "msg_id": "575d82c1-efcf3f10e36343449f8197d6",
      "msg_type": "comm_msg",
      "session": "a2919c98-b6f8f08987acc8519e1006d8",
      "username": "username",
      "version": "5.3"
     },
     "metadata": {},
     "msg_id": "575d82c1-efcf3f10e36343449f8197d6",
     "msg_type": "comm_msg",
     "parent_header": {
      "date": "2019-11-11T08:43:28.495347Z",
      "msg_id": "57a91491ef1c48cf89340076d7e1d6f4",
      "msg_type": "execute_request",
      "session": "f29b2fe17071490fbedea5eb0d38a4c5",
      "username": "username",
      "version": "5.2"
     }
    }
   },
   "jupyter_react.a11bf594-35ca-45c2-9a49-d1c960665676.QCircuit": {
    "cellIdx": "1",
    "msg": {
     "buffers": [],
     "channel": "iopub",
     "content": {
      "comm_id": "jupyter_react.a11bf594-35ca-45c2-9a49-d1c960665676.QCircuit",
      "data": {
       "method": "display"
      }
     },
     "header": {
      "date": "2019-11-13T11:05:54.284385Z",
      "msg_id": "1352e00a-4f057a7183b67b4a89296a77",
      "msg_type": "comm_msg",
      "session": "446947e6-5482a610d4dff2f756cb8bc2",
      "username": "username",
      "version": "5.3"
     },
     "metadata": {},
     "msg_id": "1352e00a-4f057a7183b67b4a89296a77",
     "msg_type": "comm_msg",
     "parent_header": {
      "date": "2019-11-13T11:05:54.206594Z",
      "msg_id": "d9a7ba7100784f7784dea9749d8a77bd",
      "msg_type": "execute_request",
      "session": "545404a0a8c4468b80bc4d3a7e006352",
      "username": "username",
      "version": "5.2"
     }
    }
   },
   "jupyter_react.a5cec70e-20d0-4fc5-9a44-16007412cc40.QCircuit": {
    "cellIdx": "1",
    "msg": {
     "buffers": [],
     "channel": "iopub",
     "content": {
      "comm_id": "jupyter_react.a5cec70e-20d0-4fc5-9a44-16007412cc40.QCircuit",
      "data": {
       "method": "display"
      }
     },
     "header": {
      "date": "2019-11-12T13:55:34.461465Z",
      "msg_id": "a7b77870-66b756e96b7074d73edc9d4e",
      "msg_type": "comm_msg",
      "session": "1f315486-06dfafa1c5319b90e9b6b033",
      "username": "username",
      "version": "5.3"
     },
     "metadata": {},
     "msg_id": "a7b77870-66b756e96b7074d73edc9d4e",
     "msg_type": "comm_msg",
     "parent_header": {
      "date": "2019-11-12T13:55:34.360744Z",
      "msg_id": "67e4352c4b6f4da6a43167b047fe22e5",
      "msg_type": "execute_request",
      "session": "5fd223330d914268bd425cef444ac4a0",
      "username": "username",
      "version": "5.2"
     }
    }
   },
   "jupyter_react.a5e3e9e2-cf2d-4b3c-b05a-46a15d68c47d.QCircuit": {
    "cellIdx": "1",
    "msg": {
     "buffers": [],
     "channel": "iopub",
     "content": {
      "comm_id": "jupyter_react.a5e3e9e2-cf2d-4b3c-b05a-46a15d68c47d.QCircuit",
      "data": {
       "method": "display"
      }
     },
     "header": {
      "date": "2019-11-12T11:55:45.509918Z",
      "msg_id": "7a470eaa-c11f95b93dd89d688717cf7a",
      "msg_type": "comm_msg",
      "session": "cb8b8d64-d973e58d85cacb9d3fdf643b",
      "username": "username",
      "version": "5.3"
     },
     "metadata": {},
     "msg_id": "7a470eaa-c11f95b93dd89d688717cf7a",
     "msg_type": "comm_msg",
     "parent_header": {
      "date": "2019-11-12T11:55:45.432127Z",
      "msg_id": "ae4f097b372346db89ed83bffe156adf",
      "msg_type": "execute_request",
      "session": "5e8c5ff5c6a64154931aaebca8df560c",
      "username": "username",
      "version": "5.2"
     }
    }
   },
   "jupyter_react.a7cba018-ed4a-428d-bd54-f904c0fce499.QCircuit": {
    "cellIdx": "1",
    "msg": {
     "buffers": [],
     "channel": "iopub",
     "content": {
      "comm_id": "jupyter_react.a7cba018-ed4a-428d-bd54-f904c0fce499.QCircuit",
      "data": {
       "method": "display"
      }
     },
     "header": {
      "date": "2019-11-12T13:56:14.581693Z",
      "msg_id": "4c40ce8b-45d1d4ea31717df263424afb",
      "msg_type": "comm_msg",
      "session": "1f315486-06dfafa1c5319b90e9b6b033",
      "username": "username",
      "version": "5.3"
     },
     "metadata": {},
     "msg_id": "4c40ce8b-45d1d4ea31717df263424afb",
     "msg_type": "comm_msg",
     "parent_header": {
      "date": "2019-11-12T13:56:14.494927Z",
      "msg_id": "be5f174a9e644d98a37df9d2572d5819",
      "msg_type": "execute_request",
      "session": "5fd223330d914268bd425cef444ac4a0",
      "username": "username",
      "version": "5.2"
     }
    }
   },
   "jupyter_react.ab5cabf4-f8ae-47c4-90ef-bff5a7b56d19.QCircuit": {
    "cellIdx": "1",
    "msg": {
     "buffers": [],
     "channel": "iopub",
     "content": {
      "comm_id": "jupyter_react.ab5cabf4-f8ae-47c4-90ef-bff5a7b56d19.QCircuit",
      "data": {
       "method": "display"
      }
     },
     "header": {
      "date": "2019-11-13T10:58:40.787557Z",
      "msg_id": "505785b5-cd48180648d6be05f2b34f73",
      "msg_type": "comm_msg",
      "session": "446947e6-5482a610d4dff2f756cb8bc2",
      "username": "username",
      "version": "5.3"
     },
     "metadata": {},
     "msg_id": "505785b5-cd48180648d6be05f2b34f73",
     "msg_type": "comm_msg",
     "parent_header": {
      "date": "2019-11-13T10:58:40.696797Z",
      "msg_id": "fde6b2acb4214144830f11907cdb2f0c",
      "msg_type": "execute_request",
      "session": "545404a0a8c4468b80bc4d3a7e006352",
      "username": "username",
      "version": "5.2"
     }
    }
   },
   "jupyter_react.ac20e493-36f5-4ae6-9fa1-23ef4d4420fd.QCircuit": {
    "cellIdx": "1",
    "msg": {
     "buffers": [],
     "channel": "iopub",
     "content": {
      "comm_id": "jupyter_react.ac20e493-36f5-4ae6-9fa1-23ef4d4420fd.QCircuit",
      "data": {
       "method": "display"
      }
     },
     "header": {
      "date": "2019-11-12T13:54:23.474482Z",
      "msg_id": "d23fcc0f-a3eea05f5e6c485b7e0d5a0f",
      "msg_type": "comm_msg",
      "session": "1f315486-06dfafa1c5319b90e9b6b033",
      "username": "username",
      "version": "5.3"
     },
     "metadata": {},
     "msg_id": "d23fcc0f-a3eea05f5e6c485b7e0d5a0f",
     "msg_type": "comm_msg",
     "parent_header": {
      "date": "2019-11-12T13:54:23.394569Z",
      "msg_id": "e103d0315ec54ec6885926d993f6506e",
      "msg_type": "execute_request",
      "session": "5fd223330d914268bd425cef444ac4a0",
      "username": "username",
      "version": "5.2"
     }
    }
   },
   "jupyter_react.b0d6643f-23f3-4409-9a2b-f0e09980e709.QCircuit": {
    "cellIdx": "2",
    "msg": {
     "buffers": [],
     "channel": "iopub",
     "content": {
      "comm_id": "jupyter_react.b0d6643f-23f3-4409-9a2b-f0e09980e709.QCircuit",
      "data": {
       "method": "display"
      }
     },
     "header": {
      "date": "2019-11-12T16:45:36.182112Z",
      "msg_id": "15a18613-1361a924f4d9f3b3f39feb64",
      "msg_type": "comm_msg",
      "session": "3403bcbe-7921a1e1fd0ed21f09d6ef64",
      "username": "username",
      "version": "5.3"
     },
     "metadata": {},
     "msg_id": "15a18613-1361a924f4d9f3b3f39feb64",
     "msg_type": "comm_msg",
     "parent_header": {
      "date": "2019-11-12T16:45:36.087042Z",
      "msg_id": "5677a7dd5ceb491785cccf49aa4f693e",
      "msg_type": "execute_request",
      "session": "2f589c2a8f7b4c438ae855658a3e6776",
      "username": "username",
      "version": "5.2"
     }
    }
   },
   "jupyter_react.b1d482cb-856b-4c6c-8258-5e05def77382.QCircuit": {
    "cellIdx": "6",
    "msg": {
     "buffers": [],
     "channel": "iopub",
     "content": {
      "comm_id": "jupyter_react.b1d482cb-856b-4c6c-8258-5e05def77382.QCircuit",
      "data": {
       "method": "display"
      }
     },
     "header": {
      "date": "2019-11-13T10:56:41.568254Z",
      "msg_id": "d1598a35-7e87f8428ccf154d0cceecc2",
      "msg_type": "comm_msg",
      "session": "55e11f24-392db00f637e6ab35354fc87",
      "username": "username",
      "version": "5.3"
     },
     "metadata": {},
     "msg_id": "d1598a35-7e87f8428ccf154d0cceecc2",
     "msg_type": "comm_msg",
     "parent_header": {
      "date": "2019-11-13T10:56:40.972993Z",
      "msg_id": "e9cd6416fd34412184f428adfdcddff8",
      "msg_type": "execute_request",
      "session": "545404a0a8c4468b80bc4d3a7e006352",
      "username": "username",
      "version": "5.2"
     }
    }
   },
   "jupyter_react.b34e8e76-256c-4446-9208-47833596fed1.QCircuit": {
    "cellIdx": "1",
    "msg": {
     "buffers": [],
     "channel": "iopub",
     "content": {
      "comm_id": "jupyter_react.b34e8e76-256c-4446-9208-47833596fed1.QCircuit",
      "data": {
       "method": "display"
      }
     },
     "header": {
      "date": "2019-11-12T16:45:35.265154Z",
      "msg_id": "49bce30f-bdd8dd58a2130820403de085",
      "msg_type": "comm_msg",
      "session": "3403bcbe-7921a1e1fd0ed21f09d6ef64",
      "username": "username",
      "version": "5.3"
     },
     "metadata": {},
     "msg_id": "49bce30f-bdd8dd58a2130820403de085",
     "msg_type": "comm_msg",
     "parent_header": {
      "date": "2019-11-12T16:45:35.170490Z",
      "msg_id": "fb7d00606f4d405d88493b7305e9d2a4",
      "msg_type": "execute_request",
      "session": "2f589c2a8f7b4c438ae855658a3e6776",
      "username": "username",
      "version": "5.2"
     }
    }
   },
   "jupyter_react.b3ac658c-562d-46cf-af29-d545866cf8d6.QCircuit": {
    "cellIdx": "1",
    "msg": {
     "buffers": [],
     "channel": "iopub",
     "content": {
      "comm_id": "jupyter_react.b3ac658c-562d-46cf-af29-d545866cf8d6.QCircuit",
      "data": {
       "method": "display"
      }
     },
     "header": {
      "date": "2019-11-12T13:41:48.708859Z",
      "msg_id": "5d1dddf1-8d8678788b13ab0048356620",
      "msg_type": "comm_msg",
      "session": "1f315486-06dfafa1c5319b90e9b6b033",
      "username": "username",
      "version": "5.3"
     },
     "metadata": {},
     "msg_id": "5d1dddf1-8d8678788b13ab0048356620",
     "msg_type": "comm_msg",
     "parent_header": {
      "date": "2019-11-12T13:41:48.618975Z",
      "msg_id": "d11b29fdd2a741479ca981d019bd82b2",
      "msg_type": "execute_request",
      "session": "f413e282f593427f80e2be4848398ab9",
      "username": "username",
      "version": "5.2"
     }
    }
   },
   "jupyter_react.b507e064-9059-4596-8329-0dab41ef38f3.QCircuit": {
    "cellIdx": "1",
    "msg": {
     "buffers": [],
     "channel": "iopub",
     "content": {
      "comm_id": "jupyter_react.b507e064-9059-4596-8329-0dab41ef38f3.QCircuit",
      "data": {
       "method": "display"
      }
     },
     "header": {
      "date": "2019-11-12T08:09:14.527880Z",
      "msg_id": "3fe70692-f96a46f86c292ce7fd563aeb",
      "msg_type": "comm_msg",
      "session": "e3b64cb4-85910fe694ccb0f21f77daa1",
      "username": "username",
      "version": "5.3"
     },
     "metadata": {},
     "msg_id": "3fe70692-f96a46f86c292ce7fd563aeb",
     "msg_type": "comm_msg",
     "parent_header": {
      "date": "2019-11-12T08:09:14.453078Z",
      "msg_id": "91dbba49a76b4788ad56b898b177aca5",
      "msg_type": "execute_request",
      "session": "21f897f7ca594aef8014d33267f04ad7",
      "username": "username",
      "version": "5.2"
     }
    }
   },
   "jupyter_react.b72596f1-53a3-46fa-a223-bb576769cc09.QCircuit": {
    "cellIdx": "1",
    "msg": {
     "buffers": [],
     "channel": "iopub",
     "content": {
      "comm_id": "jupyter_react.b72596f1-53a3-46fa-a223-bb576769cc09.QCircuit",
      "data": {
       "method": "display"
      }
     },
     "header": {
      "date": "2019-11-12T13:48:15.898332Z",
      "msg_id": "6ce2ca61-a2d6267475820664434f8702",
      "msg_type": "comm_msg",
      "session": "1f315486-06dfafa1c5319b90e9b6b033",
      "username": "username",
      "version": "5.3"
     },
     "metadata": {},
     "msg_id": "6ce2ca61-a2d6267475820664434f8702",
     "msg_type": "comm_msg",
     "parent_header": {
      "date": "2019-11-12T13:48:15.811775Z",
      "msg_id": "b96e94cc1f8342ca8e1164cfdc39bc84",
      "msg_type": "execute_request",
      "session": "6c054b3aeabb4d2eb52d60e610e08903",
      "username": "username",
      "version": "5.2"
     }
    }
   },
   "jupyter_react.b99559b7-e3b2-425b-ba07-3d2a5e5b270b.QCircuit": {
    "cellIdx": "1",
    "msg": {
     "buffers": [],
     "channel": "iopub",
     "content": {
      "comm_id": "jupyter_react.b99559b7-e3b2-425b-ba07-3d2a5e5b270b.QCircuit",
      "data": {
       "method": "display"
      }
     },
     "header": {
      "date": "2019-11-11T21:22:40.347853Z",
      "msg_id": "2d3a22f9-e8f7810e0dff48b2fc47ed2e",
      "msg_type": "comm_msg",
      "session": "0eeac91c-f729ff59be29af022870e311",
      "username": "username",
      "version": "5.3"
     },
     "metadata": {},
     "msg_id": "2d3a22f9-e8f7810e0dff48b2fc47ed2e",
     "msg_type": "comm_msg",
     "parent_header": {
      "date": "2019-11-11T21:22:40.269064Z",
      "msg_id": "e09e38a1715f43eba34c924e2a4f283f",
      "msg_type": "execute_request",
      "session": "5bbd9e4052104b2bad7b580a595098f5",
      "username": "username",
      "version": "5.2"
     }
    }
   },
   "jupyter_react.bb5e6fe5-9871-49cb-9b21-5d7ece54adfa.QCircuit": {
    "cellIdx": "1",
    "msg": {
     "buffers": [],
     "channel": "iopub",
     "content": {
      "comm_id": "jupyter_react.bb5e6fe5-9871-49cb-9b21-5d7ece54adfa.QCircuit",
      "data": {
       "method": "display"
      }
     },
     "header": {
      "date": "2019-11-13T10:58:31.820638Z",
      "msg_id": "86875a12-0a47f104a0a40f24c3ef3874",
      "msg_type": "comm_msg",
      "session": "446947e6-5482a610d4dff2f756cb8bc2",
      "username": "username",
      "version": "5.3"
     },
     "metadata": {},
     "msg_id": "86875a12-0a47f104a0a40f24c3ef3874",
     "msg_type": "comm_msg",
     "parent_header": {
      "date": "2019-11-13T10:58:31.743844Z",
      "msg_id": "f7d886d602ea4fc58e450e16c5c84784",
      "msg_type": "execute_request",
      "session": "545404a0a8c4468b80bc4d3a7e006352",
      "username": "username",
      "version": "5.2"
     }
    }
   },
   "jupyter_react.bfae0c77-c500-4969-80d0-3768d3cdaddc.QCircuit": {
    "cellIdx": "1",
    "msg": {
     "buffers": [],
     "channel": "iopub",
     "content": {
      "comm_id": "jupyter_react.bfae0c77-c500-4969-80d0-3768d3cdaddc.QCircuit",
      "data": {
       "method": "display"
      }
     },
     "header": {
      "date": "2019-11-12T11:06:00.620682Z",
      "msg_id": "f63857e7-14a29e6eed18672fbab704c9",
      "msg_type": "comm_msg",
      "session": "cb8b8d64-d973e58d85cacb9d3fdf643b",
      "username": "username",
      "version": "5.3"
     },
     "metadata": {},
     "msg_id": "f63857e7-14a29e6eed18672fbab704c9",
     "msg_type": "comm_msg",
     "parent_header": {
      "date": "2019-11-12T11:06:00.541954Z",
      "msg_id": "098b70185491499d9f51881fa3978d18",
      "msg_type": "execute_request",
      "session": "69cd851ef0844d488083109320850615",
      "username": "username",
      "version": "5.2"
     }
    }
   },
   "jupyter_react.c43c1c46-7ae6-4ff1-983f-c0e8410ed69f.QCircuit": {
    "cellIdx": "1",
    "msg": {
     "buffers": [],
     "channel": "iopub",
     "content": {
      "comm_id": "jupyter_react.c43c1c46-7ae6-4ff1-983f-c0e8410ed69f.QCircuit",
      "data": {
       "method": "display"
      }
     },
     "header": {
      "date": "2019-11-13T10:58:49.371942Z",
      "msg_id": "ececdf7c-202cca83404e91bf6bdd1b9c",
      "msg_type": "comm_msg",
      "session": "446947e6-5482a610d4dff2f756cb8bc2",
      "username": "username",
      "version": "5.3"
     },
     "metadata": {},
     "msg_id": "ececdf7c-202cca83404e91bf6bdd1b9c",
     "msg_type": "comm_msg",
     "parent_header": {
      "date": "2019-11-13T10:58:49.285161Z",
      "msg_id": "2942ff75af864fdaae32829de3e7c5e2",
      "msg_type": "execute_request",
      "session": "545404a0a8c4468b80bc4d3a7e006352",
      "username": "username",
      "version": "5.2"
     }
    }
   },
   "jupyter_react.c4a41f13-5d6f-4605-8b4b-41a9a0ed1be0.QCircuit": {
    "cellIdx": "1",
    "msg": {
     "buffers": [],
     "channel": "iopub",
     "content": {
      "comm_id": "jupyter_react.c4a41f13-5d6f-4605-8b4b-41a9a0ed1be0.QCircuit",
      "data": {
       "method": "display"
      }
     },
     "header": {
      "date": "2019-11-12T08:19:55.952612Z",
      "msg_id": "0926c10a-e9820119b402ce3cc5668404",
      "msg_type": "comm_msg",
      "session": "7f8e6e36-12deaad9733c9e6db3a2b37f",
      "username": "username",
      "version": "5.3"
     },
     "metadata": {},
     "msg_id": "0926c10a-e9820119b402ce3cc5668404",
     "msg_type": "comm_msg",
     "parent_header": {
      "date": "2019-11-12T08:19:54.953828Z",
      "msg_id": "8b84fdecc2e2457581d7553cd0f76898",
      "msg_type": "execute_request",
      "session": "f90700a6ca024f83882a107183687053",
      "username": "username",
      "version": "5.2"
     }
    }
   },
   "jupyter_react.c6b6c3ce-d074-4428-abac-9e9892db3d7c.QCircuit": {
    "cellIdx": "1",
    "msg": {
     "buffers": [],
     "channel": "iopub",
     "content": {
      "comm_id": "jupyter_react.c6b6c3ce-d074-4428-abac-9e9892db3d7c.QCircuit",
      "data": {
       "method": "display"
      }
     },
     "header": {
      "date": "2019-11-13T10:58:38.330589Z",
      "msg_id": "4d518bc7-43e2a449a47b3e45aa6c1885",
      "msg_type": "comm_msg",
      "session": "446947e6-5482a610d4dff2f756cb8bc2",
      "username": "username",
      "version": "5.3"
     },
     "metadata": {},
     "msg_id": "4d518bc7-43e2a449a47b3e45aa6c1885",
     "msg_type": "comm_msg",
     "parent_header": {
      "date": "2019-11-13T10:58:38.253806Z",
      "msg_id": "9694aea4e6114274882541734b1bfa1a",
      "msg_type": "execute_request",
      "session": "545404a0a8c4468b80bc4d3a7e006352",
      "username": "username",
      "version": "5.2"
     }
    }
   },
   "jupyter_react.c7468c1d-3993-4306-8551-ffd31c445df9.QCircuit": {
    "cellIdx": "1",
    "msg": {
     "buffers": [],
     "channel": "iopub",
     "content": {
      "comm_id": "jupyter_react.c7468c1d-3993-4306-8551-ffd31c445df9.QCircuit",
      "data": {
       "method": "display"
      }
     },
     "header": {
      "date": "2019-11-12T11:20:06.589035Z",
      "msg_id": "f59727e0-4a6d2ce749af6beb93731ec6",
      "msg_type": "comm_msg",
      "session": "cb8b8d64-d973e58d85cacb9d3fdf643b",
      "username": "username",
      "version": "5.3"
     },
     "metadata": {},
     "msg_id": "f59727e0-4a6d2ce749af6beb93731ec6",
     "msg_type": "comm_msg",
     "parent_header": {
      "date": "2019-11-12T11:20:06.495291Z",
      "msg_id": "318800c7207a41c58d6192fb97e9e048",
      "msg_type": "execute_request",
      "session": "7694d040b0394a98907b0fed1cf38084",
      "username": "username",
      "version": "5.2"
     }
    }
   },
   "jupyter_react.c8142418-b960-425d-8106-8c48f5e15936.QCircuit": {
    "cellIdx": "1",
    "msg": {
     "buffers": [],
     "channel": "iopub",
     "content": {
      "comm_id": "jupyter_react.c8142418-b960-425d-8106-8c48f5e15936.QCircuit",
      "data": {
       "method": "display"
      }
     },
     "header": {
      "date": "2019-11-12T15:36:51.952668Z",
      "msg_id": "e2437b18-9d7ea5e0f70e2a8b85ef079c",
      "msg_type": "comm_msg",
      "session": "6c14e0e3-c78ab27c9d24537995a301f4",
      "username": "username",
      "version": "5.3"
     },
     "metadata": {},
     "msg_id": "e2437b18-9d7ea5e0f70e2a8b85ef079c",
     "msg_type": "comm_msg",
     "parent_header": {
      "date": "2019-11-12T15:36:50.851607Z",
      "msg_id": "4dff4e0a97c94b81a6d7adaa7554017f",
      "msg_type": "execute_request",
      "session": "2f589c2a8f7b4c438ae855658a3e6776",
      "username": "username",
      "version": "5.2"
     }
    }
   },
   "jupyter_react.cae27432-4f80-4733-978d-66e21b641ac1.QCircuit": {
    "cellIdx": "2",
    "msg": {
     "buffers": [],
     "channel": "iopub",
     "content": {
      "comm_id": "jupyter_react.cae27432-4f80-4733-978d-66e21b641ac1.QCircuit",
      "data": {
       "method": "display"
      }
     },
     "header": {
      "date": "2019-11-12T15:48:44.026125Z",
      "msg_id": "83d6ab0f-c2bf6e7eab0e50639e8e89d6",
      "msg_type": "comm_msg",
      "session": "6c14e0e3-c78ab27c9d24537995a301f4",
      "username": "username",
      "version": "5.3"
     },
     "metadata": {},
     "msg_id": "83d6ab0f-c2bf6e7eab0e50639e8e89d6",
     "msg_type": "comm_msg",
     "parent_header": {
      "date": "2019-11-12T15:48:43.942812Z",
      "msg_id": "e2726d82c9524d08848d29ec7532437d",
      "msg_type": "execute_request",
      "session": "2f589c2a8f7b4c438ae855658a3e6776",
      "username": "username",
      "version": "5.2"
     }
    }
   },
   "jupyter_react.caf397ec-371a-4a56-bf8f-5bdb7a85e6fe.QCircuit": {
    "cellIdx": "1",
    "msg": {
     "buffers": [],
     "channel": "iopub",
     "content": {
      "comm_id": "jupyter_react.caf397ec-371a-4a56-bf8f-5bdb7a85e6fe.QCircuit",
      "data": {
       "method": "display"
      }
     },
     "header": {
      "date": "2019-11-11T20:47:13.360566Z",
      "msg_id": "ff281421-714d3e5a369580547478a6f7",
      "msg_type": "comm_msg",
      "session": "e6e6d9d3-03ab989b9de702f2dcb7dc9b",
      "username": "username",
      "version": "5.3"
     },
     "metadata": {},
     "msg_id": "ff281421-714d3e5a369580547478a6f7",
     "msg_type": "comm_msg",
     "parent_header": {
      "date": "2019-11-11T20:47:07.038259Z",
      "msg_id": "505f8895cc8a4115acb065922a2eadd5",
      "msg_type": "execute_request",
      "session": "dfbce2d7eea04ccb99dbe9f5b17af302",
      "username": "username",
      "version": "5.2"
     }
    }
   },
   "jupyter_react.ce44c0f4-031f-4b03-9c8a-0f2fd23d51c7.QCircuit": {
    "cellIdx": "1",
    "msg": {
     "buffers": [],
     "channel": "iopub",
     "content": {
      "comm_id": "jupyter_react.ce44c0f4-031f-4b03-9c8a-0f2fd23d51c7.QCircuit",
      "data": {
       "method": "display"
      }
     },
     "header": {
      "date": "2019-11-13T11:05:11.453036Z",
      "msg_id": "12462eae-9c4a4c0690af4faecf26238d",
      "msg_type": "comm_msg",
      "session": "446947e6-5482a610d4dff2f756cb8bc2",
      "username": "username",
      "version": "5.3"
     },
     "metadata": {},
     "msg_id": "12462eae-9c4a4c0690af4faecf26238d",
     "msg_type": "comm_msg",
     "parent_header": {
      "date": "2019-11-13T11:05:11.361309Z",
      "msg_id": "95233eae05074da888d6be4982ce4ee2",
      "msg_type": "execute_request",
      "session": "545404a0a8c4468b80bc4d3a7e006352",
      "username": "username",
      "version": "5.2"
     }
    }
   },
   "jupyter_react.d0807946-197f-4bb6-ac3a-da820f7425b7.QCircuit": {
    "cellIdx": "1",
    "msg": {
     "buffers": [],
     "channel": "iopub",
     "content": {
      "comm_id": "jupyter_react.d0807946-197f-4bb6-ac3a-da820f7425b7.QCircuit",
      "data": {
       "method": "display"
      }
     },
     "header": {
      "date": "2019-11-12T11:41:54.893916Z",
      "msg_id": "2aa82bc1-6ccb5ccf4546d622f0b51172",
      "msg_type": "comm_msg",
      "session": "cb8b8d64-d973e58d85cacb9d3fdf643b",
      "username": "username",
      "version": "5.3"
     },
     "metadata": {},
     "msg_id": "2aa82bc1-6ccb5ccf4546d622f0b51172",
     "msg_type": "comm_msg",
     "parent_header": {
      "date": "2019-11-12T11:41:54.815116Z",
      "msg_id": "9ef558253e8c42d6865953b497fc7158",
      "msg_type": "execute_request",
      "session": "244bc7aee3c04e90b80561d1899cf0e4",
      "username": "username",
      "version": "5.2"
     }
    }
   },
   "jupyter_react.d394d605-7df6-410e-b443-0b30a5afc1d0.QCircuit": {
    "cellIdx": "1",
    "msg": {
     "buffers": [],
     "channel": "iopub",
     "content": {
      "comm_id": "jupyter_react.d394d605-7df6-410e-b443-0b30a5afc1d0.QCircuit",
      "data": {
       "method": "display"
      }
     },
     "header": {
      "date": "2019-11-12T11:44:07.115326Z",
      "msg_id": "c50ce027-dd12d6c608ea54be4fb5d018",
      "msg_type": "comm_msg",
      "session": "cb8b8d64-d973e58d85cacb9d3fdf643b",
      "username": "username",
      "version": "5.3"
     },
     "metadata": {},
     "msg_id": "c50ce027-dd12d6c608ea54be4fb5d018",
     "msg_type": "comm_msg",
     "parent_header": {
      "date": "2019-11-12T11:44:07.030557Z",
      "msg_id": "ab763c5a58664e7bab7a7636da527e46",
      "msg_type": "execute_request",
      "session": "ca904483a0b341429c0e089a5303297b",
      "username": "username",
      "version": "5.2"
     }
    }
   },
   "jupyter_react.d3a5a1dd-6f03-48db-a3fd-baa7505a510f.QCircuit": {
    "cellIdx": "3",
    "msg": {
     "buffers": [],
     "channel": "iopub",
     "content": {
      "comm_id": "jupyter_react.d3a5a1dd-6f03-48db-a3fd-baa7505a510f.QCircuit",
      "data": {
       "method": "display"
      }
     },
     "header": {
      "date": "2019-11-11T08:44:32.126455Z",
      "msg_id": "0b4dd1b6-bf74e50f857c1a9ba1b090a2",
      "msg_type": "comm_msg",
      "session": "a2919c98-b6f8f08987acc8519e1006d8",
      "username": "username",
      "version": "5.3"
     },
     "metadata": {},
     "msg_id": "0b4dd1b6-bf74e50f857c1a9ba1b090a2",
     "msg_type": "comm_msg",
     "parent_header": {
      "date": "2019-11-11T08:44:32.050655Z",
      "msg_id": "d672928a36784d06801a7d7c8e74e97e",
      "msg_type": "execute_request",
      "session": "f29b2fe17071490fbedea5eb0d38a4c5",
      "username": "username",
      "version": "5.2"
     }
    }
   },
   "jupyter_react.d9be1129-af49-43a1-9dc2-f2a11b942048.QCircuit": {
    "cellIdx": "1",
    "msg": {
     "buffers": [],
     "channel": "iopub",
     "content": {
      "comm_id": "jupyter_react.d9be1129-af49-43a1-9dc2-f2a11b942048.QCircuit",
      "data": {
       "method": "display"
      }
     },
     "header": {
      "date": "2019-11-12T13:47:01.802173Z",
      "msg_id": "6d45c315-0caada224327eeb8f522c1b0",
      "msg_type": "comm_msg",
      "session": "1f315486-06dfafa1c5319b90e9b6b033",
      "username": "username",
      "version": "5.3"
     },
     "metadata": {},
     "msg_id": "6d45c315-0caada224327eeb8f522c1b0",
     "msg_type": "comm_msg",
     "parent_header": {
      "date": "2019-11-12T13:47:01.699098Z",
      "msg_id": "8e64cfe1dcf04dff8829dd72d3942491",
      "msg_type": "execute_request",
      "session": "f413e282f593427f80e2be4848398ab9",
      "username": "username",
      "version": "5.2"
     }
    }
   },
   "jupyter_react.dc4ad80b-61d1-486c-b19c-3e906fdf367c.QCircuit": {
    "cellIdx": "1",
    "msg": {
     "buffers": [],
     "channel": "iopub",
     "content": {
      "comm_id": "jupyter_react.dc4ad80b-61d1-486c-b19c-3e906fdf367c.QCircuit",
      "data": {
       "method": "display"
      }
     },
     "header": {
      "date": "2019-11-12T13:54:08.625349Z",
      "msg_id": "0dc27f45-fa3c29ec7e048ae5160b2c8e",
      "msg_type": "comm_msg",
      "session": "1f315486-06dfafa1c5319b90e9b6b033",
      "username": "username",
      "version": "5.3"
     },
     "metadata": {},
     "msg_id": "0dc27f45-fa3c29ec7e048ae5160b2c8e",
     "msg_type": "comm_msg",
     "parent_header": {
      "date": "2019-11-12T13:54:08.530652Z",
      "msg_id": "76e56ded14f641ceb499d12537e06d0b",
      "msg_type": "execute_request",
      "session": "5fd223330d914268bd425cef444ac4a0",
      "username": "username",
      "version": "5.2"
     }
    }
   },
   "jupyter_react.ddcb013c-7e80-4ef0-944c-e3828d98ce76.QCircuit": {
    "cellIdx": "1",
    "msg": {
     "buffers": [],
     "channel": "iopub",
     "content": {
      "comm_id": "jupyter_react.ddcb013c-7e80-4ef0-944c-e3828d98ce76.QCircuit",
      "data": {
       "method": "display"
      }
     },
     "header": {
      "date": "2019-11-12T11:55:41.185499Z",
      "msg_id": "edbcf3e7-e6beb22b88eb984d3be19909",
      "msg_type": "comm_msg",
      "session": "cb8b8d64-d973e58d85cacb9d3fdf643b",
      "username": "username",
      "version": "5.3"
     },
     "metadata": {},
     "msg_id": "edbcf3e7-e6beb22b88eb984d3be19909",
     "msg_type": "comm_msg",
     "parent_header": {
      "date": "2019-11-12T11:55:41.103688Z",
      "msg_id": "019d379898b74700b685f6ef2812c241",
      "msg_type": "execute_request",
      "session": "5e8c5ff5c6a64154931aaebca8df560c",
      "username": "username",
      "version": "5.2"
     }
    }
   },
   "jupyter_react.e566fbef-f0f5-4dd8-a7c4-1ce0e7c8b91e.QCircuit": {
    "cellIdx": "1",
    "msg": {
     "buffers": [],
     "channel": "iopub",
     "content": {
      "comm_id": "jupyter_react.e566fbef-f0f5-4dd8-a7c4-1ce0e7c8b91e.QCircuit",
      "data": {
       "method": "display"
      }
     },
     "header": {
      "date": "2019-11-12T08:50:54.114710Z",
      "msg_id": "d892f58b-025e676a353a8b9fb0819b6d",
      "msg_type": "comm_msg",
      "session": "7f8e6e36-12deaad9733c9e6db3a2b37f",
      "username": "username",
      "version": "5.3"
     },
     "metadata": {},
     "msg_id": "d892f58b-025e676a353a8b9fb0819b6d",
     "msg_type": "comm_msg",
     "parent_header": {
      "date": "2019-11-12T08:50:54.018942Z",
      "msg_id": "518b1ff7454b4e1283d84e466f3ee1c8",
      "msg_type": "execute_request",
      "session": "aad72fe47b2e43eb8bc19cde9405d472",
      "username": "username",
      "version": "5.2"
     }
    }
   },
   "jupyter_react.e7e2e2af-4d38-4a7d-afd7-3fe8ee736939.QCircuit": {
    "cellIdx": "1",
    "msg": {
     "buffers": [],
     "channel": "iopub",
     "content": {
      "comm_id": "jupyter_react.e7e2e2af-4d38-4a7d-afd7-3fe8ee736939.QCircuit",
      "data": {
       "method": "display"
      }
     },
     "header": {
      "date": "2019-11-12T13:55:42.516970Z",
      "msg_id": "f909adbf-fde316e2b2b5d1f7c8937dc6",
      "msg_type": "comm_msg",
      "session": "1f315486-06dfafa1c5319b90e9b6b033",
      "username": "username",
      "version": "5.3"
     },
     "metadata": {},
     "msg_id": "f909adbf-fde316e2b2b5d1f7c8937dc6",
     "msg_type": "comm_msg",
     "parent_header": {
      "date": "2019-11-12T13:55:42.430202Z",
      "msg_id": "2c26726dfed44f3bb27131e096d68440",
      "msg_type": "execute_request",
      "session": "5fd223330d914268bd425cef444ac4a0",
      "username": "username",
      "version": "5.2"
     }
    }
   },
   "jupyter_react.e92e705a-e374-43d0-b518-c5d32c495354.QCircuit": {
    "cellIdx": "1",
    "msg": {
     "buffers": [],
     "channel": "iopub",
     "content": {
      "comm_id": "jupyter_react.e92e705a-e374-43d0-b518-c5d32c495354.QCircuit",
      "data": {
       "method": "display"
      }
     },
     "header": {
      "date": "2019-11-12T13:55:53.334355Z",
      "msg_id": "9d8c4451-4eaa14a92305c1cb40ca90df",
      "msg_type": "comm_msg",
      "session": "1f315486-06dfafa1c5319b90e9b6b033",
      "username": "username",
      "version": "5.3"
     },
     "metadata": {},
     "msg_id": "9d8c4451-4eaa14a92305c1cb40ca90df",
     "msg_type": "comm_msg",
     "parent_header": {
      "date": "2019-11-12T13:55:53.251575Z",
      "msg_id": "488bcf2922f741f986019b87c0bf668e",
      "msg_type": "execute_request",
      "session": "5fd223330d914268bd425cef444ac4a0",
      "username": "username",
      "version": "5.2"
     }
    }
   },
   "jupyter_react.ea5a9df5-78e2-48a0-a81a-ea6f717507ec.QCircuit": {
    "cellIdx": "1",
    "msg": {
     "buffers": [],
     "channel": "iopub",
     "content": {
      "comm_id": "jupyter_react.ea5a9df5-78e2-48a0-a81a-ea6f717507ec.QCircuit",
      "data": {
       "method": "display"
      }
     },
     "header": {
      "date": "2019-11-12T13:54:30.394967Z",
      "msg_id": "ff435674-4d114c17099d6463c4005d62",
      "msg_type": "comm_msg",
      "session": "1f315486-06dfafa1c5319b90e9b6b033",
      "username": "username",
      "version": "5.3"
     },
     "metadata": {},
     "msg_id": "ff435674-4d114c17099d6463c4005d62",
     "msg_type": "comm_msg",
     "parent_header": {
      "date": "2019-11-12T13:54:30.306554Z",
      "msg_id": "d9dd84965e1d47198fbb8fd6acd29764",
      "msg_type": "execute_request",
      "session": "5fd223330d914268bd425cef444ac4a0",
      "username": "username",
      "version": "5.2"
     }
    }
   },
   "jupyter_react.eca51d5d-c1fb-4e9e-8174-53c13b18ab88.QCircuit": {
    "cellIdx": "1",
    "msg": {
     "buffers": [],
     "channel": "iopub",
     "content": {
      "comm_id": "jupyter_react.eca51d5d-c1fb-4e9e-8174-53c13b18ab88.QCircuit",
      "data": {
       "method": "display"
      }
     },
     "header": {
      "date": "2019-11-12T11:56:55.196749Z",
      "msg_id": "d038dfa6-63e0886c3cc027b0c5737da3",
      "msg_type": "comm_msg",
      "session": "4d7d713e-496dea5dd4257ca0588e3870",
      "username": "username",
      "version": "5.3"
     },
     "metadata": {},
     "msg_id": "d038dfa6-63e0886c3cc027b0c5737da3",
     "msg_type": "comm_msg",
     "parent_header": {
      "date": "2019-11-12T11:56:53.501558Z",
      "msg_id": "22a3a12dc1e349db9bc1e17609a548fc",
      "msg_type": "execute_request",
      "session": "5e8c5ff5c6a64154931aaebca8df560c",
      "username": "username",
      "version": "5.2"
     }
    }
   },
   "jupyter_react.edee53a6-db25-4532-9239-1209b9bce4ed.QCircuit": {
    "cellIdx": "1",
    "msg": {
     "buffers": [],
     "channel": "iopub",
     "content": {
      "comm_id": "jupyter_react.edee53a6-db25-4532-9239-1209b9bce4ed.QCircuit",
      "data": {
       "method": "display"
      }
     },
     "header": {
      "date": "2019-11-12T13:44:43.008420Z",
      "msg_id": "9a444b34-341acb3dbfd5eb7d82e3811f",
      "msg_type": "comm_msg",
      "session": "1f315486-06dfafa1c5319b90e9b6b033",
      "username": "username",
      "version": "5.3"
     },
     "metadata": {},
     "msg_id": "9a444b34-341acb3dbfd5eb7d82e3811f",
     "msg_type": "comm_msg",
     "parent_header": {
      "date": "2019-11-12T13:44:42.924071Z",
      "msg_id": "dbee53d58d774e708a017abe51eeb318",
      "msg_type": "execute_request",
      "session": "f413e282f593427f80e2be4848398ab9",
      "username": "username",
      "version": "5.2"
     }
    }
   },
   "jupyter_react.ef530bd0-d7a5-4ca1-98f6-46312a3a864f.QCircuit": {
    "cellIdx": "1",
    "msg": {
     "buffers": [],
     "channel": "iopub",
     "content": {
      "comm_id": "jupyter_react.ef530bd0-d7a5-4ca1-98f6-46312a3a864f.QCircuit",
      "data": {
       "method": "display"
      }
     },
     "header": {
      "date": "2019-11-13T06:24:33.552438Z",
      "msg_id": "3485c515-55cd6ba5e013c599b516be5d",
      "msg_type": "comm_msg",
      "session": "55e11f24-392db00f637e6ab35354fc87",
      "username": "username",
      "version": "5.3"
     },
     "metadata": {},
     "msg_id": "3485c515-55cd6ba5e013c599b516be5d",
     "msg_type": "comm_msg",
     "parent_header": {
      "date": "2019-11-13T06:24:33.465674Z",
      "msg_id": "5de6be65804b460cab346a19d2217402",
      "msg_type": "execute_request",
      "session": "545404a0a8c4468b80bc4d3a7e006352",
      "username": "username",
      "version": "5.2"
     }
    }
   },
   "jupyter_react.f6fd4a3d-4c36-4003-9931-63e5e60a0bef.QCircuit": {
    "cellIdx": "6",
    "msg": {
     "buffers": [],
     "channel": "iopub",
     "content": {
      "comm_id": "jupyter_react.f6fd4a3d-4c36-4003-9931-63e5e60a0bef.QCircuit",
      "data": {
       "method": "display"
      }
     },
     "header": {
      "date": "2019-11-13T10:57:03.557507Z",
      "msg_id": "f8566b8c-e1651a6ec9906aedf0f2de74",
      "msg_type": "comm_msg",
      "session": "55e11f24-392db00f637e6ab35354fc87",
      "username": "username",
      "version": "5.3"
     },
     "metadata": {},
     "msg_id": "f8566b8c-e1651a6ec9906aedf0f2de74",
     "msg_type": "comm_msg",
     "parent_header": {
      "date": "2019-11-13T10:57:03.470711Z",
      "msg_id": "b5d2815cdc894fb78b006c4c7e2dc25b",
      "msg_type": "execute_request",
      "session": "545404a0a8c4468b80bc4d3a7e006352",
      "username": "username",
      "version": "5.2"
     }
    }
   },
   "jupyter_react.fb4c5b42-e028-421b-bb35-51fb13384881.QCircuit": {
    "cellIdx": "1",
    "msg": {
     "buffers": [],
     "channel": "iopub",
     "content": {
      "comm_id": "jupyter_react.fb4c5b42-e028-421b-bb35-51fb13384881.QCircuit",
      "data": {
       "method": "display"
      }
     },
     "header": {
      "date": "2019-11-12T13:48:26.705868Z",
      "msg_id": "6a6fe88e-bf8bae924b98ebacb15c2f83",
      "msg_type": "comm_msg",
      "session": "1f315486-06dfafa1c5319b90e9b6b033",
      "username": "username",
      "version": "5.3"
     },
     "metadata": {},
     "msg_id": "6a6fe88e-bf8bae924b98ebacb15c2f83",
     "msg_type": "comm_msg",
     "parent_header": {
      "date": "2019-11-12T13:48:26.610043Z",
      "msg_id": "c19240dbcbb948f281dbcf44fad2b686",
      "msg_type": "execute_request",
      "session": "6c054b3aeabb4d2eb52d60e610e08903",
      "username": "username",
      "version": "5.2"
     }
    }
   },
   "jupyter_react.fc682e82-6fbf-44ad-bcdc-0b09dfc1f033.QCircuit": {
    "cellIdx": "6",
    "msg": {
     "buffers": [],
     "channel": "iopub",
     "content": {
      "comm_id": "jupyter_react.fc682e82-6fbf-44ad-bcdc-0b09dfc1f033.QCircuit",
      "data": {
       "method": "display"
      }
     },
     "header": {
      "date": "2019-11-13T10:56:52.971401Z",
      "msg_id": "6dd5e1f0-f815f6df861c57ccef4256a8",
      "msg_type": "comm_msg",
      "session": "55e11f24-392db00f637e6ab35354fc87",
      "username": "username",
      "version": "5.3"
     },
     "metadata": {},
     "msg_id": "6dd5e1f0-f815f6df861c57ccef4256a8",
     "msg_type": "comm_msg",
     "parent_header": {
      "date": "2019-11-13T10:56:52.889644Z",
      "msg_id": "b5e4de19e454477da7c66d8c2aa020a8",
      "msg_type": "execute_request",
      "session": "545404a0a8c4468b80bc4d3a7e006352",
      "username": "username",
      "version": "5.2"
     }
    }
   },
   "jupyter_react.fd2b8a3e-3a02-4772-bb1e-c056b1119b5b.QCircuit": {
    "cellIdx": "1",
    "msg": {
     "buffers": [],
     "channel": "iopub",
     "content": {
      "comm_id": "jupyter_react.fd2b8a3e-3a02-4772-bb1e-c056b1119b5b.QCircuit",
      "data": {
       "method": "display"
      }
     },
     "header": {
      "date": "2019-11-12T13:46:20.080555Z",
      "msg_id": "d5157862-61a4439a75d1de2d777f0ff5",
      "msg_type": "comm_msg",
      "session": "1f315486-06dfafa1c5319b90e9b6b033",
      "username": "username",
      "version": "5.3"
     },
     "metadata": {},
     "msg_id": "d5157862-61a4439a75d1de2d777f0ff5",
     "msg_type": "comm_msg",
     "parent_header": {
      "date": "2019-11-12T13:46:19.994753Z",
      "msg_id": "559a02765b134bcb8b7bb42d53500765",
      "msg_type": "execute_request",
      "session": "f413e282f593427f80e2be4848398ab9",
      "username": "username",
      "version": "5.2"
     }
    }
   },
   "jupyter_react.fec8a78f-cc47-4bcb-8947-5d39c19a9bbf.QCircuit": {
    "cellIdx": "6",
    "msg": {
     "buffers": [],
     "channel": "iopub",
     "content": {
      "comm_id": "jupyter_react.fec8a78f-cc47-4bcb-8947-5d39c19a9bbf.QCircuit",
      "data": {
       "method": "display"
      }
     },
     "header": {
      "date": "2019-11-13T10:57:52.901491Z",
      "msg_id": "676027ec-2e5c3c049fe16f7b5c6e8c2b",
      "msg_type": "comm_msg",
      "session": "55e11f24-392db00f637e6ab35354fc87",
      "username": "username",
      "version": "5.3"
     },
     "metadata": {},
     "msg_id": "676027ec-2e5c3c049fe16f7b5c6e8c2b",
     "msg_type": "comm_msg",
     "parent_header": {
      "date": "2019-11-13T10:57:52.820695Z",
      "msg_id": "bca80eecd05a4824b3c6c1f077f3ca73",
      "msg_type": "execute_request",
      "session": "545404a0a8c4468b80bc4d3a7e006352",
      "username": "username",
      "version": "5.2"
     }
    }
   }
  }
 },
 "nbformat": 4,
 "nbformat_minor": 2
}
