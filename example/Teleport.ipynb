{
 "cells": [
  {
   "cell_type": "code",
   "execution_count": 9,
   "metadata": {},
   "outputs": [],
   "source": [
    "import math\n",
    "\n",
    "from projectq import MainEngine, ops\n",
    "from projectq.ops import H, Z, X, Measure, All, CNOT, Rz\n",
    "from projectq.meta import Loop, Compute, Uncompute, Control, Dagger\n",
    "\n",
    "from qcircuit import QCircuit, Classic, Qubit, Qureg"
   ]
  },
  {
   "cell_type": "code",
   "execution_count": 2,
   "metadata": {
    "_hiq_info": {
     "comm_id": "jupyter_react.19cfbe35-d6dd-4058-a881-640878cf0bc1.QCircuit",
     "msg": {
      "buffers": [],
      "channel": "iopub",
      "content": {
       "comm_id": "jupyter_react.19cfbe35-d6dd-4058-a881-640878cf0bc1.QCircuit",
       "data": {
        "method": "display"
       }
      },
      "header": {
       "date": "2019-11-18T08:30:12.077713Z",
       "msg_id": "c356004a-aaf2f12cd6b35bcd46408964",
       "msg_type": "comm_msg",
       "session": "0440fedc-272a458c978ae2a225442940",
       "username": "username",
       "version": "5.3"
      },
      "metadata": {},
      "msg_id": "c356004a-aaf2f12cd6b35bcd46408964",
      "msg_type": "comm_msg",
      "parent_header": {
       "date": "2019-11-18T08:30:11.007576Z",
       "msg_id": "329cd4ef7bf5458a818793915c33e3db",
       "msg_type": "execute_request",
       "session": "85323d5fc25944758122f15376c7f33e",
       "username": "username",
       "version": "5.2"
      }
     },
     "qregs": [
      {
       "name": "b1",
       "type": "QUANTUM"
      },
      {
       "name": "b2",
       "type": "QUANTUM"
      }
     ],
     "qschema": [
      [
       "H"
      ],
      [
       "",
       "X-0"
      ]
     ]
    }
   },
   "outputs": [],
   "source": [
    "init_bell_pair = QCircuit.create(b1=Qubit, b2=Qubit)\n",
    "\n",
    "def create_bell_pair(eng):\n",
    "    b1 = eng.allocate_qubit()\n",
    "    b2 = eng.allocate_qubit()\n",
    "    \n",
    "    init_bell_pair(eng, b1, b2)\n",
    "    \n",
    "    return b1, b2"
   ]
  },
  {
   "cell_type": "code",
   "execution_count": 3,
   "metadata": {
    "_hiq_info": {
     "comm_id": "jupyter_react.58754926-812b-4747-ab16-e0368425dd1a.QCircuit",
     "msg": {
      "buffers": [],
      "channel": "iopub",
      "content": {
       "comm_id": "jupyter_react.58754926-812b-4747-ab16-e0368425dd1a.QCircuit",
       "data": {
        "method": "display"
       }
      },
      "header": {
       "date": "2019-11-18T08:30:12.213350Z",
       "msg_id": "555e9868-54c2602b853f854b5e32cb01",
       "msg_type": "comm_msg",
       "session": "0440fedc-272a458c978ae2a225442940",
       "username": "username",
       "version": "5.3"
      },
      "metadata": {},
      "msg_id": "555e9868-54c2602b853f854b5e32cb01",
      "msg_type": "comm_msg",
      "parent_header": {
       "date": "2019-11-18T08:30:11.210034Z",
       "msg_id": "dcc7e71c2fd54b10866484ece320b612",
       "msg_type": "execute_request",
       "session": "85323d5fc25944758122f15376c7f33e",
       "username": "username",
       "version": "5.2"
      }
     },
     "qregs": [
      {
       "name": "psi",
       "type": "QUANTUM"
      }
     ],
     "qschema": [
      [
       "",
       "H",
       "",
       "",
       "Z"
      ]
     ]
    }
   },
   "outputs": [],
   "source": [
    "create_state = QCircuit.create(psi=Qubit)"
   ]
  },
  {
   "cell_type": "code",
   "execution_count": 4,
   "metadata": {
    "_hiq_info": {
     "comm_id": "jupyter_react.a527b59f-8706-4402-b846-f190482bb04f.QCircuit",
     "msg": {
      "buffers": [],
      "channel": "iopub",
      "content": {
       "comm_id": "jupyter_react.a527b59f-8706-4402-b846-f190482bb04f.QCircuit",
       "data": {
        "method": "display"
       }
      },
      "header": {
       "date": "2019-11-18T08:30:12.313084Z",
       "msg_id": "d94550e6-9cae4a8c91e79753f0e5caf9",
       "msg_type": "comm_msg",
       "session": "0440fedc-272a458c978ae2a225442940",
       "username": "username",
       "version": "5.3"
      },
      "metadata": {},
      "msg_id": "d94550e6-9cae4a8c91e79753f0e5caf9",
      "msg_type": "comm_msg",
      "parent_header": {
       "date": "2019-11-18T08:30:11.741613Z",
       "msg_id": "5f86bb9b615f48708548df75feb940af",
       "msg_type": "execute_request",
       "session": "85323d5fc25944758122f15376c7f33e",
       "username": "username",
       "version": "5.2"
      }
     },
     "qregs": [
      {
       "name": "b1",
       "type": "QUANTUM"
      },
      {
       "name": "b2",
       "type": "QUANTUM"
      },
      {
       "name": "psi",
       "type": "QUANTUM"
      }
     ],
     "qschema": [
      [
       "",
       ""
      ],
      [
       "X-0",
       "",
       "Z-2"
      ],
      [
       "",
       ""
      ]
     ]
    }
   },
   "outputs": [],
   "source": [
    "restore_state = QCircuit.create(b1=Qubit, b2=Qubit, psi=Qubit)        \n",
    "\n",
    "def restore_state(eng, b1, b2, psi):\n",
    "    # Bob may have to apply up to two operation depending on the message sent\n",
    "    # by Alice:\n",
    "    with Control(eng, b1):\n",
    "        X | b2\n",
    "    with Control(eng, psi):\n",
    "        Z | b2\n",
    "\n"
   ]
  },
  {
   "cell_type": "code",
   "execution_count": 7,
   "metadata": {},
   "outputs": [
    {
     "name": "stdout",
     "output_type": "stream",
     "text": [
      "(Note: This is the (slow) Python simulator.)\n",
      "Debug:  H  |  b1\n",
      "{'b1': [<projectq.types._qubit.Qubit object at 0x000001F308EBD1D0>], 'b2': [<projectq.types._qubit.Qubit object at 0x000001F308EBD278>]} b1 Qureg[0]\n",
      "Debug:  X  with Control( ['0'] ) Qureg[0]\n"
     ]
    },
    {
     "ename": "AttributeError",
     "evalue": "'Qureg' object has no attribute 'id'\n raised in:\n'  File \"C:\\\\Users\\\\kotko\\\\AppData\\\\Roaming\\\\Python\\\\Python37\\\\site-packages\\\\projectq\\\\ops\\\\_command.py\", line 241, in <listcomp>'\n'    for qubit in qubits])'",
     "output_type": "error",
     "traceback": [
      "\u001b[1;31m---------------------------------------------------------------------------\u001b[0m",
      "\u001b[1;31mAttributeError\u001b[0m                            Traceback (most recent call last)",
      "\u001b[1;32m<ipython-input-7-143c525494dd>\u001b[0m in \u001b[0;36m<module>\u001b[1;34m\u001b[0m\n\u001b[0;32m     44\u001b[0m \u001b[1;32mif\u001b[0m \u001b[0m__name__\u001b[0m \u001b[1;33m==\u001b[0m \u001b[1;34m\"__main__\"\u001b[0m\u001b[1;33m:\u001b[0m\u001b[1;33m\u001b[0m\u001b[1;33m\u001b[0m\u001b[0m\n\u001b[0;32m     45\u001b[0m     \u001b[0meng\u001b[0m \u001b[1;33m=\u001b[0m \u001b[0mMainEngine\u001b[0m\u001b[1;33m(\u001b[0m\u001b[1;33m)\u001b[0m\u001b[1;33m\u001b[0m\u001b[1;33m\u001b[0m\u001b[0m\n\u001b[1;32m---> 46\u001b[1;33m     \u001b[0mrun_teleport\u001b[0m\u001b[1;33m(\u001b[0m\u001b[0meng\u001b[0m\u001b[1;33m,\u001b[0m \u001b[0mcreate_state\u001b[0m\u001b[1;33m,\u001b[0m \u001b[0mverbose\u001b[0m\u001b[1;33m=\u001b[0m\u001b[1;32mTrue\u001b[0m\u001b[1;33m)\u001b[0m\u001b[1;33m\u001b[0m\u001b[1;33m\u001b[0m\u001b[0m\n\u001b[0m",
      "\u001b[1;32m<ipython-input-7-143c525494dd>\u001b[0m in \u001b[0;36mrun_teleport\u001b[1;34m(eng, state_creation_function, verbose)\u001b[0m\n\u001b[0;32m      1\u001b[0m \u001b[1;32mdef\u001b[0m \u001b[0mrun_teleport\u001b[0m\u001b[1;33m(\u001b[0m\u001b[0meng\u001b[0m\u001b[1;33m,\u001b[0m \u001b[0mstate_creation_function\u001b[0m\u001b[1;33m,\u001b[0m \u001b[0mverbose\u001b[0m\u001b[1;33m=\u001b[0m\u001b[1;32mFalse\u001b[0m\u001b[1;33m)\u001b[0m\u001b[1;33m:\u001b[0m\u001b[1;33m\u001b[0m\u001b[1;33m\u001b[0m\u001b[0m\n\u001b[0;32m      2\u001b[0m     \u001b[1;31m# make a Bell-pair\u001b[0m\u001b[1;33m\u001b[0m\u001b[1;33m\u001b[0m\u001b[1;33m\u001b[0m\u001b[0m\n\u001b[1;32m----> 3\u001b[1;33m     \u001b[0mb1\u001b[0m\u001b[1;33m,\u001b[0m \u001b[0mb2\u001b[0m \u001b[1;33m=\u001b[0m \u001b[0mcreate_bell_pair\u001b[0m\u001b[1;33m(\u001b[0m\u001b[0meng\u001b[0m\u001b[1;33m)\u001b[0m\u001b[1;33m\u001b[0m\u001b[1;33m\u001b[0m\u001b[0m\n\u001b[0m\u001b[0;32m      4\u001b[0m \u001b[1;33m\u001b[0m\u001b[0m\n\u001b[0;32m      5\u001b[0m     \u001b[1;31m# Alice creates a nice state to send\u001b[0m\u001b[1;33m\u001b[0m\u001b[1;33m\u001b[0m\u001b[1;33m\u001b[0m\u001b[0m\n",
      "\u001b[1;32m<ipython-input-2-c5c79443c9b2>\u001b[0m in \u001b[0;36mcreate_bell_pair\u001b[1;34m(eng)\u001b[0m\n\u001b[0;32m      5\u001b[0m     \u001b[0mb2\u001b[0m \u001b[1;33m=\u001b[0m \u001b[0meng\u001b[0m\u001b[1;33m.\u001b[0m\u001b[0mallocate_qubit\u001b[0m\u001b[1;33m(\u001b[0m\u001b[1;33m)\u001b[0m\u001b[1;33m\u001b[0m\u001b[1;33m\u001b[0m\u001b[0m\n\u001b[0;32m      6\u001b[0m \u001b[1;33m\u001b[0m\u001b[0m\n\u001b[1;32m----> 7\u001b[1;33m     \u001b[0minit_bell_pair\u001b[0m\u001b[1;33m(\u001b[0m\u001b[0meng\u001b[0m\u001b[1;33m,\u001b[0m \u001b[0mb1\u001b[0m\u001b[1;33m,\u001b[0m \u001b[0mb2\u001b[0m\u001b[1;33m)\u001b[0m\u001b[1;33m\u001b[0m\u001b[1;33m\u001b[0m\u001b[0m\n\u001b[0m\u001b[0;32m      8\u001b[0m \u001b[1;33m\u001b[0m\u001b[0m\n\u001b[0;32m      9\u001b[0m     \u001b[1;32mreturn\u001b[0m \u001b[0mb1\u001b[0m\u001b[1;33m,\u001b[0m \u001b[0mb2\u001b[0m\u001b[1;33m\u001b[0m\u001b[1;33m\u001b[0m\u001b[0m\n",
      "\u001b[1;32mc:\\huawei\\jupyter-react-example-master\\qcircuit\\qcircuit.py\u001b[0m in \u001b[0;36m__call__\u001b[1;34m(self, eng, *args, **kwargs)\u001b[0m\n\u001b[0;32m     75\u001b[0m \u001b[1;33m\u001b[0m\u001b[0m\n\u001b[0;32m     76\u001b[0m     \u001b[1;32mdef\u001b[0m \u001b[0m__call__\u001b[0m\u001b[1;33m(\u001b[0m\u001b[0mself\u001b[0m\u001b[1;33m,\u001b[0m \u001b[0meng\u001b[0m\u001b[1;33m,\u001b[0m \u001b[1;33m*\u001b[0m\u001b[0margs\u001b[0m\u001b[1;33m,\u001b[0m \u001b[1;33m**\u001b[0m\u001b[0mkwargs\u001b[0m\u001b[1;33m)\u001b[0m\u001b[1;33m:\u001b[0m\u001b[1;33m\u001b[0m\u001b[1;33m\u001b[0m\u001b[0m\n\u001b[1;32m---> 77\u001b[1;33m         \u001b[0mself\u001b[0m\u001b[1;33m.\u001b[0m\u001b[0mrun\u001b[0m\u001b[1;33m(\u001b[0m\u001b[0meng\u001b[0m\u001b[1;33m,\u001b[0m \u001b[1;33m*\u001b[0m\u001b[0margs\u001b[0m\u001b[1;33m,\u001b[0m \u001b[1;33m**\u001b[0m\u001b[0mkwargs\u001b[0m\u001b[1;33m)\u001b[0m\u001b[1;33m\u001b[0m\u001b[1;33m\u001b[0m\u001b[0m\n\u001b[0m\u001b[0;32m     78\u001b[0m \u001b[1;33m\u001b[0m\u001b[0m\n\u001b[0;32m     79\u001b[0m     \u001b[1;32mdef\u001b[0m \u001b[0mset\u001b[0m\u001b[1;33m(\u001b[0m\u001b[0mself\u001b[0m\u001b[1;33m,\u001b[0m \u001b[0mrow\u001b[0m\u001b[1;33m,\u001b[0m \u001b[0mcol\u001b[0m\u001b[1;33m,\u001b[0m \u001b[0mgateEncoded\u001b[0m\u001b[1;33m)\u001b[0m\u001b[1;33m:\u001b[0m\u001b[1;33m\u001b[0m\u001b[1;33m\u001b[0m\u001b[0m\n",
      "\u001b[1;32mc:\\huawei\\jupyter-react-example-master\\qcircuit\\qcircuit.py\u001b[0m in \u001b[0;36mrun\u001b[1;34m(self, eng, *args, **kwargs)\u001b[0m\n\u001b[0;32m    155\u001b[0m \u001b[1;33m\u001b[0m\u001b[0m\n\u001b[0;32m    156\u001b[0m                     \u001b[1;32mwith\u001b[0m \u001b[0mControl\u001b[0m\u001b[1;33m(\u001b[0m\u001b[0meng\u001b[0m\u001b[1;33m,\u001b[0m \u001b[0mresolved_ctrls\u001b[0m\u001b[1;33m)\u001b[0m\u001b[1;33m:\u001b[0m\u001b[1;33m\u001b[0m\u001b[1;33m\u001b[0m\u001b[0m\n\u001b[1;32m--> 157\u001b[1;33m                         \u001b[0mgate_op\u001b[0m \u001b[1;33m|\u001b[0m \u001b[0mop_subject\u001b[0m\u001b[1;33m\u001b[0m\u001b[1;33m\u001b[0m\u001b[0m\n\u001b[0m\u001b[0;32m    158\u001b[0m \u001b[1;33m\u001b[0m\u001b[0m\n\u001b[0;32m    159\u001b[0m     \u001b[1;32mdef\u001b[0m \u001b[0mdisplay\u001b[0m\u001b[1;33m(\u001b[0m\u001b[0mself\u001b[0m\u001b[1;33m)\u001b[0m\u001b[1;33m:\u001b[0m\u001b[1;33m\u001b[0m\u001b[1;33m\u001b[0m\u001b[0m\n",
      "\u001b[1;32m~\\AppData\\Roaming\\Python\\Python37\\site-packages\\projectq\\ops\\_basics.py\u001b[0m in \u001b[0;36m__or__\u001b[1;34m(self, qubits)\u001b[0m\n\u001b[0;32m    202\u001b[0m         \"\"\"\n\u001b[0;32m    203\u001b[0m         \u001b[0mcmd\u001b[0m \u001b[1;33m=\u001b[0m \u001b[0mself\u001b[0m\u001b[1;33m.\u001b[0m\u001b[0mgenerate_command\u001b[0m\u001b[1;33m(\u001b[0m\u001b[0mqubits\u001b[0m\u001b[1;33m)\u001b[0m\u001b[1;33m\u001b[0m\u001b[1;33m\u001b[0m\u001b[0m\n\u001b[1;32m--> 204\u001b[1;33m         \u001b[0mapply_command\u001b[0m\u001b[1;33m(\u001b[0m\u001b[0mcmd\u001b[0m\u001b[1;33m)\u001b[0m\u001b[1;33m\u001b[0m\u001b[1;33m\u001b[0m\u001b[0m\n\u001b[0m\u001b[0;32m    205\u001b[0m \u001b[1;33m\u001b[0m\u001b[0m\n\u001b[0;32m    206\u001b[0m     \u001b[1;32mdef\u001b[0m \u001b[0m__eq__\u001b[0m\u001b[1;33m(\u001b[0m\u001b[0mself\u001b[0m\u001b[1;33m,\u001b[0m \u001b[0mother\u001b[0m\u001b[1;33m)\u001b[0m\u001b[1;33m:\u001b[0m\u001b[1;33m\u001b[0m\u001b[1;33m\u001b[0m\u001b[0m\n",
      "\u001b[1;32m~\\AppData\\Roaming\\Python\\Python37\\site-packages\\projectq\\ops\\_command.py\u001b[0m in \u001b[0;36mapply_command\u001b[1;34m(cmd)\u001b[0m\n\u001b[0;32m     56\u001b[0m     \"\"\"\n\u001b[0;32m     57\u001b[0m     \u001b[0mengine\u001b[0m \u001b[1;33m=\u001b[0m \u001b[0mcmd\u001b[0m\u001b[1;33m.\u001b[0m\u001b[0mengine\u001b[0m\u001b[1;33m\u001b[0m\u001b[1;33m\u001b[0m\u001b[0m\n\u001b[1;32m---> 58\u001b[1;33m     \u001b[0mengine\u001b[0m\u001b[1;33m.\u001b[0m\u001b[0mreceive\u001b[0m\u001b[1;33m(\u001b[0m\u001b[1;33m[\u001b[0m\u001b[0mcmd\u001b[0m\u001b[1;33m]\u001b[0m\u001b[1;33m)\u001b[0m\u001b[1;33m\u001b[0m\u001b[1;33m\u001b[0m\u001b[0m\n\u001b[0m\u001b[0;32m     59\u001b[0m \u001b[1;33m\u001b[0m\u001b[0m\n\u001b[0;32m     60\u001b[0m \u001b[1;33m\u001b[0m\u001b[0m\n",
      "\u001b[1;32m~\\AppData\\Roaming\\Python\\Python37\\site-packages\\projectq\\cengines\\_main.py\u001b[0m in \u001b[0;36mreceive\u001b[1;34m(self, command_list)\u001b[0m\n\u001b[0;32m    264\u001b[0m                 then send on)\n\u001b[0;32m    265\u001b[0m         \"\"\"\n\u001b[1;32m--> 266\u001b[1;33m         \u001b[0mself\u001b[0m\u001b[1;33m.\u001b[0m\u001b[0msend\u001b[0m\u001b[1;33m(\u001b[0m\u001b[0mcommand_list\u001b[0m\u001b[1;33m)\u001b[0m\u001b[1;33m\u001b[0m\u001b[1;33m\u001b[0m\u001b[0m\n\u001b[0m\u001b[0;32m    267\u001b[0m \u001b[1;33m\u001b[0m\u001b[0m\n\u001b[0;32m    268\u001b[0m     \u001b[1;32mdef\u001b[0m \u001b[0msend\u001b[0m\u001b[1;33m(\u001b[0m\u001b[0mself\u001b[0m\u001b[1;33m,\u001b[0m \u001b[0mcommand_list\u001b[0m\u001b[1;33m)\u001b[0m\u001b[1;33m:\u001b[0m\u001b[1;33m\u001b[0m\u001b[1;33m\u001b[0m\u001b[0m\n",
      "\u001b[1;32m~\\AppData\\Roaming\\Python\\Python37\\site-packages\\projectq\\cengines\\_main.py\u001b[0m in \u001b[0;36msend\u001b[1;34m(self, command_list)\u001b[0m\n\u001b[0;32m    286\u001b[0m                                              \"\\n\" + repr(last_line[-2]))\n\u001b[0;32m    287\u001b[0m                 \u001b[0mcompact_exception\u001b[0m\u001b[1;33m.\u001b[0m\u001b[0m__cause__\u001b[0m \u001b[1;33m=\u001b[0m \u001b[1;32mNone\u001b[0m\u001b[1;33m\u001b[0m\u001b[1;33m\u001b[0m\u001b[0m\n\u001b[1;32m--> 288\u001b[1;33m                 \u001b[1;32mraise\u001b[0m \u001b[0mcompact_exception\u001b[0m  \u001b[1;31m# use verbose=True for more info\u001b[0m\u001b[1;33m\u001b[0m\u001b[1;33m\u001b[0m\u001b[0m\n\u001b[0m\u001b[0;32m    289\u001b[0m \u001b[1;33m\u001b[0m\u001b[0m\n\u001b[0;32m    290\u001b[0m     \u001b[1;32mdef\u001b[0m \u001b[0mflush\u001b[0m\u001b[1;33m(\u001b[0m\u001b[0mself\u001b[0m\u001b[1;33m,\u001b[0m \u001b[0mdeallocate_qubits\u001b[0m\u001b[1;33m=\u001b[0m\u001b[1;32mFalse\u001b[0m\u001b[1;33m)\u001b[0m\u001b[1;33m:\u001b[0m\u001b[1;33m\u001b[0m\u001b[1;33m\u001b[0m\u001b[0m\n",
      "\u001b[1;31mAttributeError\u001b[0m: 'Qureg' object has no attribute 'id'\n raised in:\n'  File \"C:\\\\Users\\\\kotko\\\\AppData\\\\Roaming\\\\Python\\\\Python37\\\\site-packages\\\\projectq\\\\ops\\\\_command.py\", line 241, in <listcomp>'\n'    for qubit in qubits])'"
     ]
    }
   ],
   "source": [
    "def run_teleport(eng, state_creation_function, verbose=False):\n",
    "    # make a Bell-pair\n",
    "    b1, b2 = create_bell_pair(eng)\n",
    "\n",
    "    # Alice creates a nice state to send\n",
    "    psi = eng.allocate_qubit()\n",
    "    if verbose:\n",
    "        print(\"Alice is creating her state from scratch, i.e., |0>.\")\n",
    "    state_creation_function(eng, psi)\n",
    "\n",
    "    # entangle it with Alice's b1\n",
    "    \n",
    "    with Control(eng, psi):\n",
    "        X | b1\n",
    "        \n",
    "    if verbose:\n",
    "        print(\"Alice entangled her qubit with her share of the Bell-pair.\")\n",
    "\n",
    "    # measure two values (once in Hadamard basis) and send the bits to Bob\n",
    "    H | psi\n",
    "    Measure | psi\n",
    "    Measure | b1\n",
    "    msg_to_bob = [int(psi), int(b1)]\n",
    "    if verbose:\n",
    "        print(\"Alice is sending the message {} to Bob.\".format(msg_to_bob))\n",
    "\n",
    "    restore_state(eng, b1, b2, psi)\n",
    "    \n",
    "    # try to uncompute the psi state\n",
    "    if verbose:\n",
    "        print(\"Bob is trying to uncompute the state.\")\n",
    "    with Dagger(eng):\n",
    "        state_creation_function(eng, b2)\n",
    "\n",
    "    # check whether the uncompute was successful. The simulator only allows to\n",
    "    # delete qubits which are in a computational basis state.\n",
    "    del b2\n",
    "    eng.flush()\n",
    "\n",
    "    if verbose:\n",
    "        print(\"Bob successfully arrived at |0>\")\n",
    "\n",
    "\n",
    "if __name__ == \"__main__\":\n",
    "    eng = MainEngine()\n",
    "    run_teleport(eng, create_state, verbose=True)"
   ]
  },
  {
   "cell_type": "code",
   "execution_count": 80,
   "metadata": {},
   "outputs": [
    {
     "name": "stdout",
     "output_type": "stream",
     "text": [
      "(Note: This is the (slow) Python simulator.)\n",
      "0\n"
     ]
    }
   ],
   "source": [
    "eng = MainEngine()\n",
    "\n",
    "###\n",
    "\n",
    "\n",
    "\n",
    "import importlib\n",
    "mod = importlib.import_module('projectq.ops')\n",
    "arbitraryOp = getattr(mod, 'Rx')\n",
    "\n",
    "\n",
    "\n",
    "###\n",
    "\n",
    "psi = eng.allocate_qubit()\n",
    "arbitraryOp(3.14 / 2) | psi\n",
    "mod.Measure | psi\n",
    "print(int(psi))"
   ]
  }
 ],
 "metadata": {
  "kernelspec": {
   "display_name": "Python 3",
   "language": "python",
   "name": "python3"
  },
  "language_info": {
   "codemirror_mode": {
    "name": "ipython",
    "version": 3
   },
   "file_extension": ".py",
   "mimetype": "text/x-python",
   "name": "python",
   "nbconvert_exporter": "python",
   "pygments_lexer": "ipython3",
   "version": "3.7.1"
  },
  "react_comms": {
   "jupyter_react.023f1ee3-f36f-4b8c-a13e-a5237fcc8f12.QCircuit": {
    "cellIdx": "1",
    "msg": {
     "buffers": [],
     "channel": "iopub",
     "content": {
      "comm_id": "jupyter_react.023f1ee3-f36f-4b8c-a13e-a5237fcc8f12.QCircuit",
      "data": {
       "method": "display"
      }
     },
     "header": {
      "date": "2019-11-18T07:38:41.683544Z",
      "msg_id": "2fb4ce3b-b8168cf2f45f7ee1aa00ad31",
      "msg_type": "comm_msg",
      "session": "eb056738-256996a58f7ebe5ce8b3e2f1",
      "username": "username",
      "version": "5.3"
     },
     "metadata": {},
     "msg_id": "2fb4ce3b-b8168cf2f45f7ee1aa00ad31",
     "msg_type": "comm_msg",
     "parent_header": {
      "date": "2019-11-18T07:38:40.888552Z",
      "msg_id": "41af335bf6f048e785dcf2683d54046e",
      "msg_type": "execute_request",
      "session": "85323d5fc25944758122f15376c7f33e",
      "username": "username",
      "version": "5.2"
     }
    }
   },
   "jupyter_react.03f45881-7af3-4e76-a24e-6be3c752fb0a.QCircuit": {
    "cellIdx": "6",
    "msg": {
     "buffers": [],
     "channel": "iopub",
     "content": {
      "comm_id": "jupyter_react.03f45881-7af3-4e76-a24e-6be3c752fb0a.QCircuit",
      "data": {
       "method": "display"
      }
     },
     "header": {
      "date": "2019-11-18T07:12:23.817275Z",
      "msg_id": "4352ecab-1219e33be67af737575e6350",
      "msg_type": "comm_msg",
      "session": "fd5c3ca8-82919b9d5bd891dab3bcf414",
      "username": "username",
      "version": "5.3"
     },
     "metadata": {},
     "msg_id": "4352ecab-1219e33be67af737575e6350",
     "msg_type": "comm_msg",
     "parent_header": {
      "date": "2019-11-18T07:12:23.812309Z",
      "msg_id": "39dcc1226ad34a679bf3256f7cf587ec",
      "msg_type": "execute_request",
      "session": "85323d5fc25944758122f15376c7f33e",
      "username": "username",
      "version": "5.2"
     }
    }
   },
   "jupyter_react.042cf479-6ee5-4d03-92e4-6d4e0adfbcce.QCircuit": {
    "cellIdx": "3",
    "msg": {
     "buffers": [],
     "channel": "iopub",
     "content": {
      "comm_id": "jupyter_react.042cf479-6ee5-4d03-92e4-6d4e0adfbcce.QCircuit",
      "data": {
       "method": "display"
      }
     },
     "header": {
      "date": "2019-11-18T07:50:38.706199Z",
      "msg_id": "a21c8e77-b5da205a7c384d1e4492ba66",
      "msg_type": "comm_msg",
      "session": "173ac559-429d24eae02063a5bf337d07",
      "username": "username",
      "version": "5.3"
     },
     "metadata": {},
     "msg_id": "a21c8e77-b5da205a7c384d1e4492ba66",
     "msg_type": "comm_msg",
     "parent_header": {
      "date": "2019-11-18T07:50:38.482995Z",
      "msg_id": "32c217b15bd148549aa69a2078aaab4a",
      "msg_type": "execute_request",
      "session": "85323d5fc25944758122f15376c7f33e",
      "username": "username",
      "version": "5.2"
     }
    }
   },
   "jupyter_react.04d621b3-8115-4e14-a719-9036f7e11eaf.QCircuit": {
    "cellIdx": "3",
    "msg": {
     "buffers": [],
     "channel": "iopub",
     "content": {
      "comm_id": "jupyter_react.04d621b3-8115-4e14-a719-9036f7e11eaf.QCircuit",
      "data": {
       "method": "display"
      }
     },
     "header": {
      "date": "2019-11-18T07:18:55.863597Z",
      "msg_id": "cccba0d1-2749cfc6a3affb01c7c323f0",
      "msg_type": "comm_msg",
      "session": "fd5c3ca8-82919b9d5bd891dab3bcf414",
      "username": "username",
      "version": "5.3"
     },
     "metadata": {},
     "msg_id": "cccba0d1-2749cfc6a3affb01c7c323f0",
     "msg_type": "comm_msg",
     "parent_header": {
      "date": "2019-11-18T07:18:55.859616Z",
      "msg_id": "c78cf465f65f4cbd88cd278ece351a7e",
      "msg_type": "execute_request",
      "session": "85323d5fc25944758122f15376c7f33e",
      "username": "username",
      "version": "5.2"
     }
    }
   },
   "jupyter_react.04eb3772-a5f6-4590-ac83-0dd0630e8233.QCircuit": {
    "cellIdx": "2",
    "msg": {
     "buffers": [],
     "channel": "iopub",
     "content": {
      "comm_id": "jupyter_react.04eb3772-a5f6-4590-ac83-0dd0630e8233.QCircuit",
      "data": {
       "method": "display"
      }
     },
     "header": {
      "date": "2019-11-18T07:36:37.319072Z",
      "msg_id": "4ceb9b1f-3e89fb17d5b9224211da2433",
      "msg_type": "comm_msg",
      "session": "1e9941f3-bb8c54db83e14c4786dabd14",
      "username": "username",
      "version": "5.3"
     },
     "metadata": {},
     "msg_id": "4ceb9b1f-3e89fb17d5b9224211da2433",
     "msg_type": "comm_msg",
     "parent_header": {
      "date": "2019-11-18T07:36:36.763874Z",
      "msg_id": "633f9c35b9d345478290252ce726f417",
      "msg_type": "execute_request",
      "session": "85323d5fc25944758122f15376c7f33e",
      "username": "username",
      "version": "5.2"
     }
    }
   },
   "jupyter_react.08bf18f5-0d41-46a0-aea6-f221daa3826f.QCircuit": {
    "cellIdx": "3",
    "msg": {
     "buffers": [],
     "channel": "iopub",
     "content": {
      "comm_id": "jupyter_react.08bf18f5-0d41-46a0-aea6-f221daa3826f.QCircuit",
      "data": {
       "method": "display"
      }
     },
     "header": {
      "date": "2019-11-18T08:10:30.007480Z",
      "msg_id": "ab292894-340f0dfc7f4e34bd24151e4b",
      "msg_type": "comm_msg",
      "session": "30fc179a-d43aaa7586197e413a1431a8",
      "username": "username",
      "version": "5.3"
     },
     "metadata": {},
     "msg_id": "ab292894-340f0dfc7f4e34bd24151e4b",
     "msg_type": "comm_msg",
     "parent_header": {
      "date": "2019-11-18T08:10:30.003470Z",
      "msg_id": "a717ba29b02649ff8b53cc1924d34099",
      "msg_type": "execute_request",
      "session": "85323d5fc25944758122f15376c7f33e",
      "username": "username",
      "version": "5.2"
     }
    }
   },
   "jupyter_react.090b68be-3469-4489-9ee7-e3fb217dc253.QCircuit": {
    "cellIdx": "5",
    "msg": {
     "buffers": [],
     "channel": "iopub",
     "content": {
      "comm_id": "jupyter_react.090b68be-3469-4489-9ee7-e3fb217dc253.QCircuit",
      "data": {
       "method": "display"
      }
     },
     "header": {
      "date": "2019-11-18T07:24:17.148767Z",
      "msg_id": "1431d23a-a2790b114f547df7145645e5",
      "msg_type": "comm_msg",
      "session": "fd5c3ca8-82919b9d5bd891dab3bcf414",
      "username": "username",
      "version": "5.3"
     },
     "metadata": {},
     "msg_id": "1431d23a-a2790b114f547df7145645e5",
     "msg_type": "comm_msg",
     "parent_header": {
      "date": "2019-11-18T07:24:17.145802Z",
      "msg_id": "e8cd34caf8b94236864e14414cef0f8b",
      "msg_type": "execute_request",
      "session": "85323d5fc25944758122f15376c7f33e",
      "username": "username",
      "version": "5.2"
     }
    }
   },
   "jupyter_react.09997a3f-f6b3-4d30-92e1-1314e4219d16.QCircuit": {
    "cellIdx": "3",
    "msg": {
     "buffers": [],
     "channel": "iopub",
     "content": {
      "comm_id": "jupyter_react.09997a3f-f6b3-4d30-92e1-1314e4219d16.QCircuit",
      "data": {
       "method": "display"
      }
     },
     "header": {
      "date": "2019-11-18T07:24:36.662303Z",
      "msg_id": "dce4d3b5-f284bec817bd41438414a5a1",
      "msg_type": "comm_msg",
      "session": "fd5c3ca8-82919b9d5bd891dab3bcf414",
      "username": "username",
      "version": "5.3"
     },
     "metadata": {},
     "msg_id": "dce4d3b5-f284bec817bd41438414a5a1",
     "msg_type": "comm_msg",
     "parent_header": {
      "date": "2019-11-18T07:24:36.657321Z",
      "msg_id": "0481cb22d84746acae3aa58549bcd119",
      "msg_type": "execute_request",
      "session": "85323d5fc25944758122f15376c7f33e",
      "username": "username",
      "version": "5.2"
     }
    }
   },
   "jupyter_react.0c42bde7-f360-4d1f-b336-c72ff18cc9b3.QCircuit": {
    "cellIdx": "2",
    "msg": {
     "buffers": [],
     "channel": "iopub",
     "content": {
      "comm_id": "jupyter_react.0c42bde7-f360-4d1f-b336-c72ff18cc9b3.QCircuit",
      "data": {
       "method": "display"
      }
     },
     "header": {
      "date": "2019-11-18T07:29:23.119864Z",
      "msg_id": "7275e7f0-4cdf145ed03734994e8f3f79",
      "msg_type": "comm_msg",
      "session": "b22a9852-1c8827a7eff15518df41fbe6",
      "username": "username",
      "version": "5.3"
     },
     "metadata": {},
     "msg_id": "7275e7f0-4cdf145ed03734994e8f3f79",
     "msg_type": "comm_msg",
     "parent_header": {
      "date": "2019-11-18T07:29:23.115909Z",
      "msg_id": "fabd88d087b14d1c80b144aee016cdf7",
      "msg_type": "execute_request",
      "session": "85323d5fc25944758122f15376c7f33e",
      "username": "username",
      "version": "5.2"
     }
    }
   },
   "jupyter_react.0cc96eca-b3df-49dd-890c-38398aad7ef2.QCircuit": {
    "cellIdx": "1",
    "msg": {
     "buffers": [],
     "channel": "iopub",
     "content": {
      "comm_id": "jupyter_react.0cc96eca-b3df-49dd-890c-38398aad7ef2.QCircuit",
      "data": {
       "method": "display"
      }
     },
     "header": {
      "date": "2019-11-18T07:34:22.029411Z",
      "msg_id": "90a6b72b-dc4b3dbc1ec09ff60e88d241",
      "msg_type": "comm_msg",
      "session": "ac9789f3-bca8618267f86da5c95997a6",
      "username": "username",
      "version": "5.3"
     },
     "metadata": {},
     "msg_id": "90a6b72b-dc4b3dbc1ec09ff60e88d241",
     "msg_type": "comm_msg",
     "parent_header": {
      "date": "2019-11-18T07:34:21.332093Z",
      "msg_id": "9cb554dbbc664c5c803ec7420339afe5",
      "msg_type": "execute_request",
      "session": "85323d5fc25944758122f15376c7f33e",
      "username": "username",
      "version": "5.2"
     }
    }
   },
   "jupyter_react.0da3f774-e3af-4770-859c-9ce6200c7869.QCircuit": {
    "cellIdx": "1",
    "msg": {
     "buffers": [],
     "channel": "iopub",
     "content": {
      "comm_id": "jupyter_react.0da3f774-e3af-4770-859c-9ce6200c7869.QCircuit",
      "data": {
       "method": "display"
      }
     },
     "header": {
      "date": "2019-11-18T08:09:47.336124Z",
      "msg_id": "f0976622-ff82f9f363fb6220597683e8",
      "msg_type": "comm_msg",
      "session": "212524d0-8aea10df5dd90dfc4bafc8f2",
      "username": "username",
      "version": "5.3"
     },
     "metadata": {},
     "msg_id": "f0976622-ff82f9f363fb6220597683e8",
     "msg_type": "comm_msg",
     "parent_header": {
      "date": "2019-11-18T08:09:47.330166Z",
      "msg_id": "e3ab8e36f8584ed08648c0ea11986b26",
      "msg_type": "execute_request",
      "session": "85323d5fc25944758122f15376c7f33e",
      "username": "username",
      "version": "5.2"
     }
    }
   },
   "jupyter_react.10f095cc-244c-4af2-86d4-66ebeec17de8.QCircuit": {
    "cellIdx": "2",
    "msg": {
     "buffers": [],
     "channel": "iopub",
     "content": {
      "comm_id": "jupyter_react.10f095cc-244c-4af2-86d4-66ebeec17de8.QCircuit",
      "data": {
       "method": "display"
      }
     },
     "header": {
      "date": "2019-11-18T07:33:22.226450Z",
      "msg_id": "e311d8f1-bac92a5f5dd572c131bd6cf6",
      "msg_type": "comm_msg",
      "session": "03235a54-149333f6f9d9d4ee7139a74e",
      "username": "username",
      "version": "5.3"
     },
     "metadata": {},
     "msg_id": "e311d8f1-bac92a5f5dd572c131bd6cf6",
     "msg_type": "comm_msg",
     "parent_header": {
      "date": "2019-11-18T07:33:21.178210Z",
      "msg_id": "7beb9f7858ab43f98c423dc0d330f0a5",
      "msg_type": "execute_request",
      "session": "85323d5fc25944758122f15376c7f33e",
      "username": "username",
      "version": "5.2"
     }
    }
   },
   "jupyter_react.10ff3cc1-a7f7-4b7d-9ed7-8e40c443b1ca.QCircuit": {
    "cellIdx": "3",
    "msg": {
     "buffers": [],
     "channel": "iopub",
     "content": {
      "comm_id": "jupyter_react.10ff3cc1-a7f7-4b7d-9ed7-8e40c443b1ca.QCircuit",
      "data": {
       "method": "display"
      }
     },
     "header": {
      "date": "2019-11-18T08:12:13.294306Z",
      "msg_id": "f3fe86fa-3c657ea5a28aeda2291dca6d",
      "msg_type": "comm_msg",
      "session": "33582566-cd62362473da598ecc0eb33b",
      "username": "username",
      "version": "5.3"
     },
     "metadata": {},
     "msg_id": "f3fe86fa-3c657ea5a28aeda2291dca6d",
     "msg_type": "comm_msg",
     "parent_header": {
      "date": "2019-11-18T08:12:12.945904Z",
      "msg_id": "c2982357a9f141598730a6898177cbb0",
      "msg_type": "execute_request",
      "session": "85323d5fc25944758122f15376c7f33e",
      "username": "username",
      "version": "5.2"
     }
    }
   },
   "jupyter_react.13efb7d0-1cbc-4e77-a84e-25ed45aa87eb.QCircuit": {
    "cellIdx": "3",
    "msg": {
     "buffers": [],
     "channel": "iopub",
     "content": {
      "comm_id": "jupyter_react.13efb7d0-1cbc-4e77-a84e-25ed45aa87eb.QCircuit",
      "data": {
       "method": "display"
      }
     },
     "header": {
      "date": "2019-11-18T07:55:49.284237Z",
      "msg_id": "a504ba6d-86e40ed06e858c636ad1a9fa",
      "msg_type": "comm_msg",
      "session": "b19d42d3-14f39171f67c8769982cbfc2",
      "username": "username",
      "version": "5.3"
     },
     "metadata": {},
     "msg_id": "a504ba6d-86e40ed06e858c636ad1a9fa",
     "msg_type": "comm_msg",
     "parent_header": {
      "date": "2019-11-18T07:55:49.003637Z",
      "msg_id": "5b69493a03554936b80e5bc7bbedb5b9",
      "msg_type": "execute_request",
      "session": "85323d5fc25944758122f15376c7f33e",
      "username": "username",
      "version": "5.2"
     }
    }
   },
   "jupyter_react.15b7183d-9ef7-4c24-9ff7-97a5986734e4.QCircuit": {
    "cellIdx": "1",
    "msg": {
     "buffers": [],
     "channel": "iopub",
     "content": {
      "comm_id": "jupyter_react.15b7183d-9ef7-4c24-9ff7-97a5986734e4.QCircuit",
      "data": {
       "method": "display"
      }
     },
     "header": {
      "date": "2019-11-18T08:07:50.832574Z",
      "msg_id": "1e8dc774-b0afa6785f4374a88e9eeac7",
      "msg_type": "comm_msg",
      "session": "212524d0-8aea10df5dd90dfc4bafc8f2",
      "username": "username",
      "version": "5.3"
     },
     "metadata": {},
     "msg_id": "1e8dc774-b0afa6785f4374a88e9eeac7",
     "msg_type": "comm_msg",
     "parent_header": {
      "date": "2019-11-18T08:07:49.982434Z",
      "msg_id": "b937f28cf7a54db1adc0dc5966dd35e6",
      "msg_type": "execute_request",
      "session": "85323d5fc25944758122f15376c7f33e",
      "username": "username",
      "version": "5.2"
     }
    }
   },
   "jupyter_react.15f6c7cb-7a45-4df2-a278-c2e26c97ce63.QCircuit": {
    "cellIdx": "1",
    "msg": {
     "buffers": [],
     "channel": "iopub",
     "content": {
      "comm_id": "jupyter_react.15f6c7cb-7a45-4df2-a278-c2e26c97ce63.QCircuit",
      "data": {
       "method": "display"
      }
     },
     "header": {
      "date": "2019-11-18T08:12:41.999575Z",
      "msg_id": "834040ac-ec4e61eca35203a31fd9cd2d",
      "msg_type": "comm_msg",
      "session": "33582566-cd62362473da598ecc0eb33b",
      "username": "username",
      "version": "5.3"
     },
     "metadata": {},
     "msg_id": "834040ac-ec4e61eca35203a31fd9cd2d",
     "msg_type": "comm_msg",
     "parent_header": {
      "date": "2019-11-18T08:12:41.995586Z",
      "msg_id": "334ab0d1a2434e3c938564b04bf64350",
      "msg_type": "execute_request",
      "session": "85323d5fc25944758122f15376c7f33e",
      "username": "username",
      "version": "5.2"
     }
    }
   },
   "jupyter_react.16f4417f-d308-4278-865d-35867017380d.QCircuit": {
    "cellIdx": "3",
    "msg": {
     "buffers": [],
     "channel": "iopub",
     "content": {
      "comm_id": "jupyter_react.16f4417f-d308-4278-865d-35867017380d.QCircuit",
      "data": {
       "method": "display"
      }
     },
     "header": {
      "date": "2019-11-18T07:23:59.247674Z",
      "msg_id": "571a0f69-6197544507a25baabfe62fc1",
      "msg_type": "comm_msg",
      "session": "fd5c3ca8-82919b9d5bd891dab3bcf414",
      "username": "username",
      "version": "5.3"
     },
     "metadata": {},
     "msg_id": "571a0f69-6197544507a25baabfe62fc1",
     "msg_type": "comm_msg",
     "parent_header": {
      "date": "2019-11-18T07:23:59.239692Z",
      "msg_id": "0e6df0fe0654444c99b4ddd7b0572e2d",
      "msg_type": "execute_request",
      "session": "85323d5fc25944758122f15376c7f33e",
      "username": "username",
      "version": "5.2"
     }
    }
   },
   "jupyter_react.19cfbe35-d6dd-4058-a881-640878cf0bc1.QCircuit": {
    "cellIdx": "1",
    "msg": {
     "buffers": [],
     "channel": "iopub",
     "content": {
      "comm_id": "jupyter_react.19cfbe35-d6dd-4058-a881-640878cf0bc1.QCircuit",
      "data": {
       "method": "display"
      }
     },
     "header": {
      "date": "2019-11-18T08:30:12.077713Z",
      "msg_id": "c356004a-aaf2f12cd6b35bcd46408964",
      "msg_type": "comm_msg",
      "session": "0440fedc-272a458c978ae2a225442940",
      "username": "username",
      "version": "5.3"
     },
     "metadata": {},
     "msg_id": "c356004a-aaf2f12cd6b35bcd46408964",
     "msg_type": "comm_msg",
     "parent_header": {
      "date": "2019-11-18T08:30:11.007576Z",
      "msg_id": "329cd4ef7bf5458a818793915c33e3db",
      "msg_type": "execute_request",
      "session": "85323d5fc25944758122f15376c7f33e",
      "username": "username",
      "version": "5.2"
     }
    }
   },
   "jupyter_react.1a088ec3-3ad4-453f-b49b-9fb6cefe64be.QCircuit": {
    "cellIdx": "1",
    "msg": {
     "buffers": [],
     "channel": "iopub",
     "content": {
      "comm_id": "jupyter_react.1a088ec3-3ad4-453f-b49b-9fb6cefe64be.QCircuit",
      "data": {
       "method": "display"
      }
     },
     "header": {
      "date": "2019-11-18T07:36:37.232191Z",
      "msg_id": "0b236f5a-9aafeb0941bf23685bccba38",
      "msg_type": "comm_msg",
      "session": "1e9941f3-bb8c54db83e14c4786dabd14",
      "username": "username",
      "version": "5.3"
     },
     "metadata": {},
     "msg_id": "0b236f5a-9aafeb0941bf23685bccba38",
     "msg_type": "comm_msg",
     "parent_header": {
      "date": "2019-11-18T07:36:36.444674Z",
      "msg_id": "50f4d0044430410bb46b19e120a4a4a1",
      "msg_type": "execute_request",
      "session": "85323d5fc25944758122f15376c7f33e",
      "username": "username",
      "version": "5.2"
     }
    }
   },
   "jupyter_react.24ffc5ec-e28e-45bc-bf28-c426b18dcae5.QCircuit": {
    "cellIdx": "2",
    "msg": {
     "buffers": [],
     "channel": "iopub",
     "content": {
      "comm_id": "jupyter_react.24ffc5ec-e28e-45bc-bf28-c426b18dcae5.QCircuit",
      "data": {
       "method": "display"
      }
     },
     "header": {
      "date": "2019-11-18T07:55:49.125312Z",
      "msg_id": "c0fff8a6-e71f6cfdf843ea0901b88975",
      "msg_type": "comm_msg",
      "session": "b19d42d3-14f39171f67c8769982cbfc2",
      "username": "username",
      "version": "5.3"
     },
     "metadata": {},
     "msg_id": "c0fff8a6-e71f6cfdf843ea0901b88975",
     "msg_type": "comm_msg",
     "parent_header": {
      "date": "2019-11-18T07:55:48.527377Z",
      "msg_id": "1c6bf605860c4da78fa1d8499990133c",
      "msg_type": "execute_request",
      "session": "85323d5fc25944758122f15376c7f33e",
      "username": "username",
      "version": "5.2"
     }
    }
   },
   "jupyter_react.253afd8a-e695-4bdb-9ce6-cddcf8035893.QCircuit": {
    "cellIdx": "2",
    "msg": {
     "buffers": [],
     "channel": "iopub",
     "content": {
      "comm_id": "jupyter_react.253afd8a-e695-4bdb-9ce6-cddcf8035893.QCircuit",
      "data": {
       "method": "display"
      }
     },
     "header": {
      "date": "2019-11-18T07:45:07.569011Z",
      "msg_id": "850d4522-23acea5342effdde28c38b3b",
      "msg_type": "comm_msg",
      "session": "eb587a9d-cbf4ae11457eee39a593f3c0",
      "username": "username",
      "version": "5.3"
     },
     "metadata": {},
     "msg_id": "850d4522-23acea5342effdde28c38b3b",
     "msg_type": "comm_msg",
     "parent_header": {
      "date": "2019-11-18T07:45:06.994730Z",
      "msg_id": "6af7d8e8f66740d98782e17ee4994a59",
      "msg_type": "execute_request",
      "session": "85323d5fc25944758122f15376c7f33e",
      "username": "username",
      "version": "5.2"
     }
    }
   },
   "jupyter_react.25f6a5c6-7a83-4cfd-8c5c-3d796685e803.QCircuit": {
    "cellIdx": "1",
    "msg": {
     "buffers": [],
     "channel": "iopub",
     "content": {
      "comm_id": "jupyter_react.25f6a5c6-7a83-4cfd-8c5c-3d796685e803.QCircuit",
      "data": {
       "method": "display"
      }
     },
     "header": {
      "date": "2019-11-18T07:25:54.655021Z",
      "msg_id": "3791a12c-acaa14b7303835e5e0602864",
      "msg_type": "comm_msg",
      "session": "8b6328ce-9ae9525dc3ec6eb90d7600f9",
      "username": "username",
      "version": "5.3"
     },
     "metadata": {},
     "msg_id": "3791a12c-acaa14b7303835e5e0602864",
     "msg_type": "comm_msg",
     "parent_header": {
      "date": "2019-11-18T07:25:53.586692Z",
      "msg_id": "5409051d917247af897b49a49303c51c",
      "msg_type": "execute_request",
      "session": "85323d5fc25944758122f15376c7f33e",
      "username": "username",
      "version": "5.2"
     }
    }
   },
   "jupyter_react.325ca608-70a8-41b9-8744-ac705fff7255.QCircuit": {
    "cellIdx": "3",
    "msg": {
     "buffers": [],
     "channel": "iopub",
     "content": {
      "comm_id": "jupyter_react.325ca608-70a8-41b9-8744-ac705fff7255.QCircuit",
      "data": {
       "method": "display"
      }
     },
     "header": {
      "date": "2019-11-18T07:33:22.300998Z",
      "msg_id": "19c8cd31-7c7921ff1a35a9a228ff5402",
      "msg_type": "comm_msg",
      "session": "03235a54-149333f6f9d9d4ee7139a74e",
      "username": "username",
      "version": "5.3"
     },
     "metadata": {},
     "msg_id": "19c8cd31-7c7921ff1a35a9a228ff5402",
     "msg_type": "comm_msg",
     "parent_header": {
      "date": "2019-11-18T07:33:21.364720Z",
      "msg_id": "ce1254fe037340df9f42fc53dacdc5da",
      "msg_type": "execute_request",
      "session": "85323d5fc25944758122f15376c7f33e",
      "username": "username",
      "version": "5.2"
     }
    }
   },
   "jupyter_react.3af05bbd-40c3-4696-b493-3d70805fd076.QCircuit": {
    "cellIdx": "2",
    "msg": {
     "buffers": [],
     "channel": "iopub",
     "content": {
      "comm_id": "jupyter_react.3af05bbd-40c3-4696-b493-3d70805fd076.QCircuit",
      "data": {
       "method": "display"
      }
     },
     "header": {
      "date": "2019-11-18T07:11:38.905048Z",
      "msg_id": "f9f47b12-1d3c65e6e0fa638d01e4ca0c",
      "msg_type": "comm_msg",
      "session": "fd5c3ca8-82919b9d5bd891dab3bcf414",
      "username": "username",
      "version": "5.3"
     },
     "metadata": {},
     "msg_id": "f9f47b12-1d3c65e6e0fa638d01e4ca0c",
     "msg_type": "comm_msg",
     "parent_header": {
      "date": "2019-11-18T07:11:38.902031Z",
      "msg_id": "ff40689785b448a58531c8b6c29010fe",
      "msg_type": "execute_request",
      "session": "85323d5fc25944758122f15376c7f33e",
      "username": "username",
      "version": "5.2"
     }
    }
   },
   "jupyter_react.3c7fa3bd-8189-49a5-a5cc-f8cc93d5362b.QCircuit": {
    "cellIdx": "1",
    "msg": {
     "buffers": [],
     "channel": "iopub",
     "content": {
      "comm_id": "jupyter_react.3c7fa3bd-8189-49a5-a5cc-f8cc93d5362b.QCircuit",
      "data": {
       "method": "display"
      }
     },
     "header": {
      "date": "2019-11-18T07:08:03.011786Z",
      "msg_id": "6d5665e1-0803c8e5e9cb0f6260ffddf3",
      "msg_type": "comm_msg",
      "session": "fd5c3ca8-82919b9d5bd891dab3bcf414",
      "username": "username",
      "version": "5.3"
     },
     "metadata": {},
     "msg_id": "6d5665e1-0803c8e5e9cb0f6260ffddf3",
     "msg_type": "comm_msg",
     "parent_header": {
      "date": "2019-11-18T07:08:03.006801Z",
      "msg_id": "75a227d4cd05476a9992d752b29d854e",
      "msg_type": "execute_request",
      "session": "85323d5fc25944758122f15376c7f33e",
      "username": "username",
      "version": "5.2"
     }
    }
   },
   "jupyter_react.3e0938d9-6fdb-41c1-8250-483b3e8899f9.QCircuit": {
    "cellIdx": "1",
    "msg": {
     "buffers": [],
     "channel": "iopub",
     "content": {
      "comm_id": "jupyter_react.3e0938d9-6fdb-41c1-8250-483b3e8899f9.QCircuit",
      "data": {
       "method": "display"
      }
     },
     "header": {
      "date": "2019-11-18T07:26:49.726175Z",
      "msg_id": "da8d2b5f-cd98990a0b8bfd384630f2a7",
      "msg_type": "comm_msg",
      "session": "82927ade-02f19bf4170d276a552313ed",
      "username": "username",
      "version": "5.3"
     },
     "metadata": {},
     "msg_id": "da8d2b5f-cd98990a0b8bfd384630f2a7",
     "msg_type": "comm_msg",
     "parent_header": {
      "date": "2019-11-18T07:26:48.825904Z",
      "msg_id": "65d2caa5b8024e6483782e1ae72ca08f",
      "msg_type": "execute_request",
      "session": "85323d5fc25944758122f15376c7f33e",
      "username": "username",
      "version": "5.2"
     }
    }
   },
   "jupyter_react.4057c972-5fb0-42df-a319-61e101f9f7b4.QCircuit": {
    "cellIdx": "1",
    "msg": {
     "buffers": [],
     "channel": "iopub",
     "content": {
      "comm_id": "jupyter_react.4057c972-5fb0-42df-a319-61e101f9f7b4.QCircuit",
      "data": {
       "method": "display"
      }
     },
     "header": {
      "date": "2019-11-18T06:51:58.993969Z",
      "msg_id": "ad308adb-d7d108917d4bfc4044af9b7d",
      "msg_type": "comm_msg",
      "session": "42a3e720-d2c8b90c03c5f03915bbd890",
      "username": "username",
      "version": "5.3"
     },
     "metadata": {},
     "msg_id": "ad308adb-d7d108917d4bfc4044af9b7d",
     "msg_type": "comm_msg",
     "parent_header": {
      "date": "2019-11-18T06:51:45.256930Z",
      "msg_id": "8420a8b951114ea48ee4187c0fc6a7c7",
      "msg_type": "execute_request",
      "session": "85323d5fc25944758122f15376c7f33e",
      "username": "username",
      "version": "5.2"
     }
    }
   },
   "jupyter_react.41f6e04f-980d-4110-9560-8a8e934b77ce.QCircuit": {
    "cellIdx": "1",
    "msg": {
     "buffers": [],
     "channel": "iopub",
     "content": {
      "comm_id": "jupyter_react.41f6e04f-980d-4110-9560-8a8e934b77ce.QCircuit",
      "data": {
       "method": "display"
      }
     },
     "header": {
      "date": "2019-11-18T07:35:35.751667Z",
      "msg_id": "7393d7cb-7174fb9233c875e93b4aa3d2",
      "msg_type": "comm_msg",
      "session": "0169345b-1f6bbef6009edffccbe27fe6",
      "username": "username",
      "version": "5.3"
     },
     "metadata": {},
     "msg_id": "7393d7cb-7174fb9233c875e93b4aa3d2",
     "msg_type": "comm_msg",
     "parent_header": {
      "date": "2019-11-18T07:35:34.784191Z",
      "msg_id": "b75dad2ac9ac452da4603326b6e8badc",
      "msg_type": "execute_request",
      "session": "85323d5fc25944758122f15376c7f33e",
      "username": "username",
      "version": "5.2"
     }
    }
   },
   "jupyter_react.421b2091-363a-4d1b-94aa-7b25b2c2b98c.QCircuit": {
    "cellIdx": "3",
    "msg": {
     "buffers": [],
     "channel": "iopub",
     "content": {
      "comm_id": "jupyter_react.421b2091-363a-4d1b-94aa-7b25b2c2b98c.QCircuit",
      "data": {
       "method": "display"
      }
     },
     "header": {
      "date": "2019-11-18T08:07:41.265385Z",
      "msg_id": "eb10abe8-eb928186b3a3e26c0ebe3102",
      "msg_type": "comm_msg",
      "session": "e27c3d54-1d0e8b54213442d9fbe84d8d",
      "username": "username",
      "version": "5.3"
     },
     "metadata": {},
     "msg_id": "eb10abe8-eb928186b3a3e26c0ebe3102",
     "msg_type": "comm_msg",
     "parent_header": {
      "date": "2019-11-18T08:07:37.678524Z",
      "msg_id": "837167295c614cc58c6252f1e869cdaa",
      "msg_type": "execute_request",
      "session": "85323d5fc25944758122f15376c7f33e",
      "username": "username",
      "version": "5.2"
     }
    }
   },
   "jupyter_react.45debe11-638f-4d73-8588-c31c3d735979.QCircuit": {
    "cellIdx": "1",
    "msg": {
     "buffers": [],
     "channel": "iopub",
     "content": {
      "comm_id": "jupyter_react.45debe11-638f-4d73-8588-c31c3d735979.QCircuit",
      "data": {
       "method": "display"
      }
     },
     "header": {
      "date": "2019-11-18T08:12:12.900004Z",
      "msg_id": "9c0f8a5b-b916990a21b334e345413e35",
      "msg_type": "comm_msg",
      "session": "33582566-cd62362473da598ecc0eb33b",
      "username": "username",
      "version": "5.3"
     },
     "metadata": {},
     "msg_id": "9c0f8a5b-b916990a21b334e345413e35",
     "msg_type": "comm_msg",
     "parent_header": {
      "date": "2019-11-18T08:12:12.067232Z",
      "msg_id": "ecfc18811014481983d24bfb77bb84d3",
      "msg_type": "execute_request",
      "session": "85323d5fc25944758122f15376c7f33e",
      "username": "username",
      "version": "5.2"
     }
    }
   },
   "jupyter_react.478eb8bc-e301-415d-bb0e-a8b923c6d4e2.QCircuit": {
    "cellIdx": "1",
    "msg": {
     "buffers": [],
     "channel": "iopub",
     "content": {
      "comm_id": "jupyter_react.478eb8bc-e301-415d-bb0e-a8b923c6d4e2.QCircuit",
      "data": {
       "method": "display"
      }
     },
     "header": {
      "date": "2019-11-18T07:09:42.263786Z",
      "msg_id": "33cd6c50-35057af18957cbe168f77571",
      "msg_type": "comm_msg",
      "session": "fd5c3ca8-82919b9d5bd891dab3bcf414",
      "username": "username",
      "version": "5.3"
     },
     "metadata": {},
     "msg_id": "33cd6c50-35057af18957cbe168f77571",
     "msg_type": "comm_msg",
     "parent_header": {
      "date": "2019-11-18T07:09:42.257806Z",
      "msg_id": "4ff58ce63ec44f0a8759b4eec3856fe7",
      "msg_type": "execute_request",
      "session": "85323d5fc25944758122f15376c7f33e",
      "username": "username",
      "version": "5.2"
     }
    }
   },
   "jupyter_react.48692d47-6bdf-4df0-9365-5d69a5dfcfed.QCircuit": {
    "cellIdx": "3",
    "msg": {
     "buffers": [],
     "channel": "iopub",
     "content": {
      "comm_id": "jupyter_react.48692d47-6bdf-4df0-9365-5d69a5dfcfed.QCircuit",
      "data": {
       "method": "display"
      }
     },
     "header": {
      "date": "2019-11-18T07:32:22.398053Z",
      "msg_id": "51fa7624-03a8b7d839f5bb965c3c3d87",
      "msg_type": "comm_msg",
      "session": "689f2e07-77741a3ec3493d4e26830c70",
      "username": "username",
      "version": "5.3"
     },
     "metadata": {},
     "msg_id": "51fa7624-03a8b7d839f5bb965c3c3d87",
     "msg_type": "comm_msg",
     "parent_header": {
      "date": "2019-11-18T07:32:21.630215Z",
      "msg_id": "dbda79ae2f6d427e8ff638480c7e45a3",
      "msg_type": "execute_request",
      "session": "85323d5fc25944758122f15376c7f33e",
      "username": "username",
      "version": "5.2"
     }
    }
   },
   "jupyter_react.4955fc5c-ec2a-45fa-994f-144cbf5bf239.QCircuit": {
    "cellIdx": "3",
    "msg": {
     "buffers": [],
     "channel": "iopub",
     "content": {
      "comm_id": "jupyter_react.4955fc5c-ec2a-45fa-994f-144cbf5bf239.QCircuit",
      "data": {
       "method": "display"
      }
     },
     "header": {
      "date": "2019-11-18T07:34:22.268218Z",
      "msg_id": "c09107a9-6c9b7d1b721f141478fadc03",
      "msg_type": "comm_msg",
      "session": "ac9789f3-bca8618267f86da5c95997a6",
      "username": "username",
      "version": "5.3"
     },
     "metadata": {},
     "msg_id": "c09107a9-6c9b7d1b721f141478fadc03",
     "msg_type": "comm_msg",
     "parent_header": {
      "date": "2019-11-18T07:34:22.212447Z",
      "msg_id": "2b927a2541d74c0487db296087989ed7",
      "msg_type": "execute_request",
      "session": "85323d5fc25944758122f15376c7f33e",
      "username": "username",
      "version": "5.2"
     }
    }
   },
   "jupyter_react.4da5e814-c41d-45c7-a778-cb6029de2fbc.QCircuit": {
    "cellIdx": "1",
    "msg": {
     "buffers": [],
     "channel": "iopub",
     "content": {
      "comm_id": "jupyter_react.4da5e814-c41d-45c7-a778-cb6029de2fbc.QCircuit",
      "data": {
       "method": "display"
      }
     },
     "header": {
      "date": "2019-11-18T08:02:48.828712Z",
      "msg_id": "26d29aef-f16fdb97b1ec010cd5869682",
      "msg_type": "comm_msg",
      "session": "b19d42d3-14f39171f67c8769982cbfc2",
      "username": "username",
      "version": "5.3"
     },
     "metadata": {},
     "msg_id": "26d29aef-f16fdb97b1ec010cd5869682",
     "msg_type": "comm_msg",
     "parent_header": {
      "date": "2019-11-18T08:02:48.823725Z",
      "msg_id": "ba65f882a8da46078495e613cc417c63",
      "msg_type": "execute_request",
      "session": "85323d5fc25944758122f15376c7f33e",
      "username": "username",
      "version": "5.2"
     }
    }
   },
   "jupyter_react.4df0a142-1e1b-4aa7-a020-ed6ae1361856.QCircuit": {
    "cellIdx": "2",
    "msg": {
     "buffers": [],
     "channel": "iopub",
     "content": {
      "comm_id": "jupyter_react.4df0a142-1e1b-4aa7-a020-ed6ae1361856.QCircuit",
      "data": {
       "method": "display"
      }
     },
     "header": {
      "date": "2019-11-18T07:48:24.298600Z",
      "msg_id": "4c641f42-6e823b384be21dd5d7fdda0f",
      "msg_type": "comm_msg",
      "session": "88c837d0-45687303c3a81a319c33d39b",
      "username": "username",
      "version": "5.3"
     },
     "metadata": {},
     "msg_id": "4c641f42-6e823b384be21dd5d7fdda0f",
     "msg_type": "comm_msg",
     "parent_header": {
      "date": "2019-11-18T07:48:24.295608Z",
      "msg_id": "8a9a519d28464cd69a13a62770c6a9a7",
      "msg_type": "execute_request",
      "session": "85323d5fc25944758122f15376c7f33e",
      "username": "username",
      "version": "5.2"
     }
    }
   },
   "jupyter_react.5123d0b0-757c-429f-b1a1-5e87c6f72fea.QCircuit": {
    "cellIdx": "5",
    "msg": {
     "buffers": [],
     "channel": "iopub",
     "content": {
      "comm_id": "jupyter_react.5123d0b0-757c-429f-b1a1-5e87c6f72fea.QCircuit",
      "data": {
       "method": "display"
      }
     },
     "header": {
      "date": "2019-11-18T07:43:29.323078Z",
      "msg_id": "8c3193ea-7c43517dbce5265df1bc802c",
      "msg_type": "comm_msg",
      "session": "eb056738-256996a58f7ebe5ce8b3e2f1",
      "username": "username",
      "version": "5.3"
     },
     "metadata": {},
     "msg_id": "8c3193ea-7c43517dbce5265df1bc802c",
     "msg_type": "comm_msg",
     "parent_header": {
      "date": "2019-11-18T07:43:29.319094Z",
      "msg_id": "adb22a0dc977437baef17c34adcec10b",
      "msg_type": "execute_request",
      "session": "85323d5fc25944758122f15376c7f33e",
      "username": "username",
      "version": "5.2"
     }
    }
   },
   "jupyter_react.53549336-fea4-4917-812d-dbe6ed623202.QCircuit": {
    "cellIdx": "3",
    "msg": {
     "buffers": [],
     "channel": "iopub",
     "content": {
      "comm_id": "jupyter_react.53549336-fea4-4917-812d-dbe6ed623202.QCircuit",
      "data": {
       "method": "display"
      }
     },
     "header": {
      "date": "2019-11-18T08:11:18.043280Z",
      "msg_id": "90320bca-50a470cdca9179947c22ac0b",
      "msg_type": "comm_msg",
      "session": "42216373-45acc2d5605accae285ae81c",
      "username": "username",
      "version": "5.3"
     },
     "metadata": {},
     "msg_id": "90320bca-50a470cdca9179947c22ac0b",
     "msg_type": "comm_msg",
     "parent_header": {
      "date": "2019-11-18T08:11:17.923200Z",
      "msg_id": "ecd0f38b91a249a9a08dc2bdaa0498e3",
      "msg_type": "execute_request",
      "session": "85323d5fc25944758122f15376c7f33e",
      "username": "username",
      "version": "5.2"
     }
    }
   },
   "jupyter_react.56f1e445-6dc5-44ea-83c4-4443b8f60ddb.QCircuit": {
    "cellIdx": "1",
    "msg": {
     "buffers": [],
     "channel": "iopub",
     "content": {
      "comm_id": "jupyter_react.56f1e445-6dc5-44ea-83c4-4443b8f60ddb.QCircuit",
      "data": {
       "method": "display"
      }
     },
     "header": {
      "date": "2019-11-18T07:28:30.712416Z",
      "msg_id": "0ef47e90-6e554a74c1709a92ad8553ad",
      "msg_type": "comm_msg",
      "session": "cccefa0c-093bc301e93f0f04fd9fb6de",
      "username": "username",
      "version": "5.3"
     },
     "metadata": {},
     "msg_id": "0ef47e90-6e554a74c1709a92ad8553ad",
     "msg_type": "comm_msg",
     "parent_header": {
      "date": "2019-11-18T07:28:29.676741Z",
      "msg_id": "608112bfe6db42349244a018d4891bb6",
      "msg_type": "execute_request",
      "session": "85323d5fc25944758122f15376c7f33e",
      "username": "username",
      "version": "5.2"
     }
    }
   },
   "jupyter_react.58754926-812b-4747-ab16-e0368425dd1a.QCircuit": {
    "cellIdx": "2",
    "msg": {
     "buffers": [],
     "channel": "iopub",
     "content": {
      "comm_id": "jupyter_react.58754926-812b-4747-ab16-e0368425dd1a.QCircuit",
      "data": {
       "method": "display"
      }
     },
     "header": {
      "date": "2019-11-18T08:30:12.213350Z",
      "msg_id": "555e9868-54c2602b853f854b5e32cb01",
      "msg_type": "comm_msg",
      "session": "0440fedc-272a458c978ae2a225442940",
      "username": "username",
      "version": "5.3"
     },
     "metadata": {},
     "msg_id": "555e9868-54c2602b853f854b5e32cb01",
     "msg_type": "comm_msg",
     "parent_header": {
      "date": "2019-11-18T08:30:11.210034Z",
      "msg_id": "dcc7e71c2fd54b10866484ece320b612",
      "msg_type": "execute_request",
      "session": "85323d5fc25944758122f15376c7f33e",
      "username": "username",
      "version": "5.2"
     }
    }
   },
   "jupyter_react.6200da76-699d-4f50-8016-1b355bd3a659.QCircuit": {
    "cellIdx": "3",
    "msg": {
     "buffers": [],
     "channel": "iopub",
     "content": {
      "comm_id": "jupyter_react.6200da76-699d-4f50-8016-1b355bd3a659.QCircuit",
      "data": {
       "method": "display"
      }
     },
     "header": {
      "date": "2019-11-18T07:25:55.102064Z",
      "msg_id": "df023f9a-a3aec66f9ec8cd8c46d98fcc",
      "msg_type": "comm_msg",
      "session": "8b6328ce-9ae9525dc3ec6eb90d7600f9",
      "username": "username",
      "version": "5.3"
     },
     "metadata": {},
     "msg_id": "df023f9a-a3aec66f9ec8cd8c46d98fcc",
     "msg_type": "comm_msg",
     "parent_header": {
      "date": "2019-11-18T07:25:54.080556Z",
      "msg_id": "2268f66f0e334ae38a1d1c25cc58bbc9",
      "msg_type": "execute_request",
      "session": "85323d5fc25944758122f15376c7f33e",
      "username": "username",
      "version": "5.2"
     }
    }
   },
   "jupyter_react.65225f63-02a6-4459-b8ca-e6f23f43ff38.QCircuit": {
    "cellIdx": "2",
    "msg": {
     "buffers": [],
     "channel": "iopub",
     "content": {
      "comm_id": "jupyter_react.65225f63-02a6-4459-b8ca-e6f23f43ff38.QCircuit",
      "data": {
       "method": "display"
      }
     },
     "header": {
      "date": "2019-11-18T06:55:31.374797Z",
      "msg_id": "f9b7e32f-c241da0ded1ba2c7a723cb35",
      "msg_type": "comm_msg",
      "session": "42a3e720-d2c8b90c03c5f03915bbd890",
      "username": "username",
      "version": "5.3"
     },
     "metadata": {},
     "msg_id": "f9b7e32f-c241da0ded1ba2c7a723cb35",
     "msg_type": "comm_msg",
     "parent_header": {
      "date": "2019-11-18T06:55:31.368847Z",
      "msg_id": "f1c6488f45684f868aa4a0d9516c4db3",
      "msg_type": "execute_request",
      "session": "85323d5fc25944758122f15376c7f33e",
      "username": "username",
      "version": "5.2"
     }
    }
   },
   "jupyter_react.6665dd93-79eb-4714-ae33-5e649aa8b6ec.QCircuit": {
    "cellIdx": "1",
    "msg": {
     "buffers": [],
     "channel": "iopub",
     "content": {
      "comm_id": "jupyter_react.6665dd93-79eb-4714-ae33-5e649aa8b6ec.QCircuit",
      "data": {
       "method": "display"
      }
     },
     "header": {
      "date": "2019-11-18T07:38:12.119632Z",
      "msg_id": "06ade958-3b24f1ffa95f95ecda3def33",
      "msg_type": "comm_msg",
      "session": "82489678-cb971a579d8c35499e486da3",
      "username": "username",
      "version": "5.3"
     },
     "metadata": {},
     "msg_id": "06ade958-3b24f1ffa95f95ecda3def33",
     "msg_type": "comm_msg",
     "parent_header": {
      "date": "2019-11-18T07:38:11.416851Z",
      "msg_id": "efb0a3e0955145fa907c1e5d2aed09f7",
      "msg_type": "execute_request",
      "session": "85323d5fc25944758122f15376c7f33e",
      "username": "username",
      "version": "5.2"
     }
    }
   },
   "jupyter_react.67674ab8-588f-4315-83d1-d06be967dcf1.QCircuit": {
    "cellIdx": "2",
    "msg": {
     "buffers": [],
     "channel": "iopub",
     "content": {
      "comm_id": "jupyter_react.67674ab8-588f-4315-83d1-d06be967dcf1.QCircuit",
      "data": {
       "method": "display"
      }
     },
     "header": {
      "date": "2019-11-18T08:07:41.162660Z",
      "msg_id": "ed573354-0efb277d5e82a97cfe0f0487",
      "msg_type": "comm_msg",
      "session": "e27c3d54-1d0e8b54213442d9fbe84d8d",
      "username": "username",
      "version": "5.3"
     },
     "metadata": {},
     "msg_id": "ed573354-0efb277d5e82a97cfe0f0487",
     "msg_type": "comm_msg",
     "parent_header": {
      "date": "2019-11-18T08:07:37.677514Z",
      "msg_id": "45dbc2e02f9a4521828f1380bc3bce13",
      "msg_type": "execute_request",
      "session": "85323d5fc25944758122f15376c7f33e",
      "username": "username",
      "version": "5.2"
     }
    }
   },
   "jupyter_react.6dc8e08d-fd11-4059-896d-a321940ec47b.QCircuit": {
    "cellIdx": "2",
    "msg": {
     "buffers": [],
     "channel": "iopub",
     "content": {
      "comm_id": "jupyter_react.6dc8e08d-fd11-4059-896d-a321940ec47b.QCircuit",
      "data": {
       "method": "display"
      }
     },
     "header": {
      "date": "2019-11-18T07:38:12.235230Z",
      "msg_id": "19ae82e4-ae906e6684d3a1a44207e787",
      "msg_type": "comm_msg",
      "session": "82489678-cb971a579d8c35499e486da3",
      "username": "username",
      "version": "5.3"
     },
     "metadata": {},
     "msg_id": "19ae82e4-ae906e6684d3a1a44207e787",
     "msg_type": "comm_msg",
     "parent_header": {
      "date": "2019-11-18T07:38:11.692104Z",
      "msg_id": "ccc50ad3617d497ea2f4278c2da48478",
      "msg_type": "execute_request",
      "session": "85323d5fc25944758122f15376c7f33e",
      "username": "username",
      "version": "5.2"
     }
    }
   },
   "jupyter_react.6de547b4-7391-422b-928e-b8eb3926969a.QCircuit": {
    "cellIdx": "1",
    "msg": {
     "buffers": [],
     "channel": "iopub",
     "content": {
      "comm_id": "jupyter_react.6de547b4-7391-422b-928e-b8eb3926969a.QCircuit",
      "data": {
       "method": "display"
      }
     },
     "header": {
      "date": "2019-11-15T13:00:14.668003Z",
      "msg_id": "66d2eb3a-e217e406e1a93af603c02012",
      "msg_type": "comm_msg",
      "session": "8e11b632-4d9b2b7438d05b2dd48affeb",
      "username": "username",
      "version": "5.3"
     },
     "metadata": {},
     "msg_id": "66d2eb3a-e217e406e1a93af603c02012",
     "msg_type": "comm_msg",
     "parent_header": {
      "date": "2019-11-15T13:00:14.622341Z",
      "msg_id": "17495aeca0b74688a2ae7932a372e2b4",
      "msg_type": "execute_request",
      "session": "aa8e6016bc724ba39a436ad9cfaa588c",
      "username": "username",
      "version": "5.2"
     }
    }
   },
   "jupyter_react.6e7c9621-96a5-4be4-af20-e45591bc2d01.QCircuit": {
    "cellIdx": "3",
    "msg": {
     "buffers": [],
     "channel": "iopub",
     "content": {
      "comm_id": "jupyter_react.6e7c9621-96a5-4be4-af20-e45591bc2d01.QCircuit",
      "data": {
       "method": "display"
      }
     },
     "header": {
      "date": "2019-11-18T07:38:12.328194Z",
      "msg_id": "1e0542cd-10c8ad3fa2c5d7826b4a3914",
      "msg_type": "comm_msg",
      "session": "82489678-cb971a579d8c35499e486da3",
      "username": "username",
      "version": "5.3"
     },
     "metadata": {},
     "msg_id": "1e0542cd-10c8ad3fa2c5d7826b4a3914",
     "msg_type": "comm_msg",
     "parent_header": {
      "date": "2019-11-18T07:38:12.212314Z",
      "msg_id": "fe9af686c67f49ba85332e9a52345fea",
      "msg_type": "execute_request",
      "session": "85323d5fc25944758122f15376c7f33e",
      "username": "username",
      "version": "5.2"
     }
    }
   },
   "jupyter_react.6f59bf6a-2ee0-4db8-87e3-26e64424201c.QCircuit": {
    "cellIdx": "3",
    "msg": {
     "buffers": [],
     "channel": "iopub",
     "content": {
      "comm_id": "jupyter_react.6f59bf6a-2ee0-4db8-87e3-26e64424201c.QCircuit",
      "data": {
       "method": "display"
      }
     },
     "header": {
      "date": "2019-11-18T07:20:21.611143Z",
      "msg_id": "00116355-6259bd0f9854aaa0be0089ea",
      "msg_type": "comm_msg",
      "session": "fd5c3ca8-82919b9d5bd891dab3bcf414",
      "username": "username",
      "version": "5.3"
     },
     "metadata": {},
     "msg_id": "00116355-6259bd0f9854aaa0be0089ea",
     "msg_type": "comm_msg",
     "parent_header": {
      "date": "2019-11-18T07:20:21.607128Z",
      "msg_id": "9b81bf4375b444be8e30a5f27a8ebe6d",
      "msg_type": "execute_request",
      "session": "85323d5fc25944758122f15376c7f33e",
      "username": "username",
      "version": "5.2"
     }
    }
   },
   "jupyter_react.7176c025-1808-46ab-9079-386274d29687.QCircuit": {
    "cellIdx": "1",
    "msg": {
     "buffers": [],
     "channel": "iopub",
     "content": {
      "comm_id": "jupyter_react.7176c025-1808-46ab-9079-386274d29687.QCircuit",
      "data": {
       "method": "display"
      }
     },
     "header": {
      "date": "2019-11-18T07:33:22.075854Z",
      "msg_id": "8170cba2-cefa7d7296f98255ef23787d",
      "msg_type": "comm_msg",
      "session": "03235a54-149333f6f9d9d4ee7139a74e",
      "username": "username",
      "version": "5.3"
     },
     "metadata": {},
     "msg_id": "8170cba2-cefa7d7296f98255ef23787d",
     "msg_type": "comm_msg",
     "parent_header": {
      "date": "2019-11-18T07:33:20.966776Z",
      "msg_id": "803084f134a6490386f902b6b94d2101",
      "msg_type": "execute_request",
      "session": "85323d5fc25944758122f15376c7f33e",
      "username": "username",
      "version": "5.2"
     }
    }
   },
   "jupyter_react.720c967a-1e0e-4a36-9edd-b1f2adb68670.QCircuit": {
    "cellIdx": "1",
    "msg": {
     "buffers": [],
     "channel": "iopub",
     "content": {
      "comm_id": "jupyter_react.720c967a-1e0e-4a36-9edd-b1f2adb68670.QCircuit",
      "data": {
       "method": "display"
      }
     },
     "header": {
      "date": "2019-11-15T13:01:02.057678Z",
      "msg_id": "99d29234-96065ac67c5aa6108ab4cd40",
      "msg_type": "comm_msg",
      "session": "8e11b632-4d9b2b7438d05b2dd48affeb",
      "username": "username",
      "version": "5.3"
     },
     "metadata": {},
     "msg_id": "99d29234-96065ac67c5aa6108ab4cd40",
     "msg_type": "comm_msg",
     "parent_header": {
      "date": "2019-11-15T13:01:02.053689Z",
      "msg_id": "94b5d95823e943dd84e7ea85328e42fb",
      "msg_type": "execute_request",
      "session": "aa8e6016bc724ba39a436ad9cfaa588c",
      "username": "username",
      "version": "5.2"
     }
    }
   },
   "jupyter_react.722e74e5-dfa4-4044-8919-57cc43ebb4fa.QCircuit": {
    "cellIdx": "3",
    "msg": {
     "buffers": [],
     "channel": "iopub",
     "content": {
      "comm_id": "jupyter_react.722e74e5-dfa4-4044-8919-57cc43ebb4fa.QCircuit",
      "data": {
       "method": "display"
      }
     },
     "header": {
      "date": "2019-11-18T07:26:51.141994Z",
      "msg_id": "45bc234f-9cd1108bc2af4c5822eeca5a",
      "msg_type": "comm_msg",
      "session": "82927ade-02f19bf4170d276a552313ed",
      "username": "username",
      "version": "5.3"
     },
     "metadata": {},
     "msg_id": "45bc234f-9cd1108bc2af4c5822eeca5a",
     "msg_type": "comm_msg",
     "parent_header": {
      "date": "2019-11-18T07:26:51.136009Z",
      "msg_id": "cf5cb8d1cbd14520b65e8f76c2f1d0ad",
      "msg_type": "execute_request",
      "session": "85323d5fc25944758122f15376c7f33e",
      "username": "username",
      "version": "5.2"
     }
    }
   },
   "jupyter_react.72432c5a-83e0-492c-b6c9-49c98ac94cdf.QCircuit": {
    "cellIdx": "1",
    "msg": {
     "buffers": [],
     "channel": "iopub",
     "content": {
      "comm_id": "jupyter_react.72432c5a-83e0-492c-b6c9-49c98ac94cdf.QCircuit",
      "data": {
       "method": "display"
      }
     },
     "header": {
      "date": "2019-11-18T07:49:44.504082Z",
      "msg_id": "3f4d6f57-6a3cc5fe2cb739f01c2716ca",
      "msg_type": "comm_msg",
      "session": "457159f4-fe146c3a7d3a1e4e0e6922a4",
      "username": "username",
      "version": "5.3"
     },
     "metadata": {},
     "msg_id": "3f4d6f57-6a3cc5fe2cb739f01c2716ca",
     "msg_type": "comm_msg",
     "parent_header": {
      "date": "2019-11-18T07:49:43.759774Z",
      "msg_id": "6acda5b744a44a5f85b5a71fd87ade7c",
      "msg_type": "execute_request",
      "session": "85323d5fc25944758122f15376c7f33e",
      "username": "username",
      "version": "5.2"
     }
    }
   },
   "jupyter_react.81ad00ce-2717-4578-bece-4b0c8205720d.QCircuit": {
    "cellIdx": "2",
    "msg": {
     "buffers": [],
     "channel": "iopub",
     "content": {
      "comm_id": "jupyter_react.81ad00ce-2717-4578-bece-4b0c8205720d.QCircuit",
      "data": {
       "method": "display"
      }
     },
     "header": {
      "date": "2019-11-18T08:11:17.937137Z",
      "msg_id": "b5951b10-77fa4ebc0d4381f36d5df5ec",
      "msg_type": "comm_msg",
      "session": "42216373-45acc2d5605accae285ae81c",
      "username": "username",
      "version": "5.3"
     },
     "metadata": {},
     "msg_id": "b5951b10-77fa4ebc0d4381f36d5df5ec",
     "msg_type": "comm_msg",
     "parent_header": {
      "date": "2019-11-18T08:11:17.423732Z",
      "msg_id": "90c2c8bf335e4aee8d404776d144cdad",
      "msg_type": "execute_request",
      "session": "85323d5fc25944758122f15376c7f33e",
      "username": "username",
      "version": "5.2"
     }
    }
   },
   "jupyter_react.86eae01e-8120-41c4-9d9b-e0973059971a.QCircuit": {
    "cellIdx": "1",
    "msg": {
     "buffers": [],
     "channel": "iopub",
     "content": {
      "comm_id": "jupyter_react.86eae01e-8120-41c4-9d9b-e0973059971a.QCircuit",
      "data": {
       "method": "display"
      }
     },
     "header": {
      "date": "2019-11-18T07:29:22.785501Z",
      "msg_id": "09d2fbaa-3f3648dce003ae435f3d7147",
      "msg_type": "comm_msg",
      "session": "b22a9852-1c8827a7eff15518df41fbe6",
      "username": "username",
      "version": "5.3"
     },
     "metadata": {},
     "msg_id": "09d2fbaa-3f3648dce003ae435f3d7147",
     "msg_type": "comm_msg",
     "parent_header": {
      "date": "2019-11-18T07:29:22.141163Z",
      "msg_id": "9c283ff1b2554c55bdf7a3d107ffcc57",
      "msg_type": "execute_request",
      "session": "85323d5fc25944758122f15376c7f33e",
      "username": "username",
      "version": "5.2"
     }
    }
   },
   "jupyter_react.88f59a4f-a179-4593-b1e0-94b73a21f443.QCircuit": {
    "cellIdx": "2",
    "msg": {
     "buffers": [],
     "channel": "iopub",
     "content": {
      "comm_id": "jupyter_react.88f59a4f-a179-4593-b1e0-94b73a21f443.QCircuit",
      "data": {
       "method": "display"
      }
     },
     "header": {
      "date": "2019-11-18T06:53:19.786586Z",
      "msg_id": "81c4e072-b73d3bdb6b72c4fcc2eadc29",
      "msg_type": "comm_msg",
      "session": "42a3e720-d2c8b90c03c5f03915bbd890",
      "username": "username",
      "version": "5.3"
     },
     "metadata": {},
     "msg_id": "81c4e072-b73d3bdb6b72c4fcc2eadc29",
     "msg_type": "comm_msg",
     "parent_header": {
      "date": "2019-11-18T06:53:19.782590Z",
      "msg_id": "99fffcc186424bec991a247df80815de",
      "msg_type": "execute_request",
      "session": "85323d5fc25944758122f15376c7f33e",
      "username": "username",
      "version": "5.2"
     }
    }
   },
   "jupyter_react.8c6331dc-230a-41fa-8288-bd9449a6155e.QCircuit": {
    "cellIdx": "1",
    "msg": {
     "buffers": [],
     "channel": "iopub",
     "content": {
      "comm_id": "jupyter_react.8c6331dc-230a-41fa-8288-bd9449a6155e.QCircuit",
      "data": {
       "method": "display"
      }
     },
     "header": {
      "date": "2019-11-18T07:45:07.465586Z",
      "msg_id": "d7e5f937-f298f67961b955605ca615cc",
      "msg_type": "comm_msg",
      "session": "eb587a9d-cbf4ae11457eee39a593f3c0",
      "username": "username",
      "version": "5.3"
     },
     "metadata": {},
     "msg_id": "d7e5f937-f298f67961b955605ca615cc",
     "msg_type": "comm_msg",
     "parent_header": {
      "date": "2019-11-18T07:45:06.727739Z",
      "msg_id": "cc19d00d28b342b6865eebd961ab1f80",
      "msg_type": "execute_request",
      "session": "85323d5fc25944758122f15376c7f33e",
      "username": "username",
      "version": "5.2"
     }
    }
   },
   "jupyter_react.8c90b82b-d163-4784-afc1-38a2bed090b1.QCircuit": {
    "cellIdx": "3",
    "msg": {
     "buffers": [],
     "channel": "iopub",
     "content": {
      "comm_id": "jupyter_react.8c90b82b-d163-4784-afc1-38a2bed090b1.QCircuit",
      "data": {
       "method": "display"
      }
     },
     "header": {
      "date": "2019-11-18T07:39:53.658246Z",
      "msg_id": "883bc1f2-7dfd73ab9bac03ee0f06fff8",
      "msg_type": "comm_msg",
      "session": "eb056738-256996a58f7ebe5ce8b3e2f1",
      "username": "username",
      "version": "5.3"
     },
     "metadata": {},
     "msg_id": "883bc1f2-7dfd73ab9bac03ee0f06fff8",
     "msg_type": "comm_msg",
     "parent_header": {
      "date": "2019-11-18T07:39:53.653256Z",
      "msg_id": "3a54601e613d4de1abf3730496c87a63",
      "msg_type": "execute_request",
      "session": "85323d5fc25944758122f15376c7f33e",
      "username": "username",
      "version": "5.2"
     }
    }
   },
   "jupyter_react.90bb4ebf-99de-4d0f-84ff-98810dc82231.QCircuit": {
    "cellIdx": "3",
    "msg": {
     "buffers": [],
     "channel": "iopub",
     "content": {
      "comm_id": "jupyter_react.90bb4ebf-99de-4d0f-84ff-98810dc82231.QCircuit",
      "data": {
       "method": "display"
      }
     },
     "header": {
      "date": "2019-11-18T06:58:34.914159Z",
      "msg_id": "0411c57b-ffef57a27d7ec897bf9c97f9",
      "msg_type": "comm_msg",
      "session": "3feff32d-1674645c196a44b6ca688942",
      "username": "username",
      "version": "5.3"
     },
     "metadata": {},
     "msg_id": "0411c57b-ffef57a27d7ec897bf9c97f9",
     "msg_type": "comm_msg",
     "parent_header": {
      "date": "2019-11-18T06:58:34.909197Z",
      "msg_id": "a55439043f0940b8a52c8dccd511c83c",
      "msg_type": "execute_request",
      "session": "85323d5fc25944758122f15376c7f33e",
      "username": "username",
      "version": "5.2"
     }
    }
   },
   "jupyter_react.9d1377b7-8084-4f79-9b9a-9760a469be4b.QCircuit": {
    "cellIdx": "3",
    "msg": {
     "buffers": [],
     "channel": "iopub",
     "content": {
      "comm_id": "jupyter_react.9d1377b7-8084-4f79-9b9a-9760a469be4b.QCircuit",
      "data": {
       "method": "display"
      }
     },
     "header": {
      "date": "2019-11-18T07:28:31.096861Z",
      "msg_id": "4ffe8b5d-ce4afc7444611588b5d721ba",
      "msg_type": "comm_msg",
      "session": "cccefa0c-093bc301e93f0f04fd9fb6de",
      "username": "username",
      "version": "5.3"
     },
     "metadata": {},
     "msg_id": "4ffe8b5d-ce4afc7444611588b5d721ba",
     "msg_type": "comm_msg",
     "parent_header": {
      "date": "2019-11-18T07:28:30.584729Z",
      "msg_id": "0d9cf17462d1440d8389ab9c8fccba16",
      "msg_type": "execute_request",
      "session": "85323d5fc25944758122f15376c7f33e",
      "username": "username",
      "version": "5.2"
     }
    }
   },
   "jupyter_react.9e175355-6cff-4d44-b4fe-ada345ed0301.QCircuit": {
    "cellIdx": "2",
    "msg": {
     "buffers": [],
     "channel": "iopub",
     "content": {
      "comm_id": "jupyter_react.9e175355-6cff-4d44-b4fe-ada345ed0301.QCircuit",
      "data": {
       "method": "display"
      }
     },
     "header": {
      "date": "2019-11-18T07:50:38.599106Z",
      "msg_id": "8bb9c6fc-a7e118d36d003ec6b755ab69",
      "msg_type": "comm_msg",
      "session": "173ac559-429d24eae02063a5bf337d07",
      "username": "username",
      "version": "5.3"
     },
     "metadata": {},
     "msg_id": "8bb9c6fc-a7e118d36d003ec6b755ab69",
     "msg_type": "comm_msg",
     "parent_header": {
      "date": "2019-11-18T07:50:38.032012Z",
      "msg_id": "87ddb8d2cffc4223975ab716d9368132",
      "msg_type": "execute_request",
      "session": "85323d5fc25944758122f15376c7f33e",
      "username": "username",
      "version": "5.2"
     }
    }
   },
   "jupyter_react.a2249d21-d919-4673-a775-81b5f043b11e.QCircuit": {
    "cellIdx": "2",
    "msg": {
     "buffers": [],
     "channel": "iopub",
     "content": {
      "comm_id": "jupyter_react.a2249d21-d919-4673-a775-81b5f043b11e.QCircuit",
      "data": {
       "method": "display"
      }
     },
     "header": {
      "date": "2019-11-18T08:12:13.099323Z",
      "msg_id": "ad232848-a4004686eba2335b6a504528",
      "msg_type": "comm_msg",
      "session": "33582566-cd62362473da598ecc0eb33b",
      "username": "username",
      "version": "5.3"
     },
     "metadata": {},
     "msg_id": "ad232848-a4004686eba2335b6a504528",
     "msg_type": "comm_msg",
     "parent_header": {
      "date": "2019-11-18T08:12:12.566896Z",
      "msg_id": "eeccf5c491264a728642ae296c25a674",
      "msg_type": "execute_request",
      "session": "85323d5fc25944758122f15376c7f33e",
      "username": "username",
      "version": "5.2"
     }
    }
   },
   "jupyter_react.a29a0438-8791-4e26-9e33-a9588ae3d7f3.QCircuit": {
    "cellIdx": "2",
    "msg": {
     "buffers": [],
     "channel": "iopub",
     "content": {
      "comm_id": "jupyter_react.a29a0438-8791-4e26-9e33-a9588ae3d7f3.QCircuit",
      "data": {
       "method": "display"
      }
     },
     "header": {
      "date": "2019-11-18T06:58:33.902169Z",
      "msg_id": "056c0837-643da25cadcf805f9de07323",
      "msg_type": "comm_msg",
      "session": "3feff32d-1674645c196a44b6ca688942",
      "username": "username",
      "version": "5.3"
     },
     "metadata": {},
     "msg_id": "056c0837-643da25cadcf805f9de07323",
     "msg_type": "comm_msg",
     "parent_header": {
      "date": "2019-11-18T06:58:33.899178Z",
      "msg_id": "d20b293aec45406598366b535df23017",
      "msg_type": "execute_request",
      "session": "85323d5fc25944758122f15376c7f33e",
      "username": "username",
      "version": "5.2"
     }
    }
   },
   "jupyter_react.a3c26aaf-6e1f-4fa8-9fba-5e4aab9ecaf1.QCircuit": {
    "cellIdx": "3",
    "msg": {
     "buffers": [],
     "channel": "iopub",
     "content": {
      "comm_id": "jupyter_react.a3c26aaf-6e1f-4fa8-9fba-5e4aab9ecaf1.QCircuit",
      "data": {
       "method": "display"
      }
     },
     "header": {
      "date": "2019-11-18T07:45:07.669175Z",
      "msg_id": "c4adcdc2-08f5ed0480e9dab42ae1c5f2",
      "msg_type": "comm_msg",
      "session": "eb587a9d-cbf4ae11457eee39a593f3c0",
      "username": "username",
      "version": "5.3"
     },
     "metadata": {},
     "msg_id": "c4adcdc2-08f5ed0480e9dab42ae1c5f2",
     "msg_type": "comm_msg",
     "parent_header": {
      "date": "2019-11-18T07:45:07.291539Z",
      "msg_id": "dd900b593a0c4c6a8122c36389d662e6",
      "msg_type": "execute_request",
      "session": "85323d5fc25944758122f15376c7f33e",
      "username": "username",
      "version": "5.2"
     }
    }
   },
   "jupyter_react.a527b59f-8706-4402-b846-f190482bb04f.QCircuit": {
    "cellIdx": "3",
    "msg": {
     "buffers": [],
     "channel": "iopub",
     "content": {
      "comm_id": "jupyter_react.a527b59f-8706-4402-b846-f190482bb04f.QCircuit",
      "data": {
       "method": "display"
      }
     },
     "header": {
      "date": "2019-11-18T08:30:12.313084Z",
      "msg_id": "d94550e6-9cae4a8c91e79753f0e5caf9",
      "msg_type": "comm_msg",
      "session": "0440fedc-272a458c978ae2a225442940",
      "username": "username",
      "version": "5.3"
     },
     "metadata": {},
     "msg_id": "d94550e6-9cae4a8c91e79753f0e5caf9",
     "msg_type": "comm_msg",
     "parent_header": {
      "date": "2019-11-18T08:30:11.741613Z",
      "msg_id": "5f86bb9b615f48708548df75feb940af",
      "msg_type": "execute_request",
      "session": "85323d5fc25944758122f15376c7f33e",
      "username": "username",
      "version": "5.2"
     }
    }
   },
   "jupyter_react.a675fcd2-0465-487e-a8e3-0c105ae368ca.QCircuit": {
    "cellIdx": "1",
    "msg": {
     "buffers": [],
     "channel": "iopub",
     "content": {
      "comm_id": "jupyter_react.a675fcd2-0465-487e-a8e3-0c105ae368ca.QCircuit",
      "data": {
       "method": "display"
      }
     },
     "header": {
      "date": "2019-11-18T08:07:41.058939Z",
      "msg_id": "3241667c-12bc4a1445456a5da54e0bae",
      "msg_type": "comm_msg",
      "session": "e27c3d54-1d0e8b54213442d9fbe84d8d",
      "username": "username",
      "version": "5.3"
     },
     "metadata": {},
     "msg_id": "3241667c-12bc4a1445456a5da54e0bae",
     "msg_type": "comm_msg",
     "parent_header": {
      "date": "2019-11-18T08:07:37.677514Z",
      "msg_id": "36f76ff1f2964591bfb2acecd7dd62c0",
      "msg_type": "execute_request",
      "session": "85323d5fc25944758122f15376c7f33e",
      "username": "username",
      "version": "5.2"
     }
    }
   },
   "jupyter_react.a6e95051-ab95-45f0-b607-e6067814cd4b.QCircuit": {
    "cellIdx": "1",
    "msg": {
     "buffers": [],
     "channel": "iopub",
     "content": {
      "comm_id": "jupyter_react.a6e95051-ab95-45f0-b607-e6067814cd4b.QCircuit",
      "data": {
       "method": "display"
      }
     },
     "header": {
      "date": "2019-11-18T08:09:44.860731Z",
      "msg_id": "ca3710a4-9bfb1b9e032c8a89241f6e72",
      "msg_type": "comm_msg",
      "session": "212524d0-8aea10df5dd90dfc4bafc8f2",
      "username": "username",
      "version": "5.3"
     },
     "metadata": {},
     "msg_id": "ca3710a4-9bfb1b9e032c8a89241f6e72",
     "msg_type": "comm_msg",
     "parent_header": {
      "date": "2019-11-18T08:09:44.855770Z",
      "msg_id": "0bf434af90d04a8a873b6fa46a07d25f",
      "msg_type": "execute_request",
      "session": "85323d5fc25944758122f15376c7f33e",
      "username": "username",
      "version": "5.2"
     }
    }
   },
   "jupyter_react.ab7443ba-9dc5-45c2-b05a-1291ad5b033f.QCircuit": {
    "cellIdx": "2",
    "msg": {
     "buffers": [],
     "channel": "iopub",
     "content": {
      "comm_id": "jupyter_react.ab7443ba-9dc5-45c2-b05a-1291ad5b033f.QCircuit",
      "data": {
       "method": "display"
      }
     },
     "header": {
      "date": "2019-11-18T07:49:44.744830Z",
      "msg_id": "d5bf12b4-c3d0f5de1d4eab0e10c25a0e",
      "msg_type": "comm_msg",
      "session": "457159f4-fe146c3a7d3a1e4e0e6922a4",
      "username": "username",
      "version": "5.3"
     },
     "metadata": {},
     "msg_id": "d5bf12b4-c3d0f5de1d4eab0e10c25a0e",
     "msg_type": "comm_msg",
     "parent_header": {
      "date": "2019-11-18T07:49:44.738902Z",
      "msg_id": "6fa61b7c0cf04180bae486c9fbf626e1",
      "msg_type": "execute_request",
      "session": "85323d5fc25944758122f15376c7f33e",
      "username": "username",
      "version": "5.2"
     }
    }
   },
   "jupyter_react.aeb6964f-24db-4b62-a66f-394fd2a1947f.QCircuit": {
    "cellIdx": "2",
    "msg": {
     "buffers": [],
     "channel": "iopub",
     "content": {
      "comm_id": "jupyter_react.aeb6964f-24db-4b62-a66f-394fd2a1947f.QCircuit",
      "data": {
       "method": "display"
      }
     },
     "header": {
      "date": "2019-11-18T08:07:50.920623Z",
      "msg_id": "ca38c933-c3e9a52e8d71bcfc67760ca9",
      "msg_type": "comm_msg",
      "session": "212524d0-8aea10df5dd90dfc4bafc8f2",
      "username": "username",
      "version": "5.3"
     },
     "metadata": {},
     "msg_id": "ca38c933-c3e9a52e8d71bcfc67760ca9",
     "msg_type": "comm_msg",
     "parent_header": {
      "date": "2019-11-18T08:07:50.103110Z",
      "msg_id": "770db35b197d477d8f106c91fbff06a6",
      "msg_type": "execute_request",
      "session": "85323d5fc25944758122f15376c7f33e",
      "username": "username",
      "version": "5.2"
     }
    }
   },
   "jupyter_react.af00dba3-0f42-4657-a79c-359f3b2435ec.QCircuit": {
    "cellIdx": "3",
    "msg": {
     "buffers": [],
     "channel": "iopub",
     "content": {
      "comm_id": "jupyter_react.af00dba3-0f42-4657-a79c-359f3b2435ec.QCircuit",
      "data": {
       "method": "display"
      }
     },
     "header": {
      "date": "2019-11-18T07:48:24.779575Z",
      "msg_id": "3f93a66a-2b42e17a754a9470d76b11df",
      "msg_type": "comm_msg",
      "session": "88c837d0-45687303c3a81a319c33d39b",
      "username": "username",
      "version": "5.3"
     },
     "metadata": {},
     "msg_id": "3f93a66a-2b42e17a754a9470d76b11df",
     "msg_type": "comm_msg",
     "parent_header": {
      "date": "2019-11-18T07:48:24.775587Z",
      "msg_id": "c9be13f5a7ad48148e626bc2aff77303",
      "msg_type": "execute_request",
      "session": "85323d5fc25944758122f15376c7f33e",
      "username": "username",
      "version": "5.2"
     }
    }
   },
   "jupyter_react.af8022cc-c257-4787-8d68-97d3c1e48613.QCircuit": {
    "cellIdx": "2",
    "msg": {
     "buffers": [],
     "channel": "iopub",
     "content": {
      "comm_id": "jupyter_react.af8022cc-c257-4787-8d68-97d3c1e48613.QCircuit",
      "data": {
       "method": "display"
      }
     },
     "header": {
      "date": "2019-11-18T07:32:22.307002Z",
      "msg_id": "b2055ac1-4b97b7767eee071c9e895161",
      "msg_type": "comm_msg",
      "session": "689f2e07-77741a3ec3493d4e26830c70",
      "username": "username",
      "version": "5.3"
     },
     "metadata": {},
     "msg_id": "b2055ac1-4b97b7767eee071c9e895161",
     "msg_type": "comm_msg",
     "parent_header": {
      "date": "2019-11-18T07:32:21.108276Z",
      "msg_id": "024090929d4d4e6787104c60032bebcc",
      "msg_type": "execute_request",
      "session": "85323d5fc25944758122f15376c7f33e",
      "username": "username",
      "version": "5.2"
     }
    }
   },
   "jupyter_react.b12f5a14-12be-4dd5-8212-30c12f347f5a.QCircuit": {
    "cellIdx": "3",
    "msg": {
     "buffers": [],
     "channel": "iopub",
     "content": {
      "comm_id": "jupyter_react.b12f5a14-12be-4dd5-8212-30c12f347f5a.QCircuit",
      "data": {
       "method": "display"
      }
     },
     "header": {
      "date": "2019-11-18T08:07:51.029736Z",
      "msg_id": "8824dd1f-c6e5f37f4aba2573619488e1",
      "msg_type": "comm_msg",
      "session": "212524d0-8aea10df5dd90dfc4bafc8f2",
      "username": "username",
      "version": "5.3"
     },
     "metadata": {},
     "msg_id": "8824dd1f-c6e5f37f4aba2573619488e1",
     "msg_type": "comm_msg",
     "parent_header": {
      "date": "2019-11-18T08:07:50.758779Z",
      "msg_id": "44a62eccb7154cd99309cdfefc220970",
      "msg_type": "execute_request",
      "session": "85323d5fc25944758122f15376c7f33e",
      "username": "username",
      "version": "5.2"
     }
    }
   },
   "jupyter_react.b18db54a-3186-4395-8337-0a134153010c.QCircuit": {
    "cellIdx": "2",
    "msg": {
     "buffers": [],
     "channel": "iopub",
     "content": {
      "comm_id": "jupyter_react.b18db54a-3186-4395-8337-0a134153010c.QCircuit",
      "data": {
       "method": "display"
      }
     },
     "header": {
      "date": "2019-11-18T07:25:54.953075Z",
      "msg_id": "d5c5a996-cdca241ddd37ff0f8a3d46a2",
      "msg_type": "comm_msg",
      "session": "8b6328ce-9ae9525dc3ec6eb90d7600f9",
      "username": "username",
      "version": "5.3"
     },
     "metadata": {},
     "msg_id": "d5c5a996-cdca241ddd37ff0f8a3d46a2",
     "msg_type": "comm_msg",
     "parent_header": {
      "date": "2019-11-18T07:25:53.736495Z",
      "msg_id": "21553190ea1940079ef998bc0013e41e",
      "msg_type": "execute_request",
      "session": "85323d5fc25944758122f15376c7f33e",
      "username": "username",
      "version": "5.2"
     }
    }
   },
   "jupyter_react.b20b43e2-0602-482f-891c-161305ec306a.QCircuit": {
    "cellIdx": "3",
    "msg": {
     "buffers": [],
     "channel": "iopub",
     "content": {
      "comm_id": "jupyter_react.b20b43e2-0602-482f-891c-161305ec306a.QCircuit",
      "data": {
       "method": "display"
      }
     },
     "header": {
      "date": "2019-11-18T07:08:05.984444Z",
      "msg_id": "b3e09390-1840648c3327bafc289d76ce",
      "msg_type": "comm_msg",
      "session": "fd5c3ca8-82919b9d5bd891dab3bcf414",
      "username": "username",
      "version": "5.3"
     },
     "metadata": {},
     "msg_id": "b3e09390-1840648c3327bafc289d76ce",
     "msg_type": "comm_msg",
     "parent_header": {
      "date": "2019-11-18T07:08:05.981451Z",
      "msg_id": "4de269f3c9c145f086f6c1ab4218035c",
      "msg_type": "execute_request",
      "session": "85323d5fc25944758122f15376c7f33e",
      "username": "username",
      "version": "5.2"
     }
    }
   },
   "jupyter_react.b595f909-2d10-4594-a234-7bf7bf1d766c.QCircuit": {
    "cellIdx": "2",
    "msg": {
     "buffers": [],
     "channel": "iopub",
     "content": {
      "comm_id": "jupyter_react.b595f909-2d10-4594-a234-7bf7bf1d766c.QCircuit",
      "data": {
       "method": "display"
      }
     },
     "header": {
      "date": "2019-11-18T07:35:35.892759Z",
      "msg_id": "7aeea5ae-c13bc9c389fc3453cacb3985",
      "msg_type": "comm_msg",
      "session": "0169345b-1f6bbef6009edffccbe27fe6",
      "username": "username",
      "version": "5.3"
     },
     "metadata": {},
     "msg_id": "7aeea5ae-c13bc9c389fc3453cacb3985",
     "msg_type": "comm_msg",
     "parent_header": {
      "date": "2019-11-18T07:35:35.204134Z",
      "msg_id": "1438ef06ebc3456e8086344a405edd0f",
      "msg_type": "execute_request",
      "session": "85323d5fc25944758122f15376c7f33e",
      "username": "username",
      "version": "5.2"
     }
    }
   },
   "jupyter_react.ba6b30b3-125d-4e85-aa25-6bc5bc04ebab.QCircuit": {
    "cellIdx": "2",
    "msg": {
     "buffers": [],
     "channel": "iopub",
     "content": {
      "comm_id": "jupyter_react.ba6b30b3-125d-4e85-aa25-6bc5bc04ebab.QCircuit",
      "data": {
       "method": "display"
      }
     },
     "header": {
      "date": "2019-11-18T07:08:05.557082Z",
      "msg_id": "4ed7272a-0d5b3f5ac6404a4c0944e759",
      "msg_type": "comm_msg",
      "session": "fd5c3ca8-82919b9d5bd891dab3bcf414",
      "username": "username",
      "version": "5.3"
     },
     "metadata": {},
     "msg_id": "4ed7272a-0d5b3f5ac6404a4c0944e759",
     "msg_type": "comm_msg",
     "parent_header": {
      "date": "2019-11-18T07:08:05.554064Z",
      "msg_id": "d30a2a91a21a47e5bb483af320c63ac5",
      "msg_type": "execute_request",
      "session": "85323d5fc25944758122f15376c7f33e",
      "username": "username",
      "version": "5.2"
     }
    }
   },
   "jupyter_react.bb47b7ef-2d66-4a89-980d-9905b970a742.QCircuit": {
    "cellIdx": "3",
    "msg": {
     "buffers": [],
     "channel": "iopub",
     "content": {
      "comm_id": "jupyter_react.bb47b7ef-2d66-4a89-980d-9905b970a742.QCircuit",
      "data": {
       "method": "display"
      }
     },
     "header": {
      "date": "2019-11-18T07:36:37.411030Z",
      "msg_id": "6bd2ffb6-62ba36f537a8e3469bd1c980",
      "msg_type": "comm_msg",
      "session": "1e9941f3-bb8c54db83e14c4786dabd14",
      "username": "username",
      "version": "5.3"
     },
     "metadata": {},
     "msg_id": "6bd2ffb6-62ba36f537a8e3469bd1c980",
     "msg_type": "comm_msg",
     "parent_header": {
      "date": "2019-11-18T07:36:37.141855Z",
      "msg_id": "66bd0d6aa52d4fd8805b5c8640ee077c",
      "msg_type": "execute_request",
      "session": "85323d5fc25944758122f15376c7f33e",
      "username": "username",
      "version": "5.2"
     }
    }
   },
   "jupyter_react.bceaa0e3-7e95-48f6-9826-cdabf70ca7a9.QCircuit": {
    "cellIdx": "3",
    "msg": {
     "buffers": [],
     "channel": "iopub",
     "content": {
      "comm_id": "jupyter_react.bceaa0e3-7e95-48f6-9826-cdabf70ca7a9.QCircuit",
      "data": {
       "method": "display"
      }
     },
     "header": {
      "date": "2019-11-18T07:35:35.983524Z",
      "msg_id": "9193d5b8-e97e7991ff2a9b4bbe53b1bd",
      "msg_type": "comm_msg",
      "session": "0169345b-1f6bbef6009edffccbe27fe6",
      "username": "username",
      "version": "5.3"
     },
     "metadata": {},
     "msg_id": "9193d5b8-e97e7991ff2a9b4bbe53b1bd",
     "msg_type": "comm_msg",
     "parent_header": {
      "date": "2019-11-18T07:35:35.692827Z",
      "msg_id": "ce1fe81331134448beb3afa5491c0895",
      "msg_type": "execute_request",
      "session": "85323d5fc25944758122f15376c7f33e",
      "username": "username",
      "version": "5.2"
     }
    }
   },
   "jupyter_react.be5577b0-5228-498c-99d1-830d5e0471b2.QCircuit": {
    "cellIdx": "5",
    "msg": {
     "buffers": [],
     "channel": "iopub",
     "content": {
      "comm_id": "jupyter_react.be5577b0-5228-498c-99d1-830d5e0471b2.QCircuit",
      "data": {
       "method": "display"
      }
     },
     "header": {
      "date": "2019-11-18T07:50:41.904187Z",
      "msg_id": "c7cf5d40-3081570ae02ccb94abcbb70c",
      "msg_type": "comm_msg",
      "session": "173ac559-429d24eae02063a5bf337d07",
      "username": "username",
      "version": "5.3"
     },
     "metadata": {},
     "msg_id": "c7cf5d40-3081570ae02ccb94abcbb70c",
     "msg_type": "comm_msg",
     "parent_header": {
      "date": "2019-11-18T07:50:41.899223Z",
      "msg_id": "4901a54b7a07445d8236cf9c034ed806",
      "msg_type": "execute_request",
      "session": "85323d5fc25944758122f15376c7f33e",
      "username": "username",
      "version": "5.2"
     }
    }
   },
   "jupyter_react.be8c516a-4035-4382-9e02-d4c224c6d6a5.QCircuit": {
    "cellIdx": "1",
    "msg": {
     "buffers": [],
     "channel": "iopub",
     "content": {
      "comm_id": "jupyter_react.be8c516a-4035-4382-9e02-d4c224c6d6a5.QCircuit",
      "data": {
       "method": "display"
      }
     },
     "header": {
      "date": "2019-11-15T13:00:46.325700Z",
      "msg_id": "7c0efa0e-2983a95b19671db7078d8d28",
      "msg_type": "comm_msg",
      "session": "8e11b632-4d9b2b7438d05b2dd48affeb",
      "username": "username",
      "version": "5.3"
     },
     "metadata": {},
     "msg_id": "7c0efa0e-2983a95b19671db7078d8d28",
     "msg_type": "comm_msg",
     "parent_header": {
      "date": "2019-11-15T13:00:46.320712Z",
      "msg_id": "a48c5095cf7c4530a3367805c5b55936",
      "msg_type": "execute_request",
      "session": "aa8e6016bc724ba39a436ad9cfaa588c",
      "username": "username",
      "version": "5.2"
     }
    }
   },
   "jupyter_react.bf078690-542c-45ad-a917-543bf9976a62.QCircuit": {
    "cellIdx": "1",
    "msg": {
     "buffers": [],
     "channel": "iopub",
     "content": {
      "comm_id": "jupyter_react.bf078690-542c-45ad-a917-543bf9976a62.QCircuit",
      "data": {
       "method": "display"
      }
     },
     "header": {
      "date": "2019-11-18T08:11:17.836626Z",
      "msg_id": "934c3417-d7551174de696d9280d081ac",
      "msg_type": "comm_msg",
      "session": "42216373-45acc2d5605accae285ae81c",
      "username": "username",
      "version": "5.3"
     },
     "metadata": {},
     "msg_id": "934c3417-d7551174de696d9280d081ac",
     "msg_type": "comm_msg",
     "parent_header": {
      "date": "2019-11-18T08:11:17.039718Z",
      "msg_id": "be375212f21c49cf8da6b4b0d9feb45f",
      "msg_type": "execute_request",
      "session": "85323d5fc25944758122f15376c7f33e",
      "username": "username",
      "version": "5.2"
     }
    }
   },
   "jupyter_react.c3241829-8885-4870-99d1-35c272fca6e2.QCircuit": {
    "cellIdx": "3",
    "msg": {
     "buffers": [],
     "channel": "iopub",
     "content": {
      "comm_id": "jupyter_react.c3241829-8885-4870-99d1-35c272fca6e2.QCircuit",
      "data": {
       "method": "display"
      }
     },
     "header": {
      "date": "2019-11-18T07:29:23.906848Z",
      "msg_id": "7c36eb78-f4a2b9b8684754db4e3522f8",
      "msg_type": "comm_msg",
      "session": "b22a9852-1c8827a7eff15518df41fbe6",
      "username": "username",
      "version": "5.3"
     },
     "metadata": {},
     "msg_id": "7c36eb78-f4a2b9b8684754db4e3522f8",
     "msg_type": "comm_msg",
     "parent_header": {
      "date": "2019-11-18T07:29:23.901849Z",
      "msg_id": "30a73d071f37453299f2ff3c317225f0",
      "msg_type": "execute_request",
      "session": "85323d5fc25944758122f15376c7f33e",
      "username": "username",
      "version": "5.2"
     }
    }
   },
   "jupyter_react.c5e9e47d-7bb8-480e-946d-922977282069.QCircuit": {
    "cellIdx": "2",
    "msg": {
     "buffers": [],
     "channel": "iopub",
     "content": {
      "comm_id": "jupyter_react.c5e9e47d-7bb8-480e-946d-922977282069.QCircuit",
      "data": {
       "method": "display"
      }
     },
     "header": {
      "date": "2019-11-18T07:28:30.906733Z",
      "msg_id": "ce060f73-16e818cd720560ade05e1ab3",
      "msg_type": "comm_msg",
      "session": "cccefa0c-093bc301e93f0f04fd9fb6de",
      "username": "username",
      "version": "5.3"
     },
     "metadata": {},
     "msg_id": "ce060f73-16e818cd720560ade05e1ab3",
     "msg_type": "comm_msg",
     "parent_header": {
      "date": "2019-11-18T07:28:30.125955Z",
      "msg_id": "a402446bdc9740bc885f23f2282c5226",
      "msg_type": "execute_request",
      "session": "85323d5fc25944758122f15376c7f33e",
      "username": "username",
      "version": "5.2"
     }
    }
   },
   "jupyter_react.c933a804-849a-4ca8-a14e-db909eeefbe0.QCircuit": {
    "cellIdx": "2",
    "msg": {
     "buffers": [],
     "channel": "iopub",
     "content": {
      "comm_id": "jupyter_react.c933a804-849a-4ca8-a14e-db909eeefbe0.QCircuit",
      "data": {
       "method": "display"
      }
     },
     "header": {
      "date": "2019-11-18T07:34:22.176540Z",
      "msg_id": "008ed49f-82d4d7414e6c2ae631cc7ebf",
      "msg_type": "comm_msg",
      "session": "ac9789f3-bca8618267f86da5c95997a6",
      "username": "username",
      "version": "5.3"
     },
     "metadata": {},
     "msg_id": "008ed49f-82d4d7414e6c2ae631cc7ebf",
     "msg_type": "comm_msg",
     "parent_header": {
      "date": "2019-11-18T07:34:21.689316Z",
      "msg_id": "262823d8107c45c98f41ce27950cb366",
      "msg_type": "execute_request",
      "session": "85323d5fc25944758122f15376c7f33e",
      "username": "username",
      "version": "5.2"
     }
    }
   },
   "jupyter_react.cb18e74c-ee44-4ec6-8fc2-c63e3754f4d2.QCircuit": {
    "cellIdx": "1",
    "msg": {
     "buffers": [],
     "channel": "iopub",
     "content": {
      "comm_id": "jupyter_react.cb18e74c-ee44-4ec6-8fc2-c63e3754f4d2.QCircuit",
      "data": {
       "method": "display"
      }
     },
     "header": {
      "date": "2019-11-15T13:00:23.806679Z",
      "msg_id": "14fa4fef-b50bb5e55306378312b51a78",
      "msg_type": "comm_msg",
      "session": "8e11b632-4d9b2b7438d05b2dd48affeb",
      "username": "username",
      "version": "5.3"
     },
     "metadata": {},
     "msg_id": "14fa4fef-b50bb5e55306378312b51a78",
     "msg_type": "comm_msg",
     "parent_header": {
      "date": "2019-11-15T13:00:23.800696Z",
      "msg_id": "91447925ba4145328526e2042022348e",
      "msg_type": "execute_request",
      "session": "aa8e6016bc724ba39a436ad9cfaa588c",
      "username": "username",
      "version": "5.2"
     }
    }
   },
   "jupyter_react.cd19eafa-0d94-46d9-b04e-bef0d80b3b93.QCircuit": {
    "cellIdx": "1",
    "msg": {
     "buffers": [],
     "channel": "iopub",
     "content": {
      "comm_id": "jupyter_react.cd19eafa-0d94-46d9-b04e-bef0d80b3b93.QCircuit",
      "data": {
       "method": "display"
      }
     },
     "header": {
      "date": "2019-11-18T06:58:33.398234Z",
      "msg_id": "61f9c44f-6e175cc6a17e0d5b07a36682",
      "msg_type": "comm_msg",
      "session": "3feff32d-1674645c196a44b6ca688942",
      "username": "username",
      "version": "5.3"
     },
     "metadata": {},
     "msg_id": "61f9c44f-6e175cc6a17e0d5b07a36682",
     "msg_type": "comm_msg",
     "parent_header": {
      "date": "2019-11-18T06:58:33.391283Z",
      "msg_id": "0d3e7b51dfc24136a8e2647e6434621e",
      "msg_type": "execute_request",
      "session": "85323d5fc25944758122f15376c7f33e",
      "username": "username",
      "version": "5.2"
     }
    }
   },
   "jupyter_react.cf2fdb68-57a8-40c9-a01e-b5e67698efee.QCircuit": {
    "cellIdx": "3",
    "msg": {
     "buffers": [],
     "channel": "iopub",
     "content": {
      "comm_id": "jupyter_react.cf2fdb68-57a8-40c9-a01e-b5e67698efee.QCircuit",
      "data": {
       "method": "display"
      }
     },
     "header": {
      "date": "2019-11-18T07:22:53.748237Z",
      "msg_id": "8d717dfb-2c52a8da16e0a14298898bda",
      "msg_type": "comm_msg",
      "session": "fd5c3ca8-82919b9d5bd891dab3bcf414",
      "username": "username",
      "version": "5.3"
     },
     "metadata": {},
     "msg_id": "8d717dfb-2c52a8da16e0a14298898bda",
     "msg_type": "comm_msg",
     "parent_header": {
      "date": "2019-11-18T07:22:53.744249Z",
      "msg_id": "310b3a8d382044638a33d1dab8ae6b20",
      "msg_type": "execute_request",
      "session": "85323d5fc25944758122f15376c7f33e",
      "username": "username",
      "version": "5.2"
     }
    }
   },
   "jupyter_react.d24e595f-59fd-4496-8206-8adcdf07da2e.QCircuit": {
    "cellIdx": "2",
    "msg": {
     "buffers": [],
     "channel": "iopub",
     "content": {
      "comm_id": "jupyter_react.d24e595f-59fd-4496-8206-8adcdf07da2e.QCircuit",
      "data": {
       "method": "display"
      }
     },
     "header": {
      "date": "2019-11-18T07:26:49.859825Z",
      "msg_id": "81d5d21a-45dbb48a94bc903e818b0214",
      "msg_type": "comm_msg",
      "session": "82927ade-02f19bf4170d276a552313ed",
      "username": "username",
      "version": "5.3"
     },
     "metadata": {},
     "msg_id": "81d5d21a-45dbb48a94bc903e818b0214",
     "msg_type": "comm_msg",
     "parent_header": {
      "date": "2019-11-18T07:26:49.831950Z",
      "msg_id": "c2eb6780ba274c0e837c1b0b05ec5167",
      "msg_type": "execute_request",
      "session": "85323d5fc25944758122f15376c7f33e",
      "username": "username",
      "version": "5.2"
     }
    }
   },
   "jupyter_react.d4c4c55b-dfa0-499b-b255-5ca894455c76.QCircuit": {
    "cellIdx": "1",
    "msg": {
     "buffers": [],
     "channel": "iopub",
     "content": {
      "comm_id": "jupyter_react.d4c4c55b-dfa0-499b-b255-5ca894455c76.QCircuit",
      "data": {
       "method": "display"
      }
     },
     "header": {
      "date": "2019-11-18T08:10:29.056739Z",
      "msg_id": "fbc18141-875761f58a9aac756f933f71",
      "msg_type": "comm_msg",
      "session": "30fc179a-d43aaa7586197e413a1431a8",
      "username": "username",
      "version": "5.3"
     },
     "metadata": {},
     "msg_id": "fbc18141-875761f58a9aac756f933f71",
     "msg_type": "comm_msg",
     "parent_header": {
      "date": "2019-11-18T08:10:28.571149Z",
      "msg_id": "ac3d5c02191546d383b103cd46a61ee9",
      "msg_type": "execute_request",
      "session": "85323d5fc25944758122f15376c7f33e",
      "username": "username",
      "version": "5.2"
     }
    }
   },
   "jupyter_react.d50e8b69-7eb5-49b6-9ab8-6c7539536f23.QCircuit": {
    "cellIdx": "5",
    "msg": {
     "buffers": [],
     "channel": "iopub",
     "content": {
      "comm_id": "jupyter_react.d50e8b69-7eb5-49b6-9ab8-6c7539536f23.QCircuit",
      "data": {
       "method": "display"
      }
     },
     "header": {
      "date": "2019-11-18T07:49:51.788319Z",
      "msg_id": "853602e4-e1778e7b7873d9992b1b9fd9",
      "msg_type": "comm_msg",
      "session": "457159f4-fe146c3a7d3a1e4e0e6922a4",
      "username": "username",
      "version": "5.3"
     },
     "metadata": {},
     "msg_id": "853602e4-e1778e7b7873d9992b1b9fd9",
     "msg_type": "comm_msg",
     "parent_header": {
      "date": "2019-11-18T07:49:51.783336Z",
      "msg_id": "55d04de9105b44568ae832b8a9f7cac4",
      "msg_type": "execute_request",
      "session": "85323d5fc25944758122f15376c7f33e",
      "username": "username",
      "version": "5.2"
     }
    }
   },
   "jupyter_react.dcb2362a-4002-45f2-b154-26168d392828.QCircuit": {
    "cellIdx": "2",
    "msg": {
     "buffers": [],
     "channel": "iopub",
     "content": {
      "comm_id": "jupyter_react.dcb2362a-4002-45f2-b154-26168d392828.QCircuit",
      "data": {
       "method": "display"
      }
     },
     "header": {
      "date": "2019-11-18T08:10:29.618200Z",
      "msg_id": "bf3e654a-eb2d0a2320f65d0cde27ffbc",
      "msg_type": "comm_msg",
      "session": "30fc179a-d43aaa7586197e413a1431a8",
      "username": "username",
      "version": "5.3"
     },
     "metadata": {},
     "msg_id": "bf3e654a-eb2d0a2320f65d0cde27ffbc",
     "msg_type": "comm_msg",
     "parent_header": {
      "date": "2019-11-18T08:10:29.614242Z",
      "msg_id": "1dfec4768ea84bf583d719412575b5c6",
      "msg_type": "execute_request",
      "session": "85323d5fc25944758122f15376c7f33e",
      "username": "username",
      "version": "5.2"
     }
    }
   },
   "jupyter_react.ddd6d315-6f83-4683-acd6-2084bb812573.QCircuit": {
    "cellIdx": "5",
    "msg": {
     "buffers": [],
     "channel": "iopub",
     "content": {
      "comm_id": "jupyter_react.ddd6d315-6f83-4683-acd6-2084bb812573.QCircuit",
      "data": {
       "method": "display"
      }
     },
     "header": {
      "date": "2019-11-18T08:08:24.895697Z",
      "msg_id": "ee86a0a8-f8d0224730f2e058b7465572",
      "msg_type": "comm_msg",
      "session": "212524d0-8aea10df5dd90dfc4bafc8f2",
      "username": "username",
      "version": "5.3"
     },
     "metadata": {},
     "msg_id": "ee86a0a8-f8d0224730f2e058b7465572",
     "msg_type": "comm_msg",
     "parent_header": {
      "date": "2019-11-18T08:08:24.891739Z",
      "msg_id": "311da7511bcf4338a73e75127f4726e1",
      "msg_type": "execute_request",
      "session": "85323d5fc25944758122f15376c7f33e",
      "username": "username",
      "version": "5.2"
     }
    }
   },
   "jupyter_react.df7f2656-e903-451a-9061-4f1ce8f09921.QCircuit": {
    "cellIdx": "1",
    "msg": {
     "buffers": [],
     "channel": "iopub",
     "content": {
      "comm_id": "jupyter_react.df7f2656-e903-451a-9061-4f1ce8f09921.QCircuit",
      "data": {
       "method": "display"
      }
     },
     "header": {
      "date": "2019-11-18T07:50:38.436118Z",
      "msg_id": "3ec1a0de-1158d3d16ac3198fe3453ec4",
      "msg_type": "comm_msg",
      "session": "173ac559-429d24eae02063a5bf337d07",
      "username": "username",
      "version": "5.3"
     },
     "metadata": {},
     "msg_id": "3ec1a0de-1158d3d16ac3198fe3453ec4",
     "msg_type": "comm_msg",
     "parent_header": {
      "date": "2019-11-18T07:50:37.627916Z",
      "msg_id": "04cf2bd2407e48799999743fc07e03dc",
      "msg_type": "execute_request",
      "session": "85323d5fc25944758122f15376c7f33e",
      "username": "username",
      "version": "5.2"
     }
    }
   },
   "jupyter_react.e0306b56-a23f-48f9-86b1-e602a828c27d.QCircuit": {
    "cellIdx": "3",
    "msg": {
     "buffers": [],
     "channel": "iopub",
     "content": {
      "comm_id": "jupyter_react.e0306b56-a23f-48f9-86b1-e602a828c27d.QCircuit",
      "data": {
       "method": "display"
      }
     },
     "header": {
      "date": "2019-11-18T07:38:41.857970Z",
      "msg_id": "12838ffb-cc834582f997c9bc27552338",
      "msg_type": "comm_msg",
      "session": "eb056738-256996a58f7ebe5ce8b3e2f1",
      "username": "username",
      "version": "5.3"
     },
     "metadata": {},
     "msg_id": "12838ffb-cc834582f997c9bc27552338",
     "msg_type": "comm_msg",
     "parent_header": {
      "date": "2019-11-18T07:38:41.503907Z",
      "msg_id": "c6695ac340dc4aa390a1ef5737f23cd2",
      "msg_type": "execute_request",
      "session": "85323d5fc25944758122f15376c7f33e",
      "username": "username",
      "version": "5.2"
     }
    }
   },
   "jupyter_react.ec4beaea-7139-465e-ac34-f486af0171a2.QCircuit": {
    "cellIdx": "1",
    "msg": {
     "buffers": [],
     "channel": "iopub",
     "content": {
      "comm_id": "jupyter_react.ec4beaea-7139-465e-ac34-f486af0171a2.QCircuit",
      "data": {
       "method": "display"
      }
     },
     "header": {
      "date": "2019-11-18T08:12:31.770698Z",
      "msg_id": "5b4a8e98-88e424a0de82faadd3c2da4c",
      "msg_type": "comm_msg",
      "session": "33582566-cd62362473da598ecc0eb33b",
      "username": "username",
      "version": "5.3"
     },
     "metadata": {},
     "msg_id": "5b4a8e98-88e424a0de82faadd3c2da4c",
     "msg_type": "comm_msg",
     "parent_header": {
      "date": "2019-11-18T08:12:31.766682Z",
      "msg_id": "e2bd3cf2e869434aad8c40160d6f7333",
      "msg_type": "execute_request",
      "session": "85323d5fc25944758122f15376c7f33e",
      "username": "username",
      "version": "5.2"
     }
    }
   },
   "jupyter_react.eca9e9d4-9e21-474a-aa27-2e266e0eb042.QCircuit": {
    "cellIdx": "1",
    "msg": {
     "buffers": [],
     "channel": "iopub",
     "content": {
      "comm_id": "jupyter_react.eca9e9d4-9e21-474a-aa27-2e266e0eb042.QCircuit",
      "data": {
       "method": "display"
      }
     },
     "header": {
      "date": "2019-11-18T07:48:23.879619Z",
      "msg_id": "9391a494-56984a3a6a31c73ae0dc32c9",
      "msg_type": "comm_msg",
      "session": "88c837d0-45687303c3a81a319c33d39b",
      "username": "username",
      "version": "5.3"
     },
     "metadata": {},
     "msg_id": "9391a494-56984a3a6a31c73ae0dc32c9",
     "msg_type": "comm_msg",
     "parent_header": {
      "date": "2019-11-18T07:48:23.871635Z",
      "msg_id": "48cd18ec1b5840ed842a2c049b124ef7",
      "msg_type": "execute_request",
      "session": "85323d5fc25944758122f15376c7f33e",
      "username": "username",
      "version": "5.2"
     }
    }
   },
   "jupyter_react.ececb992-f85a-4813-b7e2-da2fc601d68c.QCircuit": {
    "cellIdx": "1",
    "msg": {
     "buffers": [],
     "channel": "iopub",
     "content": {
      "comm_id": "jupyter_react.ececb992-f85a-4813-b7e2-da2fc601d68c.QCircuit",
      "data": {
       "method": "display"
      }
     },
     "header": {
      "date": "2019-11-18T07:10:59.139759Z",
      "msg_id": "d76763f3-3cd9eb67ef0a1a27c070e7bf",
      "msg_type": "comm_msg",
      "session": "fd5c3ca8-82919b9d5bd891dab3bcf414",
      "username": "username",
      "version": "5.3"
     },
     "metadata": {},
     "msg_id": "d76763f3-3cd9eb67ef0a1a27c070e7bf",
     "msg_type": "comm_msg",
     "parent_header": {
      "date": "2019-11-18T07:10:59.134770Z",
      "msg_id": "dfeeedb6f87b41b08b78676911938b3a",
      "msg_type": "execute_request",
      "session": "85323d5fc25944758122f15376c7f33e",
      "username": "username",
      "version": "5.2"
     }
    }
   },
   "jupyter_react.f0dc38ae-088d-4e8c-8b2a-c07258b91d9a.QCircuit": {
    "cellIdx": "2",
    "msg": {
     "buffers": [],
     "channel": "iopub",
     "content": {
      "comm_id": "jupyter_react.f0dc38ae-088d-4e8c-8b2a-c07258b91d9a.QCircuit",
      "data": {
       "method": "display"
      }
     },
     "header": {
      "date": "2019-11-18T07:38:41.777932Z",
      "msg_id": "46d349a8-a989075bb7a94c0c21e8ff17",
      "msg_type": "comm_msg",
      "session": "eb056738-256996a58f7ebe5ce8b3e2f1",
      "username": "username",
      "version": "5.3"
     },
     "metadata": {},
     "msg_id": "46d349a8-a989075bb7a94c0c21e8ff17",
     "msg_type": "comm_msg",
     "parent_header": {
      "date": "2019-11-18T07:38:41.028180Z",
      "msg_id": "b3f5bb1e8405404792047a53a794baac",
      "msg_type": "execute_request",
      "session": "85323d5fc25944758122f15376c7f33e",
      "username": "username",
      "version": "5.2"
     }
    }
   },
   "jupyter_react.f27d09f3-c724-4034-9ee3-3b97eed64ac4.QCircuit": {
    "cellIdx": "1",
    "msg": {
     "buffers": [],
     "channel": "iopub",
     "content": {
      "comm_id": "jupyter_react.f27d09f3-c724-4034-9ee3-3b97eed64ac4.QCircuit",
      "data": {
       "method": "display"
      }
     },
     "header": {
      "date": "2019-11-18T07:04:36.838795Z",
      "msg_id": "dc60281d-cb42cabf704454fc25524fc0",
      "msg_type": "comm_msg",
      "session": "3feff32d-1674645c196a44b6ca688942",
      "username": "username",
      "version": "5.3"
     },
     "metadata": {},
     "msg_id": "dc60281d-cb42cabf704454fc25524fc0",
     "msg_type": "comm_msg",
     "parent_header": {
      "date": "2019-11-18T07:04:36.833834Z",
      "msg_id": "e50e4af2b17d444d8758c54939c31038",
      "msg_type": "execute_request",
      "session": "85323d5fc25944758122f15376c7f33e",
      "username": "username",
      "version": "5.2"
     }
    }
   },
   "jupyter_react.f43363e8-3312-4195-8319-a80ee47ceb56.QCircuit": {
    "cellIdx": "1",
    "msg": {
     "buffers": [],
     "channel": "iopub",
     "content": {
      "comm_id": "jupyter_react.f43363e8-3312-4195-8319-a80ee47ceb56.QCircuit",
      "data": {
       "method": "display"
      }
     },
     "header": {
      "date": "2019-11-18T07:32:22.186725Z",
      "msg_id": "56c8f4af-c47740572a6798cea6783c2c",
      "msg_type": "comm_msg",
      "session": "689f2e07-77741a3ec3493d4e26830c70",
      "username": "username",
      "version": "5.3"
     },
     "metadata": {},
     "msg_id": "56c8f4af-c47740572a6798cea6783c2c",
     "msg_type": "comm_msg",
     "parent_header": {
      "date": "2019-11-18T07:32:21.104287Z",
      "msg_id": "38bf87fc8f024f7d801d72639709a4a8",
      "msg_type": "execute_request",
      "session": "85323d5fc25944758122f15376c7f33e",
      "username": "username",
      "version": "5.2"
     }
    }
   },
   "jupyter_react.f5966f89-7886-4160-b407-3466a70ff14d.QCircuit": {
    "cellIdx": "5",
    "msg": {
     "buffers": [],
     "channel": "iopub",
     "content": {
      "comm_id": "jupyter_react.f5966f89-7886-4160-b407-3466a70ff14d.QCircuit",
      "data": {
       "method": "display"
      }
     },
     "header": {
      "date": "2019-11-18T07:48:30.991633Z",
      "msg_id": "e9399d45-7603f5c0aa26281c412ca259",
      "msg_type": "comm_msg",
      "session": "88c837d0-45687303c3a81a319c33d39b",
      "username": "username",
      "version": "5.3"
     },
     "metadata": {},
     "msg_id": "e9399d45-7603f5c0aa26281c412ca259",
     "msg_type": "comm_msg",
     "parent_header": {
      "date": "2019-11-18T07:48:30.987672Z",
      "msg_id": "05651976801a4c3c86b69eef3bac9152",
      "msg_type": "execute_request",
      "session": "85323d5fc25944758122f15376c7f33e",
      "username": "username",
      "version": "5.2"
     }
    }
   },
   "jupyter_react.f5970ced-b3f3-4c87-bd08-0a6614ef3a3d.QCircuit": {
    "cellIdx": "5",
    "msg": {
     "buffers": [],
     "channel": "iopub",
     "content": {
      "comm_id": "jupyter_react.f5970ced-b3f3-4c87-bd08-0a6614ef3a3d.QCircuit",
      "data": {
       "method": "display"
      }
     },
     "header": {
      "date": "2019-11-18T08:12:49.143421Z",
      "msg_id": "e7bdfb8f-15edf0ffafccc91e55504c52",
      "msg_type": "comm_msg",
      "session": "33582566-cd62362473da598ecc0eb33b",
      "username": "username",
      "version": "5.3"
     },
     "metadata": {},
     "msg_id": "e7bdfb8f-15edf0ffafccc91e55504c52",
     "msg_type": "comm_msg",
     "parent_header": {
      "date": "2019-11-18T08:12:49.139399Z",
      "msg_id": "d936278b85554f1ab37ee94d89d162bb",
      "msg_type": "execute_request",
      "session": "85323d5fc25944758122f15376c7f33e",
      "username": "username",
      "version": "5.2"
     }
    }
   },
   "jupyter_react.fbf99063-b452-4353-b4fd-88c5dfbe697c.QCircuit": {
    "cellIdx": "3",
    "msg": {
     "buffers": [],
     "channel": "iopub",
     "content": {
      "comm_id": "jupyter_react.fbf99063-b452-4353-b4fd-88c5dfbe697c.QCircuit",
      "data": {
       "method": "display"
      }
     },
     "header": {
      "date": "2019-11-18T07:49:46.715581Z",
      "msg_id": "1ff667fa-132b2d6d42903c8d8124deb9",
      "msg_type": "comm_msg",
      "session": "457159f4-fe146c3a7d3a1e4e0e6922a4",
      "username": "username",
      "version": "5.3"
     },
     "metadata": {},
     "msg_id": "1ff667fa-132b2d6d42903c8d8124deb9",
     "msg_type": "comm_msg",
     "parent_header": {
      "date": "2019-11-18T07:49:46.711592Z",
      "msg_id": "3a6d8a40712244258ed93cd242befd22",
      "msg_type": "execute_request",
      "session": "85323d5fc25944758122f15376c7f33e",
      "username": "username",
      "version": "5.2"
     }
    }
   },
   "jupyter_react.fd84dd1e-dc67-484b-80f1-14b2a099d6da.QCircuit": {
    "cellIdx": "1",
    "msg": {
     "buffers": [],
     "channel": "iopub",
     "content": {
      "comm_id": "jupyter_react.fd84dd1e-dc67-484b-80f1-14b2a099d6da.QCircuit",
      "data": {
       "method": "display"
      }
     },
     "header": {
      "date": "2019-11-18T07:55:48.975712Z",
      "msg_id": "f2cf7de8-ff2f155e02463119fd84579a",
      "msg_type": "comm_msg",
      "session": "b19d42d3-14f39171f67c8769982cbfc2",
      "username": "username",
      "version": "5.3"
     },
     "metadata": {},
     "msg_id": "f2cf7de8-ff2f155e02463119fd84579a",
     "msg_type": "comm_msg",
     "parent_header": {
      "date": "2019-11-18T07:55:48.143402Z",
      "msg_id": "e950eca2066c42f2be4617b1fda4746e",
      "msg_type": "execute_request",
      "session": "85323d5fc25944758122f15376c7f33e",
      "username": "username",
      "version": "5.2"
     }
    }
   }
  }
 },
 "nbformat": 4,
 "nbformat_minor": 2
}
