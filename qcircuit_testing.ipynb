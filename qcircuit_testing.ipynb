{
 "cells": [
  {
   "cell_type": "code",
   "execution_count": null,
   "metadata": {},
   "outputs": [],
   "source": []
  },
  {
   "cell_type": "code",
   "execution_count": null,
   "metadata": {},
   "outputs": [],
   "source": [
    "%load_ext autoreload\n",
    "%autoreload 2\n",
    "from qcircuit import QCircuit, Classic, Qubit, Qureg\n",
    "\n",
    "from projectq import MainEngine  # import the main compiler engine\n",
    "from projectq.ops import X, H, Measure  # import the operations we want to perform (Hadamard and measurement)\n",
    "\n",
    "eng = MainEngine()  # create a default compiler (the back-end is a simulator)"
   ]
  },
  {
   "cell_type": "code",
   "execution_count": 18,
   "metadata": {},
   "outputs": [],
   "source": [
    "circuit = QCircuit(ancilla=Qubit, qregs=(3, ), t5=Classic)\n",
    "circuit"
   ]
  },
  {
   "cell_type": "code",
   "execution_count": null,
   "metadata": {},
   "outputs": [],
   "source": []
  },
  {
   "cell_type": "code",
   "execution_count": null,
   "metadata": {},
   "outputs": [],
   "source": [
    "classic_shit = 4\n",
    "qubit = eng.allocate_qubit()  # allocate 1 qubit\n",
    "my_qureg = eng.allocate_qureg(4)  # allocate 1 qubit\n",
    "\n",
    "circuit(eng, ancilla=qubit, qregs=my_qureg, classic_shit)\n",
    "\n",
    "Measure | my_qureg[0]\n",
    "Measure | my_qureg[1]\n",
    "eng.flush()  # flush all gates (and execute measurements)\n",
    "print(\"Measured {}\".format(int(my_qureg[0])))  # output measurement result\n",
    "print(\"Measured {}\".format(int(my_qureg[1])))  # output measurement result"
   ]
  },
  {
   "cell_type": "code",
   "execution_count": null,
   "metadata": {},
   "outputs": [],
   "source": [
    "q = eng.allocate_qubit()\n",
    "Q = eng.allocate_qureg(8)\n",
    "\n",
    "#X | q\n",
    "#All(H) | Q\n",
    "\n",
    "circuit.run(eng, ancilla=q, qureg=Q)\n",
    "\n",
    "Measure | q  # measure the qubit\n",
    "\n",
    "eng.flush()  # flush all gates (and execute measurements)\n",
    "print(\"Measured {}\".format(int(q)))  # output measurement result"
   ]
  },
  {
   "cell_type": "code",
   "execution_count": null,
   "metadata": {},
   "outputs": [],
   "source": [
    "circuit.circuit_scheme['content']['data']['qschema']"
   ]
  },
  {
   "cell_type": "code",
   "execution_count": null,
   "metadata": {},
   "outputs": [],
   "source": [
    "circuit.setCircuit([[\"\"], [\"\"], [\"X\",\"\",\"\",\"X-0,3\",\"\",\"M\"],[\"\",\"\",\"\",\"\",\"H\"],[\"\",\"Y\"]])"
   ]
  },
  {
   "cell_type": "code",
   "execution_count": null,
   "metadata": {},
   "outputs": [],
   "source": [
    "\"str,4\".split(\",\")"
   ]
  },
  {
   "cell_type": "code",
   "execution_count": null,
   "metadata": {},
   "outputs": [],
   "source": [
    "Out[2]"
   ]
  },
  {
   "cell_type": "code",
   "execution_count": null,
   "metadata": {},
   "outputs": [],
   "source": []
  }
 ],
 "metadata": {
  "anaconda-cloud": {},
  "kernelspec": {
   "display_name": "Python 3",
   "language": "python",
   "name": "python3"
  },
  "language_info": {
   "codemirror_mode": {
    "name": "ipython",
    "version": 3
   },
   "file_extension": ".py",
   "mimetype": "text/x-python",
   "name": "python",
   "nbconvert_exporter": "python",
   "pygments_lexer": "ipython3",
   "version": "3.7.1"
  }
 },
 "nbformat": 4,
 "nbformat_minor": 1
}
